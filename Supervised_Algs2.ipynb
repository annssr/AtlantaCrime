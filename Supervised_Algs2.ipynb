{
 "cells": [
  {
   "cell_type": "markdown",
   "metadata": {},
   "source": [
    "# Atlanta Crime - Supervised Learning"
   ]
  },
  {
   "cell_type": "markdown",
   "metadata": {},
   "source": [
    "## Description\n",
    "In this part of the project, we will use supervised learning algorithms, namely, Decision Trees/Random Forests, SVM, and Logistic Regression algorithms to predict crime score for a given location and time."
   ]
  },
  {
   "cell_type": "markdown",
   "metadata": {},
   "source": [
    "## Import Packages"
   ]
  },
  {
   "cell_type": "code",
   "execution_count": 44,
   "metadata": {},
   "outputs": [],
   "source": [
    "import pandas as pd\n",
    "from sklearn.tree import DecisionTreeClassifier # Import Decision Tree Classifier\n",
    "from sklearn.tree import plot_tree\n",
    "from sklearn.tree.export import export_text\n",
    "from sklearn.model_selection import train_test_split # Import train_test_split function\n",
    "from sklearn import metrics #Import scikit-learn metrics module for accuracy calculation\n",
    "from sklearn import preprocessing\n",
    "from sklearn.ensemble import RandomForestClassifier\n",
    "from sklearn.naive_bayes import GaussianNB\n",
    "from sklearn.svm import SVC\n",
    "import datetime\n",
    "import random\n",
    "import numpy as np"
   ]
  },
  {
   "cell_type": "markdown",
   "metadata": {},
   "source": [
    "## Load in Data"
   ]
  },
  {
   "cell_type": "code",
   "execution_count": 9,
   "metadata": {},
   "outputs": [
    {
     "data": {
      "text/html": [
       "<div>\n",
       "<style scoped>\n",
       "    .dataframe tbody tr th:only-of-type {\n",
       "        vertical-align: middle;\n",
       "    }\n",
       "\n",
       "    .dataframe tbody tr th {\n",
       "        vertical-align: top;\n",
       "    }\n",
       "\n",
       "    .dataframe thead th {\n",
       "        text-align: right;\n",
       "    }\n",
       "</style>\n",
       "<table border=\"1\" class=\"dataframe\">\n",
       "  <thead>\n",
       "    <tr style=\"text-align: right;\">\n",
       "      <th></th>\n",
       "      <th>UCR #</th>\n",
       "      <th>Neighborhood</th>\n",
       "      <th>Shift Occurence</th>\n",
       "      <th>Day of Week</th>\n",
       "      <th>Month</th>\n",
       "    </tr>\n",
       "  </thead>\n",
       "  <tbody>\n",
       "    <tr>\n",
       "      <th>0</th>\n",
       "      <td>630</td>\n",
       "      <td>Greenbriar</td>\n",
       "      <td>Day</td>\n",
       "      <td>3</td>\n",
       "      <td>1</td>\n",
       "    </tr>\n",
       "    <tr>\n",
       "      <th>1</th>\n",
       "      <td>630</td>\n",
       "      <td>Downtown</td>\n",
       "      <td>Day</td>\n",
       "      <td>3</td>\n",
       "      <td>1</td>\n",
       "    </tr>\n",
       "    <tr>\n",
       "      <th>2</th>\n",
       "      <td>630</td>\n",
       "      <td>Lenox</td>\n",
       "      <td>Day</td>\n",
       "      <td>3</td>\n",
       "      <td>1</td>\n",
       "    </tr>\n",
       "    <tr>\n",
       "      <th>3</th>\n",
       "      <td>630</td>\n",
       "      <td>Greenbriar</td>\n",
       "      <td>Evening</td>\n",
       "      <td>3</td>\n",
       "      <td>1</td>\n",
       "    </tr>\n",
       "    <tr>\n",
       "      <th>4</th>\n",
       "      <td>630</td>\n",
       "      <td>Edgewood</td>\n",
       "      <td>Evening</td>\n",
       "      <td>3</td>\n",
       "      <td>1</td>\n",
       "    </tr>\n",
       "  </tbody>\n",
       "</table>\n",
       "</div>"
      ],
      "text/plain": [
       "   UCR # Neighborhood Shift Occurence  Day of Week  Month\n",
       "0    630   Greenbriar             Day            3      1\n",
       "1    630     Downtown             Day            3      1\n",
       "2    630        Lenox             Day            3      1\n",
       "3    630   Greenbriar         Evening            3      1\n",
       "4    630     Edgewood         Evening            3      1"
      ]
     },
     "execution_count": 9,
     "metadata": {},
     "output_type": "execute_result"
    }
   ],
   "source": [
    "# data = pd.read_csv(\"data/examples/cobra_example_10.csv\") #, sep=',', header=0, engine='python', usecols = lambda column : column in [\"Neighborhood\", \"Month\", \"Day\", \"Shift\"])\n",
    "training_data = pd.read_csv(\"cobra-clean.csv\", sep=',', header=0, usecols = lambda column : column in [\"Occur Date\", \"Neighborhood\", \"Shift Occurence\", \"Shift\", \"UCR #\"])\n",
    "\n",
    "def day_of_week(row):\n",
    "    cur_date = row['Occur Date']\n",
    "    year, month, day = (int(x) for x in cur_date.split('-'))\n",
    "    dt = datetime.date(year, month, day)\n",
    "    return(dt.weekday())\n",
    "\n",
    "def month(row):\n",
    "    cur_date = row['Occur Date']\n",
    "    year, month, day = (int(x) for x in cur_date.split('-'))\n",
    "    return month\n",
    "\n",
    "training_data['Day of Week'] = training_data.apply(lambda row: day_of_week (row), axis=1)\n",
    "training_data['Month'] = training_data.apply(lambda row: month (row), axis=1)\n",
    "training_data = training_data.drop(['Occur Date'], 1)\n",
    "\n",
    "# range(0 - 1000)\n",
    "# two decimal places\n",
    "# training_data['Crime Score'] = training_data.apply(lambda row: random.randint(0 * 100, 1000 * 100), axis=1)\n",
    "\n",
    "training_data.head()"
   ]
  },
  {
   "cell_type": "code",
   "execution_count": 10,
   "metadata": {},
   "outputs": [
    {
     "data": {
      "text/html": [
       "<div>\n",
       "<style scoped>\n",
       "    .dataframe tbody tr th:only-of-type {\n",
       "        vertical-align: middle;\n",
       "    }\n",
       "\n",
       "    .dataframe tbody tr th {\n",
       "        vertical-align: top;\n",
       "    }\n",
       "\n",
       "    .dataframe thead th {\n",
       "        text-align: right;\n",
       "    }\n",
       "</style>\n",
       "<table border=\"1\" class=\"dataframe\">\n",
       "  <thead>\n",
       "    <tr style=\"text-align: right;\">\n",
       "      <th></th>\n",
       "      <th>UCR #</th>\n",
       "      <th>Neighborhood</th>\n",
       "      <th>Shift Occurence</th>\n",
       "      <th>Day of Week</th>\n",
       "      <th>Month</th>\n",
       "    </tr>\n",
       "  </thead>\n",
       "  <tbody>\n",
       "    <tr>\n",
       "      <th>29918</th>\n",
       "      <td>640</td>\n",
       "      <td>Blandtown</td>\n",
       "      <td>Evening</td>\n",
       "      <td>3</td>\n",
       "      <td>10</td>\n",
       "    </tr>\n",
       "    <tr>\n",
       "      <th>29919</th>\n",
       "      <td>640</td>\n",
       "      <td>Downtown</td>\n",
       "      <td>Day</td>\n",
       "      <td>3</td>\n",
       "      <td>10</td>\n",
       "    </tr>\n",
       "    <tr>\n",
       "      <th>29920</th>\n",
       "      <td>640</td>\n",
       "      <td>Virginia Highland</td>\n",
       "      <td>Evening</td>\n",
       "      <td>3</td>\n",
       "      <td>10</td>\n",
       "    </tr>\n",
       "    <tr>\n",
       "      <th>29921</th>\n",
       "      <td>640</td>\n",
       "      <td>Lenox</td>\n",
       "      <td>Evening</td>\n",
       "      <td>3</td>\n",
       "      <td>10</td>\n",
       "    </tr>\n",
       "    <tr>\n",
       "      <th>29922</th>\n",
       "      <td>640</td>\n",
       "      <td>Buckhead Village</td>\n",
       "      <td>Evening</td>\n",
       "      <td>3</td>\n",
       "      <td>10</td>\n",
       "    </tr>\n",
       "  </tbody>\n",
       "</table>\n",
       "</div>"
      ],
      "text/plain": [
       "       UCR #       Neighborhood Shift Occurence  Day of Week  Month\n",
       "29918    640          Blandtown         Evening            3     10\n",
       "29919    640           Downtown             Day            3     10\n",
       "29920    640  Virginia Highland         Evening            3     10\n",
       "29921    640              Lenox         Evening            3     10\n",
       "29922    640   Buckhead Village         Evening            3     10"
      ]
     },
     "execution_count": 10,
     "metadata": {},
     "output_type": "execute_result"
    }
   ],
   "source": [
    "\"\"\"\n",
    "# data = pd.read_csv(\"data/examples/cobra_example_10.csv\") #, sep=',', header=0, engine='python', usecols = lambda column : column in [\"Neighborhood\", \"Month\", \"Day\", \"Shift\"])\n",
    "test_data = pd.read_csv(\"asdf.csv\", sep=',', header=0, usecols = lambda column : column in [\"Occur Date\", \"Neighborhood\", \"Shift Occurence\"])\n",
    "\n",
    "def day_of_week(row):\n",
    "    cur_date = row['Occur Date']\n",
    "    year, month, day = (int(x) for x in cur_date.split('-'))\n",
    "    dt = datetime.date(year, month, day)\n",
    "    return(dt.weekday())\n",
    "\n",
    "def month(row):\n",
    "    cur_date = row['Occur Date']\n",
    "    year, month, day = (int(x) for x in cur_date.split('-'))\n",
    "    return month\n",
    "\n",
    "test_data['Day of Week'] = test_data.apply(lambda row: day_of_week (row), axis=1)\n",
    "test_data['Month'] = test_data.apply(lambda row: month (row), axis=1)\n",
    "test_data = test_data.drop(['Occur Date'], 1)\n",
    "\n",
    "# range(0 - 1000)\n",
    "# two decimal places\n",
    "test_data['Crime Score'] = test_data.apply(lambda row: random.randint(0 * 100, 1000 * 100), axis=1)\n",
    "\"\"\"\n",
    "\n",
    "test_data = training_data[int(0.10 * len(training_data)):]\n",
    "training_data = training_data[:int(0.10 * len(training_data))]\n",
    "\n",
    "test_data.head()"
   ]
  },
  {
   "cell_type": "markdown",
   "metadata": {},
   "source": [
    "## Decision Tree Model"
   ]
  },
  {
   "cell_type": "markdown",
   "metadata": {},
   "source": [
    "### Transforming the data"
   ]
  },
  {
   "cell_type": "code",
   "execution_count": 11,
   "metadata": {},
   "outputs": [
    {
     "data": {
      "text/html": [
       "<div>\n",
       "<style scoped>\n",
       "    .dataframe tbody tr th:only-of-type {\n",
       "        vertical-align: middle;\n",
       "    }\n",
       "\n",
       "    .dataframe tbody tr th {\n",
       "        vertical-align: top;\n",
       "    }\n",
       "\n",
       "    .dataframe thead th {\n",
       "        text-align: right;\n",
       "    }\n",
       "</style>\n",
       "<table border=\"1\" class=\"dataframe\">\n",
       "  <thead>\n",
       "    <tr style=\"text-align: right;\">\n",
       "      <th></th>\n",
       "      <th>UCR #</th>\n",
       "      <th>Neighborhood</th>\n",
       "      <th>Shift Occurence</th>\n",
       "      <th>Day of Week</th>\n",
       "      <th>Month</th>\n",
       "    </tr>\n",
       "  </thead>\n",
       "  <tbody>\n",
       "    <tr>\n",
       "      <th>0</th>\n",
       "      <td>630</td>\n",
       "      <td>84</td>\n",
       "      <td>0</td>\n",
       "      <td>3</td>\n",
       "      <td>1</td>\n",
       "    </tr>\n",
       "    <tr>\n",
       "      <th>1</th>\n",
       "      <td>630</td>\n",
       "      <td>63</td>\n",
       "      <td>0</td>\n",
       "      <td>3</td>\n",
       "      <td>1</td>\n",
       "    </tr>\n",
       "    <tr>\n",
       "      <th>2</th>\n",
       "      <td>630</td>\n",
       "      <td>108</td>\n",
       "      <td>0</td>\n",
       "      <td>3</td>\n",
       "      <td>1</td>\n",
       "    </tr>\n",
       "    <tr>\n",
       "      <th>3</th>\n",
       "      <td>630</td>\n",
       "      <td>84</td>\n",
       "      <td>1</td>\n",
       "      <td>3</td>\n",
       "      <td>1</td>\n",
       "    </tr>\n",
       "    <tr>\n",
       "      <th>4</th>\n",
       "      <td>630</td>\n",
       "      <td>69</td>\n",
       "      <td>1</td>\n",
       "      <td>3</td>\n",
       "      <td>1</td>\n",
       "    </tr>\n",
       "  </tbody>\n",
       "</table>\n",
       "</div>"
      ],
      "text/plain": [
       "   UCR #  Neighborhood  Shift Occurence  Day of Week  Month\n",
       "0    630            84                0            3      1\n",
       "1    630            63                0            3      1\n",
       "2    630           108                0            3      1\n",
       "3    630            84                1            3      1\n",
       "4    630            69                1            3      1"
      ]
     },
     "execution_count": 11,
     "metadata": {},
     "output_type": "execute_result"
    }
   ],
   "source": [
    "le = preprocessing.LabelEncoder()\n",
    "le.fit(training_data[\"Neighborhood\"])\n",
    "training_data[\"Neighborhood\"] = le.transform(training_data[\"Neighborhood\"])\n",
    "le.fit(training_data[\"Shift Occurence\"])\n",
    "training_data[\"Shift Occurence\"] = le.transform(training_data[\"Shift Occurence\"])\n",
    "\n",
    "training_data.head()"
   ]
  },
  {
   "cell_type": "code",
   "execution_count": 12,
   "metadata": {},
   "outputs": [
    {
     "data": {
      "text/html": [
       "<div>\n",
       "<style scoped>\n",
       "    .dataframe tbody tr th:only-of-type {\n",
       "        vertical-align: middle;\n",
       "    }\n",
       "\n",
       "    .dataframe tbody tr th {\n",
       "        vertical-align: top;\n",
       "    }\n",
       "\n",
       "    .dataframe thead th {\n",
       "        text-align: right;\n",
       "    }\n",
       "</style>\n",
       "<table border=\"1\" class=\"dataframe\">\n",
       "  <thead>\n",
       "    <tr style=\"text-align: right;\">\n",
       "      <th></th>\n",
       "      <th>UCR #</th>\n",
       "      <th>Neighborhood</th>\n",
       "      <th>Shift Occurence</th>\n",
       "      <th>Day of Week</th>\n",
       "      <th>Month</th>\n",
       "    </tr>\n",
       "  </thead>\n",
       "  <tbody>\n",
       "    <tr>\n",
       "      <th>29918</th>\n",
       "      <td>640</td>\n",
       "      <td>24</td>\n",
       "      <td>1</td>\n",
       "      <td>3</td>\n",
       "      <td>10</td>\n",
       "    </tr>\n",
       "    <tr>\n",
       "      <th>29919</th>\n",
       "      <td>640</td>\n",
       "      <td>64</td>\n",
       "      <td>0</td>\n",
       "      <td>3</td>\n",
       "      <td>10</td>\n",
       "    </tr>\n",
       "    <tr>\n",
       "      <th>29920</th>\n",
       "      <td>640</td>\n",
       "      <td>182</td>\n",
       "      <td>1</td>\n",
       "      <td>3</td>\n",
       "      <td>10</td>\n",
       "    </tr>\n",
       "    <tr>\n",
       "      <th>29921</th>\n",
       "      <td>640</td>\n",
       "      <td>111</td>\n",
       "      <td>1</td>\n",
       "      <td>3</td>\n",
       "      <td>10</td>\n",
       "    </tr>\n",
       "    <tr>\n",
       "      <th>29922</th>\n",
       "      <td>640</td>\n",
       "      <td>36</td>\n",
       "      <td>1</td>\n",
       "      <td>3</td>\n",
       "      <td>10</td>\n",
       "    </tr>\n",
       "  </tbody>\n",
       "</table>\n",
       "</div>"
      ],
      "text/plain": [
       "       UCR #  Neighborhood  Shift Occurence  Day of Week  Month\n",
       "29918    640            24                1            3     10\n",
       "29919    640            64                0            3     10\n",
       "29920    640           182                1            3     10\n",
       "29921    640           111                1            3     10\n",
       "29922    640            36                1            3     10"
      ]
     },
     "execution_count": 12,
     "metadata": {},
     "output_type": "execute_result"
    }
   ],
   "source": [
    "le = preprocessing.LabelEncoder()\n",
    "le.fit(test_data[\"Neighborhood\"])\n",
    "test_data[\"Neighborhood\"] = le.transform(test_data[\"Neighborhood\"])\n",
    "le.fit(test_data[\"Shift Occurence\"])\n",
    "test_data[\"Shift Occurence\"] = le.transform(test_data[\"Shift Occurence\"])\n",
    "\n",
    "test_data.head()"
   ]
  },
  {
   "cell_type": "code",
   "execution_count": 16,
   "metadata": {},
   "outputs": [],
   "source": [
    "# Reading data & split into training and testing sets\n",
    "# X = data.drop(['Crime Score'], 1)\n",
    "# print(X)\n",
    "# y = data['Crime Score']\n",
    "# print(y)\n",
    "\n",
    "# X_train, X_test, y_train, y_test = train_test_split(X, y, test_size = 0.3, random_state=100)\n",
    "# Geeksforgeeks: \"random_state\" variable is a pseudo-random number generator state used for random sampling\n",
    "\n",
    "# X_train = X[:int(len(X) * 0.7)]\n",
    "# X_test = X[int(len(X) * 0.7):]\n",
    "# y_train = y[:int(len(y) * 0.7)]\n",
    "# y_test = y[int(len(y) * 0.7):]\n",
    "\n",
    "X_train = training_data.drop(['UCR #'], 1)\n",
    "y_train = training_data['UCR #']\n",
    "X_test = test_data.drop(['UCR #'], 1)\n",
    "y_test = test_data['UCR #']"
   ]
  },
  {
   "cell_type": "code",
   "execution_count": 21,
   "metadata": {},
   "outputs": [],
   "source": [
    "# Model Definition & Fitting\n",
    "dt_clf = DecisionTreeClassifier()\n",
    "dt_clf = dt_clf.fit(X_train[:int(len(X_train))], y_train[:int(len(y_train))])\n",
    "\n",
    "# Predict based on the given features for the test set\n",
    "dt_y_pred = dt_clf.predict(X_test[:int(len(X_test))])\n",
    "dt_predictions_probability = dt_clf.predict_proba(X_test[:int(len(X_test))])"
   ]
  },
  {
   "cell_type": "markdown",
   "metadata": {},
   "source": [
    "### Decision Tree Metrics & Plots"
   ]
  },
  {
   "cell_type": "code",
   "execution_count": 46,
   "metadata": {},
   "outputs": [
    {
     "name": "stdout",
     "output_type": "stream",
     "text": [
      "Accuracy: 0.34992683705832983\n"
     ]
    }
   ],
   "source": [
    "# Accuracy within range\n",
    "count = 0\n",
    "i = 0\n",
    "for keys in y_test:\n",
    "    if np.absolute(keys - dt_y_pred[i]) <= 50:\n",
    "        count += 1\n",
    "    i += 1\n",
    "print(\"Accuracy:\", count / int(len(y_test)))"
   ]
  },
  {
   "cell_type": "code",
   "execution_count": 49,
   "metadata": {},
   "outputs": [
    {
     "name": "stdout",
     "output_type": "stream",
     "text": [
      "Accuracy: 0.12738150945918844\n"
     ]
    }
   ],
   "source": [
    "# Classification Metrics\n",
    "print(\"Accuracy:\",metrics.accuracy_score(y_test[:int(len(y_test))], dt_y_pred))\n",
    "# print(\"Precision:\",metrics.precision_score(y_test[:int(len(y_test) * 0.25)], dt_y_pred))\n",
    "# print(\"Recall:\",metrics.recall_score(y_test[:int(len(y_test) * 0.25)], dt_y_pred))\n",
    "\n",
    "# # Compare to the actual labels\n",
    "# '''Insert comparison methods here'''\n",
    "\n",
    "# Plot the tree\n",
    "# plot_tree(dt_clf)\n",
    "\n",
    "# # Export a text file containing the rules for the decision tree\n",
    "# '''decision_tree = DecisionTreeClassifier(random_state=0, max_depth=2) # \n",
    "# decision_tree = decision_tree.fit(X, Y)\n",
    "# r = export_text(decision_tree, feature_names=iris['feature_names'])\n",
    "# print(r)'''"
   ]
  },
  {
   "cell_type": "markdown",
   "metadata": {},
   "source": [
    "## Random Forest Model"
   ]
  },
  {
   "cell_type": "code",
   "execution_count": 33,
   "metadata": {},
   "outputs": [],
   "source": [
    "# Source: https://www.datacamp.com/community/tutorials/random-forests-classifier-python\n",
    "\n",
    "# Keeps on prompting a restart of the kernel\n",
    "\n",
    "# Create a Gaussian Classifier\n",
    "rf_clf = RandomForestClassifier(n_estimators=100)\n",
    "\n",
    "# Train the model using the training sets y_pred=clf.predict(X_test)\n",
    "rf_clf = rf_clf.fit(X_train[:int(len(X_train))], y_train[:int(len(y_train))])\n",
    "\n",
    "rf_y_pred = rf_clf.predict(X_test[:int(len(X_test))])\n",
    "rf_predictions_probability = rf_clf.predict_proba(X_test[:int(len(X_test))])"
   ]
  },
  {
   "cell_type": "code",
   "execution_count": 51,
   "metadata": {},
   "outputs": [
    {
     "name": "stdout",
     "output_type": "stream",
     "text": [
      "Accuracy: 0.34992683705832983\n"
     ]
    }
   ],
   "source": [
    "# Accuracy within range\n",
    "count = 0\n",
    "i = 0\n",
    "for keys in y_test:\n",
    "    if np.absolute(keys - dt_y_pred[i]) <= 50:\n",
    "        count += 1\n",
    "    i += 1\n",
    "print(\"Accuracy:\", count / int(len(y_test)))"
   ]
  },
  {
   "cell_type": "code",
   "execution_count": 50,
   "metadata": {},
   "outputs": [
    {
     "name": "stdout",
     "output_type": "stream",
     "text": [
      "Accuracy: 0.14462865164783742\n"
     ]
    }
   ],
   "source": [
    "# Classification Metrics\n",
    "print(\"Accuracy:\",metrics.accuracy_score(y_test[:int(len(y_test))], rf_y_pred))"
   ]
  },
  {
   "cell_type": "markdown",
   "metadata": {},
   "source": [
    "## NBC Model"
   ]
  },
  {
   "cell_type": "code",
   "execution_count": 55,
   "metadata": {},
   "outputs": [],
   "source": [
    "gnb = GaussianNB()\n",
    "gnb = gnb.fit(X_train[:int(len(X_train))], y_train[:int(len(y_train))])\n",
    "\n",
    "nbc_y_pred = gnb.predict(X_test[:int(len(X_test))])\n",
    "nbc_predictions_probability = gnb.predict_proba(X_test[:int(len(X_test))])"
   ]
  },
  {
   "cell_type": "code",
   "execution_count": 56,
   "metadata": {},
   "outputs": [
    {
     "name": "stdout",
     "output_type": "stream",
     "text": [
      "Accuracy: 0.42022639659513783\n"
     ]
    }
   ],
   "source": [
    "# Accuracy within range\n",
    "count = 0\n",
    "i = 0\n",
    "for keys in y_test:\n",
    "    if np.absolute(keys - nbc_y_pred[i]) <= 50:\n",
    "        count += 1\n",
    "    i += 1\n",
    "print(\"Accuracy:\", count / int(len(y_test)))"
   ]
  },
  {
   "cell_type": "code",
   "execution_count": null,
   "metadata": {},
   "outputs": [],
   "source": [
    "# Classification Metrics\n",
    "print(\"Accuracy:\",metrics.accuracy_score(y_test[:int(len(y_test))], nbc_y_pred))"
   ]
  },
  {
   "cell_type": "markdown",
   "metadata": {},
   "source": [
    "## SVM Model"
   ]
  },
  {
   "cell_type": "code",
   "execution_count": 57,
   "metadata": {},
   "outputs": [
    {
     "ename": "AttributeError",
     "evalue": "predict_proba is not available when  probability=False",
     "output_type": "error",
     "traceback": [
      "\u001b[0;31m---------------------------------------------------------------------------\u001b[0m",
      "\u001b[0;31mAttributeError\u001b[0m                            Traceback (most recent call last)",
      "\u001b[0;32m<ipython-input-57-8e0ab2fc6117>\u001b[0m in \u001b[0;36m<module>\u001b[0;34m\u001b[0m\n\u001b[1;32m      3\u001b[0m \u001b[0;34m\u001b[0m\u001b[0m\n\u001b[1;32m      4\u001b[0m \u001b[0msvm_y_pred\u001b[0m \u001b[0;34m=\u001b[0m \u001b[0msvm_clf\u001b[0m\u001b[0;34m.\u001b[0m\u001b[0mpredict\u001b[0m\u001b[0;34m(\u001b[0m\u001b[0mX_test\u001b[0m\u001b[0;34m[\u001b[0m\u001b[0;34m:\u001b[0m\u001b[0mint\u001b[0m\u001b[0;34m(\u001b[0m\u001b[0mlen\u001b[0m\u001b[0;34m(\u001b[0m\u001b[0mX_test\u001b[0m\u001b[0;34m)\u001b[0m\u001b[0;34m)\u001b[0m\u001b[0;34m]\u001b[0m\u001b[0;34m)\u001b[0m\u001b[0;34m\u001b[0m\u001b[0;34m\u001b[0m\u001b[0m\n\u001b[0;32m----> 5\u001b[0;31m \u001b[0msvm_predictions_probability\u001b[0m \u001b[0;34m=\u001b[0m \u001b[0msvm_clf\u001b[0m\u001b[0;34m.\u001b[0m\u001b[0mpredict_proba\u001b[0m\u001b[0;34m(\u001b[0m\u001b[0mX_test\u001b[0m\u001b[0;34m[\u001b[0m\u001b[0;34m:\u001b[0m\u001b[0mint\u001b[0m\u001b[0;34m(\u001b[0m\u001b[0mlen\u001b[0m\u001b[0;34m(\u001b[0m\u001b[0mX_test\u001b[0m\u001b[0;34m)\u001b[0m\u001b[0;34m)\u001b[0m\u001b[0;34m]\u001b[0m\u001b[0;34m)\u001b[0m\u001b[0;34m\u001b[0m\u001b[0;34m\u001b[0m\u001b[0m\n\u001b[0m",
      "\u001b[0;32m//anaconda3/lib/python3.7/site-packages/sklearn/svm/base.py\u001b[0m in \u001b[0;36mpredict_proba\u001b[0;34m(self)\u001b[0m\n\u001b[1;32m    614\u001b[0m         \u001b[0mdatasets\u001b[0m\u001b[0;34m.\u001b[0m\u001b[0;34m\u001b[0m\u001b[0;34m\u001b[0m\u001b[0m\n\u001b[1;32m    615\u001b[0m         \"\"\"\n\u001b[0;32m--> 616\u001b[0;31m         \u001b[0mself\u001b[0m\u001b[0;34m.\u001b[0m\u001b[0m_check_proba\u001b[0m\u001b[0;34m(\u001b[0m\u001b[0;34m)\u001b[0m\u001b[0;34m\u001b[0m\u001b[0;34m\u001b[0m\u001b[0m\n\u001b[0m\u001b[1;32m    617\u001b[0m         \u001b[0;32mreturn\u001b[0m \u001b[0mself\u001b[0m\u001b[0;34m.\u001b[0m\u001b[0m_predict_proba\u001b[0m\u001b[0;34m\u001b[0m\u001b[0;34m\u001b[0m\u001b[0m\n\u001b[1;32m    618\u001b[0m \u001b[0;34m\u001b[0m\u001b[0m\n",
      "\u001b[0;32m//anaconda3/lib/python3.7/site-packages/sklearn/svm/base.py\u001b[0m in \u001b[0;36m_check_proba\u001b[0;34m(self)\u001b[0m\n\u001b[1;32m    581\u001b[0m     \u001b[0;32mdef\u001b[0m \u001b[0m_check_proba\u001b[0m\u001b[0;34m(\u001b[0m\u001b[0mself\u001b[0m\u001b[0;34m)\u001b[0m\u001b[0;34m:\u001b[0m\u001b[0;34m\u001b[0m\u001b[0;34m\u001b[0m\u001b[0m\n\u001b[1;32m    582\u001b[0m         \u001b[0;32mif\u001b[0m \u001b[0;32mnot\u001b[0m \u001b[0mself\u001b[0m\u001b[0;34m.\u001b[0m\u001b[0mprobability\u001b[0m\u001b[0;34m:\u001b[0m\u001b[0;34m\u001b[0m\u001b[0;34m\u001b[0m\u001b[0m\n\u001b[0;32m--> 583\u001b[0;31m             raise AttributeError(\"predict_proba is not available when \"\n\u001b[0m\u001b[1;32m    584\u001b[0m                                  \" probability=False\")\n\u001b[1;32m    585\u001b[0m         \u001b[0;32mif\u001b[0m \u001b[0mself\u001b[0m\u001b[0;34m.\u001b[0m\u001b[0m_impl\u001b[0m \u001b[0;32mnot\u001b[0m \u001b[0;32min\u001b[0m \u001b[0;34m(\u001b[0m\u001b[0;34m'c_svc'\u001b[0m\u001b[0;34m,\u001b[0m \u001b[0;34m'nu_svc'\u001b[0m\u001b[0;34m)\u001b[0m\u001b[0;34m:\u001b[0m\u001b[0;34m\u001b[0m\u001b[0;34m\u001b[0m\u001b[0m\n",
      "\u001b[0;31mAttributeError\u001b[0m: predict_proba is not available when  probability=False"
     ]
    }
   ],
   "source": [
    "svm_clf = SVC(gamma='auto')\n",
    "svm_clf = svm_clf.fit(X_train[:int(len(X_train))], y_train[:int(len(y_train))])\n",
    "\n",
    "svm_y_pred = svm_clf.predict(X_test[:int(len(X_test))])\n",
    "svm_predictions_probability = svm_clf.predict_proba(X_test[:int(len(X_test))])"
   ]
  },
  {
   "cell_type": "code",
   "execution_count": null,
   "metadata": {},
   "outputs": [],
   "source": [
    "# Accuracy within range\n",
    "count = 0\n",
    "i = 0\n",
    "for keys in y_test:\n",
    "    if np.absolute(keys - svm_y_pred[i]) <= 50:\n",
    "        count += 1\n",
    "    i += 1\n",
    "print(\"Accuracy:\", count / int(len(y_test)))"
   ]
  },
  {
   "cell_type": "code",
   "execution_count": null,
   "metadata": {},
   "outputs": [],
   "source": [
    "# Classification Metrics\n",
    "print(\"Accuracy:\",metrics.accuracy_score(y_test[:int(len(y_test))], svm_y_pred))"
   ]
  },
  {
   "cell_type": "code",
   "execution_count": null,
   "metadata": {},
   "outputs": [],
   "source": []
  }
 ],
 "metadata": {
  "kernelspec": {
   "display_name": "Python 3",
   "language": "python",
   "name": "python3"
  },
  "language_info": {
   "codemirror_mode": {
    "name": "ipython",
    "version": 3
   },
   "file_extension": ".py",
   "mimetype": "text/x-python",
   "name": "python",
   "nbconvert_exporter": "python",
   "pygments_lexer": "ipython3",
   "version": "3.7.2"
  }
 },
 "nbformat": 4,
 "nbformat_minor": 4
}
