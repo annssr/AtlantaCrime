{
 "cells": [
  {
   "cell_type": "markdown",
   "metadata": {},
   "source": [
    "# Atlanta Crime - Supervised Learning"
   ]
  },
  {
   "cell_type": "markdown",
   "metadata": {},
   "source": [
    "## Description\n",
    "In this part of the project, we will use supervised learning algorithms, namely, Decision Trees, Random Forests, NBC, SVM, and Logistic Regression algorithms to predict crime score for a given location and time."
   ]
  },
  {
   "cell_type": "markdown",
   "metadata": {},
   "source": [
    "## Import Packages"
   ]
  },
  {
   "cell_type": "code",
   "execution_count": 565,
   "metadata": {},
   "outputs": [],
   "source": [
    "import pandas as pd\n",
    "\n",
    "# from sklearn.tree import plot_tree\n",
    "# from sklearn.tree.export import export_text\n",
    "# from sklearn.model_selection import train_test_split # Import train_test_split function\n",
    "\n",
    "# Preprocessing, Metrics\n",
    "from sklearn import preprocessing\n",
    "from sklearn import metrics #Import scikit-learn metrics module for accuracy calculation\n",
    "\n",
    "# Classifiers, Regressions for DT, RF, NB, SV, LogReg, LinReg\n",
    "from sklearn.tree import DecisionTreeClassifier # Import Decision Tree Classifier\n",
    "from sklearn.tree import DecisionTreeRegressor\n",
    "\n",
    "from sklearn.ensemble import RandomForestClassifier\n",
    "from sklearn.ensemble import RandomForestRegressor\n",
    "\n",
    "from sklearn.naive_bayes import GaussianNB\n",
    "from sklearn.linear_model import BayesianRidge\n",
    "\n",
    "from sklearn.svm import SVC\n",
    "from sklearn.svm import SVR\n",
    "\n",
    "from sklearn.linear_model import LogisticRegression\n",
    "\n",
    "from sklearn.linear_model import LinearRegression\n",
    "\n",
    "# Other imports\n",
    "import datetime\n",
    "import random\n",
    "import numpy as np\n",
    "import time\n",
    "import matplotlib.pyplot as plt"
   ]
  },
  {
   "cell_type": "markdown",
   "metadata": {},
   "source": [
    "## Load in Data"
   ]
  },
  {
   "cell_type": "code",
   "execution_count": 164,
   "metadata": {},
   "outputs": [
    {
     "data": {
      "text/html": [
       "<div>\n",
       "<style scoped>\n",
       "    .dataframe tbody tr th:only-of-type {\n",
       "        vertical-align: middle;\n",
       "    }\n",
       "\n",
       "    .dataframe tbody tr th {\n",
       "        vertical-align: top;\n",
       "    }\n",
       "\n",
       "    .dataframe thead th {\n",
       "        text-align: right;\n",
       "    }\n",
       "</style>\n",
       "<table border=\"1\" class=\"dataframe\">\n",
       "  <thead>\n",
       "    <tr style=\"text-align: right;\">\n",
       "      <th></th>\n",
       "      <th>Neighborhood</th>\n",
       "      <th>Month</th>\n",
       "      <th>Day</th>\n",
       "      <th>Shift</th>\n",
       "      <th>Crime Score</th>\n",
       "    </tr>\n",
       "  </thead>\n",
       "  <tbody>\n",
       "    <tr>\n",
       "      <th>35027</th>\n",
       "      <td>Peachtree Heights East</td>\n",
       "      <td>12</td>\n",
       "      <td>6</td>\n",
       "      <td>Evening</td>\n",
       "      <td>0</td>\n",
       "    </tr>\n",
       "    <tr>\n",
       "      <th>17479</th>\n",
       "      <td>East Lake</td>\n",
       "      <td>5</td>\n",
       "      <td>2</td>\n",
       "      <td>Day</td>\n",
       "      <td>32</td>\n",
       "    </tr>\n",
       "    <tr>\n",
       "      <th>47585</th>\n",
       "      <td>West Paces Ferry/Northside</td>\n",
       "      <td>10</td>\n",
       "      <td>6</td>\n",
       "      <td>Evening</td>\n",
       "      <td>13</td>\n",
       "    </tr>\n",
       "    <tr>\n",
       "      <th>32850</th>\n",
       "      <td>Oakcliff</td>\n",
       "      <td>5</td>\n",
       "      <td>2</td>\n",
       "      <td>Morning</td>\n",
       "      <td>0</td>\n",
       "    </tr>\n",
       "    <tr>\n",
       "      <th>25932</th>\n",
       "      <td>Just Us</td>\n",
       "      <td>11</td>\n",
       "      <td>6</td>\n",
       "      <td>Morning</td>\n",
       "      <td>0</td>\n",
       "    </tr>\n",
       "  </tbody>\n",
       "</table>\n",
       "</div>"
      ],
      "text/plain": [
       "                     Neighborhood  Month  Day    Shift  Crime Score\n",
       "35027      Peachtree Heights East     12    6  Evening            0\n",
       "17479                   East Lake      5    2      Day           32\n",
       "47585  West Paces Ferry/Northside     10    6  Evening           13\n",
       "32850                    Oakcliff      5    2  Morning            0\n",
       "25932                     Just Us     11    6  Morning            0"
      ]
     },
     "execution_count": 164,
     "metadata": {},
     "output_type": "execute_result"
    }
   ],
   "source": [
    "# data = pd.read_csv(\"data/examples/cobra_example_10.csv\") #, sep=',', header=0, engine='python', usecols = lambda column : column in [\"Neighborhood\", \"Month\", \"Day\", \"Shift\"])\n",
    "data = pd.read_csv(\"cobra-generalized.csv\")\n",
    "training_data = pd.read_csv(\"cobra-clean2009.csv\", sep=',', header=0, usecols = lambda column : column in [\"Occur Time\", \"Neighborhood\", \"Shift Occurrence\", \"Day of Week\", \"Crime Category\"])\n",
    "\n",
    "data['Crime Score'] = 1000 * data['Category 1'] + 100 * data['Category 2'] + 10 * data['Category 3'] + 1 * data['Category 4']\n",
    "data = data.drop([\"Categories\", \"Category 1\", \"Category 2\", \"Category 3\", \"Category 4\"], 1)\n",
    "\n",
    "# Shuffle, for now, until 2019 CSV is available\n",
    "# (Might need) df = df.sample(frac=1).reset_index(drop=True)\n",
    "training_data = training_data.sample(frac=1)\n",
    "# training_data.head()\n",
    "\n",
    "data = data.sample(frac=1)\n",
    "data.head()"
   ]
  },
  {
   "cell_type": "code",
   "execution_count": 165,
   "metadata": {},
   "outputs": [
    {
     "data": {
      "text/html": [
       "<div>\n",
       "<style scoped>\n",
       "    .dataframe tbody tr th:only-of-type {\n",
       "        vertical-align: middle;\n",
       "    }\n",
       "\n",
       "    .dataframe tbody tr th {\n",
       "        vertical-align: top;\n",
       "    }\n",
       "\n",
       "    .dataframe thead th {\n",
       "        text-align: right;\n",
       "    }\n",
       "</style>\n",
       "<table border=\"1\" class=\"dataframe\">\n",
       "  <thead>\n",
       "    <tr style=\"text-align: right;\">\n",
       "      <th></th>\n",
       "      <th>Neighborhood</th>\n",
       "      <th>Month</th>\n",
       "      <th>Day</th>\n",
       "      <th>Shift</th>\n",
       "      <th>Crime Score</th>\n",
       "    </tr>\n",
       "  </thead>\n",
       "  <tbody>\n",
       "    <tr>\n",
       "      <th>47289</th>\n",
       "      <td>West Manor</td>\n",
       "      <td>8</td>\n",
       "      <td>6</td>\n",
       "      <td>Morning</td>\n",
       "      <td>0</td>\n",
       "    </tr>\n",
       "    <tr>\n",
       "      <th>32800</th>\n",
       "      <td>Oakcliff</td>\n",
       "      <td>2</td>\n",
       "      <td>6</td>\n",
       "      <td>Day</td>\n",
       "      <td>0</td>\n",
       "    </tr>\n",
       "    <tr>\n",
       "      <th>14851</th>\n",
       "      <td>Collier Hills</td>\n",
       "      <td>12</td>\n",
       "      <td>1</td>\n",
       "      <td>Day</td>\n",
       "      <td>1</td>\n",
       "    </tr>\n",
       "    <tr>\n",
       "      <th>34409</th>\n",
       "      <td>Paces</td>\n",
       "      <td>7</td>\n",
       "      <td>3</td>\n",
       "      <td>Evening</td>\n",
       "      <td>2</td>\n",
       "    </tr>\n",
       "    <tr>\n",
       "      <th>15425</th>\n",
       "      <td>Cross Creek</td>\n",
       "      <td>3</td>\n",
       "      <td>3</td>\n",
       "      <td>Evening</td>\n",
       "      <td>20</td>\n",
       "    </tr>\n",
       "  </tbody>\n",
       "</table>\n",
       "</div>"
      ],
      "text/plain": [
       "        Neighborhood  Month  Day    Shift  Crime Score\n",
       "47289     West Manor      8    6  Morning            0\n",
       "32800       Oakcliff      2    6      Day            0\n",
       "14851  Collier Hills     12    1      Day            1\n",
       "34409          Paces      7    3  Evening            2\n",
       "15425    Cross Creek      3    3  Evening           20"
      ]
     },
     "execution_count": 165,
     "metadata": {},
     "output_type": "execute_result"
    }
   ],
   "source": [
    "# For now, test data is the latter 10% of training data (after shuffling)\n",
    "\n",
    "# test_data = training_data[int(0.10 * len(training_data)):]\n",
    "# training_data = training_data[:int(0.10 * len(training_data))]\n",
    "\n",
    "test_data = pd.read_csv(\"cobra-clean2019.csv\", sep=',', header=0, usecols = lambda column : column in [\"Occur Time\", \"Neighborhood\", \"Shift Occurrence\", \"Day of Week\", \"Crime Category\"])\n",
    "\n",
    "# test_data.head()\n",
    "\n",
    "# data2 = data[int(0.10 * len(data)):]\n",
    "# data = data[:int(0.10 * len(data))]\n",
    "\n",
    "data2 = pd.read_csv(\"cobra-generalized-2019.csv\")\n",
    "data2.head()"
   ]
  },
  {
   "cell_type": "markdown",
   "metadata": {},
   "source": [
    "### Transforming the data"
   ]
  },
  {
   "cell_type": "code",
   "execution_count": 166,
   "metadata": {},
   "outputs": [
    {
     "data": {
      "text/html": [
       "<div>\n",
       "<style scoped>\n",
       "    .dataframe tbody tr th:only-of-type {\n",
       "        vertical-align: middle;\n",
       "    }\n",
       "\n",
       "    .dataframe tbody tr th {\n",
       "        vertical-align: top;\n",
       "    }\n",
       "\n",
       "    .dataframe thead th {\n",
       "        text-align: right;\n",
       "    }\n",
       "</style>\n",
       "<table border=\"1\" class=\"dataframe\">\n",
       "  <thead>\n",
       "    <tr style=\"text-align: right;\">\n",
       "      <th></th>\n",
       "      <th>Neighborhood</th>\n",
       "      <th>Month</th>\n",
       "      <th>Day</th>\n",
       "      <th>Shift</th>\n",
       "      <th>Crime Score</th>\n",
       "    </tr>\n",
       "  </thead>\n",
       "  <tbody>\n",
       "    <tr>\n",
       "      <th>35027</th>\n",
       "      <td>138</td>\n",
       "      <td>12</td>\n",
       "      <td>6</td>\n",
       "      <td>1</td>\n",
       "      <td>0</td>\n",
       "    </tr>\n",
       "    <tr>\n",
       "      <th>17479</th>\n",
       "      <td>69</td>\n",
       "      <td>5</td>\n",
       "      <td>2</td>\n",
       "      <td>0</td>\n",
       "      <td>32</td>\n",
       "    </tr>\n",
       "    <tr>\n",
       "      <th>47585</th>\n",
       "      <td>188</td>\n",
       "      <td>10</td>\n",
       "      <td>6</td>\n",
       "      <td>1</td>\n",
       "      <td>13</td>\n",
       "    </tr>\n",
       "    <tr>\n",
       "      <th>32850</th>\n",
       "      <td>130</td>\n",
       "      <td>5</td>\n",
       "      <td>2</td>\n",
       "      <td>2</td>\n",
       "      <td>0</td>\n",
       "    </tr>\n",
       "    <tr>\n",
       "      <th>25932</th>\n",
       "      <td>102</td>\n",
       "      <td>11</td>\n",
       "      <td>6</td>\n",
       "      <td>2</td>\n",
       "      <td>0</td>\n",
       "    </tr>\n",
       "  </tbody>\n",
       "</table>\n",
       "</div>"
      ],
      "text/plain": [
       "       Neighborhood  Month  Day  Shift  Crime Score\n",
       "35027           138     12    6      1            0\n",
       "17479            69      5    2      0           32\n",
       "47585           188     10    6      1           13\n",
       "32850           130      5    2      2            0\n",
       "25932           102     11    6      2            0"
      ]
     },
     "execution_count": 166,
     "metadata": {},
     "output_type": "execute_result"
    }
   ],
   "source": [
    "le = preprocessing.LabelEncoder()\n",
    "le.fit(training_data[\"Neighborhood\"])\n",
    "training_data[\"Neighborhood\"] = le.transform(training_data[\"Neighborhood\"])\n",
    "le.fit(training_data[\"Shift Occurrence\"])\n",
    "training_data[\"Shift Occurrence\"] = le.transform(training_data[\"Shift Occurrence\"])\n",
    "\n",
    "# training_data.head()\n",
    "\n",
    "le = preprocessing.LabelEncoder()\n",
    "le.fit(data[\"Neighborhood\"])\n",
    "data[\"Neighborhood\"] = le.transform(data[\"Neighborhood\"])\n",
    "le.fit(data[\"Shift\"])\n",
    "data[\"Shift\"] = le.transform(data[\"Shift\"])\n",
    "\n",
    "data.head()"
   ]
  },
  {
   "cell_type": "code",
   "execution_count": 167,
   "metadata": {},
   "outputs": [
    {
     "data": {
      "text/html": [
       "<div>\n",
       "<style scoped>\n",
       "    .dataframe tbody tr th:only-of-type {\n",
       "        vertical-align: middle;\n",
       "    }\n",
       "\n",
       "    .dataframe tbody tr th {\n",
       "        vertical-align: top;\n",
       "    }\n",
       "\n",
       "    .dataframe thead th {\n",
       "        text-align: right;\n",
       "    }\n",
       "</style>\n",
       "<table border=\"1\" class=\"dataframe\">\n",
       "  <thead>\n",
       "    <tr style=\"text-align: right;\">\n",
       "      <th></th>\n",
       "      <th>Neighborhood</th>\n",
       "      <th>Month</th>\n",
       "      <th>Day</th>\n",
       "      <th>Shift</th>\n",
       "      <th>Crime Score</th>\n",
       "    </tr>\n",
       "  </thead>\n",
       "  <tbody>\n",
       "    <tr>\n",
       "      <th>47289</th>\n",
       "      <td>187</td>\n",
       "      <td>8</td>\n",
       "      <td>6</td>\n",
       "      <td>2</td>\n",
       "      <td>0</td>\n",
       "    </tr>\n",
       "    <tr>\n",
       "      <th>32800</th>\n",
       "      <td>130</td>\n",
       "      <td>2</td>\n",
       "      <td>6</td>\n",
       "      <td>0</td>\n",
       "      <td>0</td>\n",
       "    </tr>\n",
       "    <tr>\n",
       "      <th>14851</th>\n",
       "      <td>58</td>\n",
       "      <td>12</td>\n",
       "      <td>1</td>\n",
       "      <td>0</td>\n",
       "      <td>1</td>\n",
       "    </tr>\n",
       "    <tr>\n",
       "      <th>34409</th>\n",
       "      <td>136</td>\n",
       "      <td>7</td>\n",
       "      <td>3</td>\n",
       "      <td>1</td>\n",
       "      <td>2</td>\n",
       "    </tr>\n",
       "    <tr>\n",
       "      <th>15425</th>\n",
       "      <td>61</td>\n",
       "      <td>3</td>\n",
       "      <td>3</td>\n",
       "      <td>1</td>\n",
       "      <td>20</td>\n",
       "    </tr>\n",
       "  </tbody>\n",
       "</table>\n",
       "</div>"
      ],
      "text/plain": [
       "       Neighborhood  Month  Day  Shift  Crime Score\n",
       "47289           187      8    6      2            0\n",
       "32800           130      2    6      0            0\n",
       "14851            58     12    1      0            1\n",
       "34409           136      7    3      1            2\n",
       "15425            61      3    3      1           20"
      ]
     },
     "execution_count": 167,
     "metadata": {},
     "output_type": "execute_result"
    }
   ],
   "source": [
    "le = preprocessing.LabelEncoder()\n",
    "le.fit(test_data[\"Neighborhood\"])\n",
    "test_data[\"Neighborhood\"] = le.transform(test_data[\"Neighborhood\"])\n",
    "le.fit(test_data[\"Shift Occurrence\"])\n",
    "test_data[\"Shift Occurrence\"] = le.transform(test_data[\"Shift Occurrence\"])\n",
    "\n",
    "# test_data.head()\n",
    "\n",
    "le = preprocessing.LabelEncoder()\n",
    "le.fit(data2[\"Neighborhood\"])\n",
    "data2[\"Neighborhood\"] = le.transform(data2[\"Neighborhood\"])\n",
    "le.fit(data2[\"Shift\"])\n",
    "data2[\"Shift\"] = le.transform(data2[\"Shift\"])\n",
    "\n",
    "data2.head()"
   ]
  },
  {
   "cell_type": "markdown",
   "metadata": {},
   "source": [
    "## Metrics & Plots"
   ]
  },
  {
   "cell_type": "markdown",
   "metadata": {},
   "source": [
    "### Splitting data into training and test features and labels: X is features, y is label"
   ]
  },
  {
   "cell_type": "code",
   "execution_count": 169,
   "metadata": {},
   "outputs": [],
   "source": [
    "# Reading data & split into training and testing sets\n",
    "\n",
    "# X_train, X_test, y_train, y_test = train_test_split(X, y, test_size = 0.3, random_state=100)\n",
    "# Geeksforgeeks: \"random_state\" variable is a pseudo-random number generator state used for random sampling\n",
    "\n",
    "# We need the cobra-clean for 2019 to use for the test data\n",
    "X_train = training_data.drop(['Crime Category'], 1)\n",
    "y_train = training_data['Crime Category']\n",
    "X_test = test_data.drop(['Crime Category'], 1)\n",
    "y_test = test_data['Crime Category']\n",
    "\n",
    "X_train2 = data.drop(['Crime Score'], 1)\n",
    "y_train2 = data['Crime Score']\n",
    "X_test2 = data2.drop(['Crime Score'], 1)\n",
    "y_test2 = data2['Crime Score']"
   ]
  },
  {
   "cell_type": "code",
   "execution_count": 578,
   "metadata": {},
   "outputs": [],
   "source": [
    "def model_fitting(X_train, y_train, X_test, model, classOrReg):\n",
    "    start_time = time.time()\n",
    "    # Model Definition & Fitting\n",
    "    if model == \"dt\":\n",
    "        if classOrReg == \"class\":\n",
    "            fitter = DecisionTreeClassifier()\n",
    "        else:\n",
    "            fitter = DecisionTreeRegressor()\n",
    "    elif model == \"rf\":\n",
    "        if classOrReg == \"class\":\n",
    "            fitter = RandomForestClassifier(n_estimators=100)\n",
    "        else:\n",
    "            fitter = RandomForestRegressor(n_estimators=100)\n",
    "    elif model == \"nb\":\n",
    "        if classOrReg == \"class\":\n",
    "            fitter = GaussianNB()\n",
    "        else:\n",
    "            fitter = BayesianRidge()\n",
    "    elif model == \"sv\":\n",
    "        if classOrReg == \"class\":\n",
    "            fitter = SVC()\n",
    "        else:\n",
    "            fitter = SVR()\n",
    "    elif model == \"logreg\":\n",
    "        fitter = LogisticRegression(random_state=0, solver='lbfgs', multi_class='multinomial', max_iter=10000)\n",
    "    elif model == \"linreg\":\n",
    "        fitter = LinearRegression()\n",
    "    else:\n",
    "        print(\"Unrecognized model\", model)\n",
    "        return\n",
    "    fitter = fitter.fit(X_train, y_train)\n",
    "    end_time = time.time()\n",
    "    # Predict based on the given features for the test set\n",
    "    y_pred = fitter.predict(X_test)\n",
    "    \"\"\"\n",
    "    if model == \"linreg\":\n",
    "        predictions_probability = fitter.coef_\n",
    "    else:\n",
    "        predictions_probability = fitter.predict_proba(X_test)\n",
    "    \"\"\"\n",
    "    return (fitter, y_pred, end_time - start_time)"
   ]
  },
  {
   "cell_type": "markdown",
   "metadata": {},
   "source": [
    "## Models, Definition & Fitting"
   ]
  },
  {
   "cell_type": "markdown",
   "metadata": {},
   "source": [
    "### Decision Tree Models"
   ]
  },
  {
   "cell_type": "code",
   "execution_count": 569,
   "metadata": {},
   "outputs": [],
   "source": [
    "# Category classification\n",
    "dt_clf, dt_y_pred, dt_elapsed_time = model_fitting(X_train, y_train, X_test, \"dt\", \"class\")"
   ]
  },
  {
   "cell_type": "code",
   "execution_count": 570,
   "metadata": {},
   "outputs": [],
   "source": [
    "# Crime score regression\n",
    "dt_clf2, dt_y_pred2, dt_elapsed_time2 = model_fitting(X_train2, y_train2, X_test2, \"dt\", \"regress\")"
   ]
  },
  {
   "cell_type": "markdown",
   "metadata": {},
   "source": [
    "### Random Forest Models"
   ]
  },
  {
   "cell_type": "code",
   "execution_count": 571,
   "metadata": {},
   "outputs": [],
   "source": [
    "# Category classification\n",
    "rf_clf, rf_y_pred, rf_elapsed_time = model_fitting(X_train, y_train, X_test, \"rf\", \"class\")"
   ]
  },
  {
   "cell_type": "code",
   "execution_count": 572,
   "metadata": {},
   "outputs": [],
   "source": [
    "rf_clf2, rf_y_pred2, rf_elapsed_time2 = model_fitting(X_train2, y_train2, X_test2, \"rf\", \"regress\")"
   ]
  },
  {
   "cell_type": "markdown",
   "metadata": {},
   "source": [
    "### NBC Models"
   ]
  },
  {
   "cell_type": "code",
   "execution_count": 574,
   "metadata": {},
   "outputs": [],
   "source": [
    "# Category classification\n",
    "nbc_clf, nbc_y_pred, nbc_elapsed_time = model_fitting(X_train, y_train, X_test, \"nb\", \"class\")"
   ]
  },
  {
   "cell_type": "code",
   "execution_count": 575,
   "metadata": {},
   "outputs": [],
   "source": [
    "nbc_clf2, nbc_y_pred2, nbc_elapsed_time2 = model_fitting(X_train2, y_train2, X_test2, \"nb\", \"regress\")"
   ]
  },
  {
   "cell_type": "markdown",
   "metadata": {},
   "source": [
    "### SVM Models"
   ]
  },
  {
   "cell_type": "code",
   "execution_count": 576,
   "metadata": {},
   "outputs": [
    {
     "name": "stderr",
     "output_type": "stream",
     "text": [
      "//anaconda3/lib/python3.7/site-packages/sklearn/svm/base.py:193: FutureWarning: The default value of gamma will change from 'auto' to 'scale' in version 0.22 to account better for unscaled features. Set gamma explicitly to 'auto' or 'scale' to avoid this warning.\n",
      "  \"avoid this warning.\", FutureWarning)\n"
     ]
    }
   ],
   "source": [
    "# Category classification\n",
    "svm_clf, svm_y_pred, svm_elapsed_time = model_fitting(X_train, y_train, X_test, \"sv\", \"class\")"
   ]
  },
  {
   "cell_type": "code",
   "execution_count": 579,
   "metadata": {},
   "outputs": [
    {
     "name": "stderr",
     "output_type": "stream",
     "text": [
      "//anaconda3/lib/python3.7/site-packages/sklearn/svm/base.py:193: FutureWarning: The default value of gamma will change from 'auto' to 'scale' in version 0.22 to account better for unscaled features. Set gamma explicitly to 'auto' or 'scale' to avoid this warning.\n",
      "  \"avoid this warning.\", FutureWarning)\n"
     ]
    }
   ],
   "source": [
    "# IGNORE: Crime score classification\n",
    "svm_clf2, svm_y_pred2, svm_elapsed_time2 = model_fitting(X_train2, y_train2, X_test2, \"sv\", \"regress\")"
   ]
  },
  {
   "cell_type": "markdown",
   "metadata": {},
   "source": [
    "### Logistic Regressions"
   ]
  },
  {
   "cell_type": "code",
   "execution_count": 580,
   "metadata": {},
   "outputs": [],
   "source": [
    "logreg_clf, logreg_y_pred, logreg_elapsed_time = model_fitting(X_train, y_train, X_test, \"logreg\", \"class\")"
   ]
  },
  {
   "cell_type": "code",
   "execution_count": 588,
   "metadata": {},
   "outputs": [
    {
     "data": {
      "text/plain": [
       "array([4, 4, 4, ..., 4, 4, 4])"
      ]
     },
     "execution_count": 588,
     "metadata": {},
     "output_type": "execute_result"
    }
   ],
   "source": [
    "np.around(logreg_y_pred)\n",
    "logreg_y_pred"
   ]
  },
  {
   "cell_type": "code",
   "execution_count": 581,
   "metadata": {},
   "outputs": [
    {
     "name": "stderr",
     "output_type": "stream",
     "text": [
      "//anaconda3/lib/python3.7/site-packages/sklearn/linear_model/logistic.py:947: ConvergenceWarning: lbfgs failed to converge. Increase the number of iterations.\n",
      "  \"of iterations.\", ConvergenceWarning)\n"
     ]
    }
   ],
   "source": [
    "logreg_clf2, logreg_y_pred2, logreg_elapsed_time2 = model_fitting(X_train2, y_train2, X_test2, \"logreg\", \"regress\")"
   ]
  },
  {
   "cell_type": "markdown",
   "metadata": {},
   "source": [
    "### Linear Regressions"
   ]
  },
  {
   "cell_type": "code",
   "execution_count": 582,
   "metadata": {},
   "outputs": [],
   "source": [
    "# IGNORE: Category classification\n",
    "linreg_clf, linreg_y_pred, linreg_elapsed_time = model_fitting(X_train, y_train, X_test, \"linreg\", \"class\")"
   ]
  },
  {
   "cell_type": "code",
   "execution_count": 590,
   "metadata": {},
   "outputs": [
    {
     "data": {
      "text/plain": [
       "array([3., 3., 3., ..., 3., 3., 3.])"
      ]
     },
     "execution_count": 590,
     "metadata": {},
     "output_type": "execute_result"
    }
   ],
   "source": [
    "np.around(linreg_y_pred)"
   ]
  },
  {
   "cell_type": "code",
   "execution_count": 583,
   "metadata": {},
   "outputs": [],
   "source": [
    "# Crime score classification\n",
    "linreg_clf2, linreg_y_pred2, linreg_elapsed_time2 = model_fitting(X_train2, y_train2, X_test2, \"linreg\", \"regress\")"
   ]
  },
  {
   "cell_type": "code",
   "execution_count": 584,
   "metadata": {},
   "outputs": [
    {
     "name": "stdout",
     "output_type": "stream",
     "text": [
      "0.0061969757080078125 0.0037767887115478516\n",
      "accuracy_score 0.3341300044501051\n",
      "precision_score [0.         0.         0.31236591 0.60047738]\n",
      "recall_score [0.         0.         0.9297784  0.08234671]\n",
      "RMSE linreg_y_pred 0.7226148422684304\n",
      "\n",
      "RMSE linreg_y_pred_rounded 0.8363284470706984\n",
      "\n",
      "Accuracy range\n",
      "0 0.0\n",
      "1 0.005864197530864198\n",
      "5 0.03064373897707231\n",
      "10 0.05958994708994709\n",
      "25 0.11849647266313933\n",
      "100 0.3648148148148148\n"
     ]
    },
    {
     "name": "stderr",
     "output_type": "stream",
     "text": [
      "//anaconda3/lib/python3.7/site-packages/sklearn/metrics/classification.py:1437: UndefinedMetricWarning: Precision is ill-defined and being set to 0.0 in labels with no predicted samples.\n",
      "  'precision', 'predicted', average, warn_for)\n"
     ]
    }
   ],
   "source": [
    "print(linreg_elapsed_time, linreg_elapsed_time2)\n",
    "linreg_y_pred_rounded = np.around(linreg_y_pred)\n",
    "print(\"accuracy_score\", metrics.accuracy_score(y_test, linreg_y_pred_rounded))\n",
    "print(\"precision_score\", metrics.precision_score(y_test, linreg_y_pred_rounded, average=None))\n",
    "print(\"recall_score\", metrics.recall_score(y_test, linreg_y_pred_rounded, average=None))\n",
    "\n",
    "print(\"RMSE linreg_y_pred\", np.sqrt(np.sum(np.square(np.subtract(y_test, linreg_y_pred))) / len(y_test)))\n",
    "print()\n",
    "\n",
    "print(\"RMSE linreg_y_pred_rounded\", np.sqrt(np.sum(np.square(np.subtract(y_test, linreg_y_pred_rounded))) / len(y_test)))\n",
    "print()\n",
    "\n",
    "\n",
    "print(\"Accuracy range\")\n",
    "for i in [0, 1, 5, 10, 25, 100]:\n",
    "    print(i, np.sum(np.absolute(y_test2 - linreg_y_pred2) <= i) / len(y_test2))"
   ]
  },
  {
   "cell_type": "markdown",
   "metadata": {},
   "source": [
    "## Plots"
   ]
  },
  {
   "cell_type": "code",
   "execution_count": 585,
   "metadata": {},
   "outputs": [
    {
     "name": "stdout",
     "output_type": "stream",
     "text": [
      "[7.19099045e-02 2.85943198e+00 9.69791412e-03 2.92628637e+02\n",
      " 1.26097319e+01 6.19697571e-03]\n",
      "[1.22821331e-02 7.54997015e-01 3.05910110e-02 1.10979104e+00\n",
      " 9.49273593e+02 3.77678871e-03]\n"
     ]
    },
    {
     "data": {
      "image/png": "[encoded data removed]",
      "text/plain": [
       "<Figure size 864x432 with 1 Axes>"
      ]
     },
     "metadata": {
      "needs_background": "light"
     },
     "output_type": "display_data"
    }
   ],
   "source": [
    "times = np.array([dt_elapsed_time, rf_elapsed_time, nbc_elapsed_time, svm_elapsed_time, logreg_elapsed_time, linreg_elapsed_time])\n",
    "# times = np.log(times)\n",
    "# times = times - min(times)\n",
    "times2 = np.array([dt_elapsed_time2, rf_elapsed_time2, nbc_elapsed_time2, svm_elapsed_time2, logreg_elapsed_time2, linreg_elapsed_time2])\n",
    "# times2 = np.log(times2)\n",
    "# times2 = times2 - min(times2)\n",
    "\n",
    "plt.figure(figsize=(12, 6))\n",
    "plt.bar([i - 0.125 for i in range(len(times))], times, width=0.25, color=\"gold\")\n",
    "for i in range(len(times)):\n",
    "    plt.text(i - 0.125, times[i], round(times[i], 2), va='bottom', ha='center')\n",
    "plt.bar([i + 0.125 for i in range(len(times2))], times2, width=0.25, color=\"red\")\n",
    "for i in range(len(times2)):\n",
    "    plt.text(i + 0.125, times2[i], round(times2[i], 2), va='bottom', ha='center')\n",
    "\n",
    "\n",
    "plt.xticks([i for i in range(len(times))], [\"DT\", \"RF\", \"NBC\", \"SVM\", \"LogReg\", \"LinReg\"])\n",
    "plt.legend([\"Categories\", \"Crime Scores\"])\n",
    "plt.xlabel(\"Classification Type\")\n",
    "plt.ylabel(\"Time (seconds)\")\n",
    "\n",
    "plt.savefig('images/Supervised_Algs/times.png')\n",
    "plt.show()"
   ]
  },
  {
   "cell_type": "code",
   "execution_count": 630,
   "metadata": {},
   "outputs": [
    {
     "data": {
      "image/png": "[encoded data removed]",
      "text/plain": [
       "<Figure size 1296x1296 with 3 Axes>"
      ]
     },
     "metadata": {
      "needs_background": "light"
     },
     "output_type": "display_data"
    }
   ],
   "source": [
    "def apr(y_test, y_pred):\n",
    "    # print(\"Accuracy:\", metrics.accuracy_score(y_test, y_pred))\n",
    "    # print(\"Precision (average=None):\", metrics.precision_score(y_test, y_pred, average=None))\n",
    "    # print(\"Recall (average=None):\", metrics.recall_score(y_test, y_pred, average=None))\n",
    "    # print()\n",
    "    return metrics.accuracy_score(y_test, y_pred), metrics.precision_score(y_test, y_pred, average=None), metrics.recall_score(y_test, y_pred, average=None)\n",
    "\n",
    "f, (ax1, ax2, ax3) = plt.subplots(3, 1, figsize=(18,18))\n",
    "for i, y_pred in enumerate([dt_y_pred, rf_y_pred, nbc_y_pred, svm_y_pred, logreg_y_pred, np.around(linreg_y_pred)]):\n",
    "    acc_prec_rec = apr(y_test, y_pred)\n",
    "\n",
    "    ax1.bar(i, acc_prec_rec[0], width=0.5)\n",
    "    ax1.text(i, acc_prec_rec[0], round(acc_prec_rec[0], 2), va='bottom', ha='center')\n",
    "\n",
    "    ax2.bar(2.5 * i - 0.75, acc_prec_rec[1][0], width=0.5, color=\"red\")\n",
    "    ax2.text(2.5 * i - 0.75, acc_prec_rec[1][0], round(acc_prec_rec[1][0], 2), va='bottom', ha='center')\n",
    "    ax2.bar(2.5 * i - 0.25, acc_prec_rec[1][1], width=0.5, color=\"green\")\n",
    "    ax2.text(2.5 * i - 0.25, acc_prec_rec[1][1], round(acc_prec_rec[1][1], 2), va='bottom', ha='center')\n",
    "    ax2.bar(2.5 * i + 0.25, acc_prec_rec[1][2], width=0.5, color=\"lightblue\")\n",
    "    ax2.text(2.5 * i + 0.25, acc_prec_rec[1][2], round(acc_prec_rec[1][2], 2), va='bottom', ha='center')\n",
    "    ax2.bar(2.5 * i + 0.75, acc_prec_rec[1][3], width=0.5, color=\"gold\")\n",
    "    ax2.text(2.5 * i + 0.75, acc_prec_rec[1][3], round(acc_prec_rec[1][3], 2), va='bottom', ha='center')\n",
    "\n",
    "    ax3.bar(2.5 * i - 0.75, acc_prec_rec[2][0], width=0.5, color=\"red\")\n",
    "    ax3.text(2.5 * i - 0.75, acc_prec_rec[2][0], round(acc_prec_rec[2][0], 2), va='bottom', ha='center')\n",
    "    ax3.bar(2.5 * i - 0.25, acc_prec_rec[2][1], width=0.5, color=\"green\")\n",
    "    ax3.text(2.5 * i - 0.25, acc_prec_rec[2][1], round(acc_prec_rec[2][1], 2), va='bottom', ha='center')\n",
    "    ax3.bar(2.5 * i + 0.25, acc_prec_rec[2][2], width=0.5, color=\"lightblue\")\n",
    "    ax3.text(2.5 * i + 0.25, acc_prec_rec[2][2], round(acc_prec_rec[2][2], 2), va='bottom', ha='center')\n",
    "    ax3.bar(2.5 * i + 0.75, acc_prec_rec[2][3], width=0.5, color=\"gold\")\n",
    "    ax3.text(2.5 * i + 0.75, acc_prec_rec[2][3], round(acc_prec_rec[2][3], 2), va='bottom', ha='center')\n",
    "\n",
    "ax1.legend([\"DT\", \"RF\", \"NB\", \"SV\", \"LogReg\", \"LinReg\"])\n",
    "plt.sca(ax1)\n",
    "plt.xticks([j for j in range(i + 1)], [\"DT\", \"RF\", \"NB\", \"SV\", \"LogReg\", \"LinReg\"])\n",
    "plt.xlabel(\"Classification Method\")\n",
    "plt.ylabel(\"Category Accuracy\")\n",
    "\n",
    "ax2.legend([\"Category 1\", \"Category 2\", \"Category 3\", \"Category 4\"])\n",
    "plt.sca(ax2)\n",
    "plt.xticks([j * 2.5 for j in range(i + 1)], [\"DT\", \"RF\", \"NB\", \"SV\", \"LogReg\", \"LinReg\"])\n",
    "plt.xlabel(\"Classification Method\")\n",
    "plt.ylabel(\"Category Precision\")\n",
    "\n",
    "ax3.legend([\"Category 1\", \"Category 2\", \"Category 3\", \"Category 4\"])\n",
    "plt.sca(ax3)\n",
    "plt.xticks([j * 2.5 for j in range(i + 1)], [\"DT\", \"RF\", \"NB\", \"SV\", \"LogReg\", \"LinReg\"])\n",
    "plt.xlabel(\"Classification Method\")\n",
    "plt.ylabel(\"Category Recall\")\n",
    "\n",
    "plt.savefig('images/Supervised_Algs/apr_categories.png')\n",
    "plt.show()"
   ]
  },
  {
   "cell_type": "code",
   "execution_count": 626,
   "metadata": {},
   "outputs": [
    {
     "data": {
      "image/png": "[encoded data removed]",
      "text/plain": [
       "<Figure size 864x432 with 1 Axes>"
      ]
     },
     "metadata": {
      "needs_background": "light"
     },
     "output_type": "display_data"
    }
   ],
   "source": [
    "# Accuracy within range\n",
    "def accuracy_range(y_test2, y_pred2, margin):\n",
    "    return np.sum(np.absolute(y_test2 - y_pred2) <= margin) / len(y_test2)\n",
    "\n",
    "plt.figure(figsize=(12, 6))\n",
    "for y_pred2 in [dt_y_pred2, rf_y_pred2, nbc_y_pred2, svm_y_pred2, logreg_y_pred2, linreg_y_pred2]:\n",
    "    ar_array = [accuracy_range(y_test2, y_pred2, margin) for margin in [0, 1, 5, 10, 25, 50, 100, 200]]\n",
    "    ar_array_rounded = [round(ar, 2) for ar in ar_array]\n",
    "    plt.plot([0, 1, 5, 10, 25, 50, 100, 200], ar_array, linestyle='-', marker='o')\n",
    "    # plt.text(25, ar_array[4], ar_array_rounded[4], va='bottom', ha='center')\n",
    "    # plt.text(50, ar_array[5], ar_array_rounded[5], va='bottom', ha='center')\n",
    "    plt.text(100, ar_array[6], ar_array_rounded[6], va='bottom', ha='center')\n",
    "    plt.text(200, ar_array[7], ar_array_rounded[7], va='bottom', ha='center')\n",
    "\n",
    "plt.legend([\"DT\", \"RF\", \"NB\", \"SV\", \"LinReg\", \"LogReg\"])\n",
    "plt.xlabel(\"Range of Margin\")\n",
    "plt.ylabel(\"Accuracy\")\n",
    "\n",
    "plt.savefig('images/Supervised_Algs/ar.png')\n",
    "plt.show()"
   ]
  },
  {
   "cell_type": "code",
   "execution_count": 633,
   "metadata": {},
   "outputs": [
    {
     "data": {
      "image/png": "[encoded data removed]",
      "text/plain": [
       "<Figure size 864x432 with 1 Axes>"
      ]
     },
     "metadata": {
      "needs_background": "light"
     },
     "output_type": "display_data"
    }
   ],
   "source": [
    "def rmse(pred, label):\n",
    "    return np.sqrt(np.sum(np.square(np.subtract(pred, label))) / len(pred))\n",
    "\n",
    "plt.figure(figsize=(12, 6))\n",
    "for i, y_pred2 in enumerate([dt_y_pred2, rf_y_pred2, nbc_y_pred2, svm_y_pred2, logreg_y_pred2, linreg_y_pred2]):\n",
    "    rmse_val = rmse(y_test2, y_pred2)\n",
    "    plt.bar(i, rmse_val)\n",
    "    plt.text(i, rmse_val, round(rmse_val, 2), va='bottom', ha='center')\n",
    "\n",
    "plt.legend([\"DT\", \"RF\", \"NB\", \"SV\", \"LogReg\", \"LinReg\"], loc='lower right')\n",
    "plt.xticks([j for j in range(i + 1)], [\"DT\", \"RF\", \"NB\", \"SV\", \"LogReg\", \"LinReg\"])\n",
    "plt.xlabel(\"Regression Method\")\n",
    "plt.ylabel(\"RMSE\")\n",
    "\n",
    "plt.savefig('images/Supervised_Algs/rmse.png')\n",
    "plt.show()"
   ]
  },
  {
   "cell_type": "code",
   "execution_count": null,
   "metadata": {},
   "outputs": [],
   "source": []
  }
 ],
 "metadata": {
  "kernelspec": {
   "display_name": "Python 3",
   "language": "python",
   "name": "python3"
  },
  "language_info": {
   "codemirror_mode": {
    "name": "ipython",
    "version": 3
   },
   "file_extension": ".py",
   "mimetype": "text/x-python",
   "name": "python",
   "nbconvert_exporter": "python",
   "pygments_lexer": "ipython3",
   "version": "3.7.3"
  }
 },
 "nbformat": 4,
 "nbformat_minor": 4
}
