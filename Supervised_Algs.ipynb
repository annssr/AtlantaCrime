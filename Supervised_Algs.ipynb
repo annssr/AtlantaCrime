{
 "cells": [
  {
   "cell_type": "markdown",
   "metadata": {},
   "source": [
    "# Atlanta Crime - Supervised Learning"
   ]
  },
  {
   "cell_type": "markdown",
   "metadata": {},
   "source": [
    "## Description\n",
    "In this part of the project, we will use supervised learning algorithms, namely, Decision Trees/Random Forests, NBC, SVM, and Logistic Regression algorithms to predict crime score for a given location and time."
   ]
  },
  {
   "cell_type": "markdown",
   "metadata": {},
   "source": [
    "## Import Packages"
   ]
  },
  {
   "cell_type": "code",
   "execution_count": 206,
   "metadata": {},
   "outputs": [],
   "source": [
    "import pandas as pd\n",
    "from sklearn.tree import DecisionTreeClassifier # Import Decision Tree Classifier\n",
    "from sklearn.tree import plot_tree\n",
    "from sklearn.tree.export import export_text\n",
    "from sklearn.model_selection import train_test_split # Import train_test_split function\n",
    "from sklearn import metrics #Import scikit-learn metrics module for accuracy calculation\n",
    "from sklearn import preprocessing\n",
    "from sklearn.ensemble import RandomForestClassifier\n",
    "from sklearn.naive_bayes import GaussianNB\n",
    "from sklearn.svm import SVC\n",
    "from sklearn.linear_model import LogisticRegression\n",
    "import datetime\n",
    "import random\n",
    "import numpy as np\n",
    "import time\n",
    "import matplotlib.pyplot as plt"
   ]
  },
  {
   "cell_type": "markdown",
   "metadata": {},
   "source": [
    "## Load in Data"
   ]
  },
  {
   "cell_type": "code",
   "execution_count": 164,
   "metadata": {},
   "outputs": [
    {
     "data": {
      "text/html": [
       "<div>\n",
       "<style scoped>\n",
       "    .dataframe tbody tr th:only-of-type {\n",
       "        vertical-align: middle;\n",
       "    }\n",
       "\n",
       "    .dataframe tbody tr th {\n",
       "        vertical-align: top;\n",
       "    }\n",
       "\n",
       "    .dataframe thead th {\n",
       "        text-align: right;\n",
       "    }\n",
       "</style>\n",
       "<table border=\"1\" class=\"dataframe\">\n",
       "  <thead>\n",
       "    <tr style=\"text-align: right;\">\n",
       "      <th></th>\n",
       "      <th>Neighborhood</th>\n",
       "      <th>Month</th>\n",
       "      <th>Day</th>\n",
       "      <th>Shift</th>\n",
       "      <th>Crime Score</th>\n",
       "    </tr>\n",
       "  </thead>\n",
       "  <tbody>\n",
       "    <tr>\n",
       "      <th>35027</th>\n",
       "      <td>Peachtree Heights East</td>\n",
       "      <td>12</td>\n",
       "      <td>6</td>\n",
       "      <td>Evening</td>\n",
       "      <td>0</td>\n",
       "    </tr>\n",
       "    <tr>\n",
       "      <th>17479</th>\n",
       "      <td>East Lake</td>\n",
       "      <td>5</td>\n",
       "      <td>2</td>\n",
       "      <td>Day</td>\n",
       "      <td>32</td>\n",
       "    </tr>\n",
       "    <tr>\n",
       "      <th>47585</th>\n",
       "      <td>West Paces Ferry/Northside</td>\n",
       "      <td>10</td>\n",
       "      <td>6</td>\n",
       "      <td>Evening</td>\n",
       "      <td>13</td>\n",
       "    </tr>\n",
       "    <tr>\n",
       "      <th>32850</th>\n",
       "      <td>Oakcliff</td>\n",
       "      <td>5</td>\n",
       "      <td>2</td>\n",
       "      <td>Morning</td>\n",
       "      <td>0</td>\n",
       "    </tr>\n",
       "    <tr>\n",
       "      <th>25932</th>\n",
       "      <td>Just Us</td>\n",
       "      <td>11</td>\n",
       "      <td>6</td>\n",
       "      <td>Morning</td>\n",
       "      <td>0</td>\n",
       "    </tr>\n",
       "  </tbody>\n",
       "</table>\n",
       "</div>"
      ],
      "text/plain": [
       "                     Neighborhood  Month  Day    Shift  Crime Score\n",
       "35027      Peachtree Heights East     12    6  Evening            0\n",
       "17479                   East Lake      5    2      Day           32\n",
       "47585  West Paces Ferry/Northside     10    6  Evening           13\n",
       "32850                    Oakcliff      5    2  Morning            0\n",
       "25932                     Just Us     11    6  Morning            0"
      ]
     },
     "execution_count": 164,
     "metadata": {},
     "output_type": "execute_result"
    }
   ],
   "source": [
    "# data = pd.read_csv(\"data/examples/cobra_example_10.csv\") #, sep=',', header=0, engine='python', usecols = lambda column : column in [\"Neighborhood\", \"Month\", \"Day\", \"Shift\"])\n",
    "data = pd.read_csv(\"cobra-counts.csv\")\n",
    "training_data = pd.read_csv(\"cobra-clean2009.csv\", sep=',', header=0, usecols = lambda column : column in [\"Occur Time\", \"Neighborhood\", \"Shift Occurrence\", \"Day of Week\", \"Crime Category\"])\n",
    "\n",
    "data['Crime Score'] = 1000 * data['Category 1'] + 100 * data['Category 2'] + 10 * data['Category 3'] + 1 * data['Category 4']\n",
    "data = data.drop([\"Categories\", \"Category 1\", \"Category 2\", \"Category 3\", \"Category 4\"], 1)\n",
    "\n",
    "# Shuffle, for now, until 2019 CSV is available\n",
    "# (Might need) df = df.sample(frac=1).reset_index(drop=True)\n",
    "training_data = training_data.sample(frac=1)\n",
    "# training_data.head()\n",
    "\n",
    "data = data.sample(frac=1)\n",
    "data.head()"
   ]
  },
  {
   "cell_type": "code",
   "execution_count": 165,
   "metadata": {},
   "outputs": [
    {
     "data": {
      "text/html": [
       "<div>\n",
       "<style scoped>\n",
       "    .dataframe tbody tr th:only-of-type {\n",
       "        vertical-align: middle;\n",
       "    }\n",
       "\n",
       "    .dataframe tbody tr th {\n",
       "        vertical-align: top;\n",
       "    }\n",
       "\n",
       "    .dataframe thead th {\n",
       "        text-align: right;\n",
       "    }\n",
       "</style>\n",
       "<table border=\"1\" class=\"dataframe\">\n",
       "  <thead>\n",
       "    <tr style=\"text-align: right;\">\n",
       "      <th></th>\n",
       "      <th>Neighborhood</th>\n",
       "      <th>Month</th>\n",
       "      <th>Day</th>\n",
       "      <th>Shift</th>\n",
       "      <th>Crime Score</th>\n",
       "    </tr>\n",
       "  </thead>\n",
       "  <tbody>\n",
       "    <tr>\n",
       "      <th>47289</th>\n",
       "      <td>West Manor</td>\n",
       "      <td>8</td>\n",
       "      <td>6</td>\n",
       "      <td>Morning</td>\n",
       "      <td>0</td>\n",
       "    </tr>\n",
       "    <tr>\n",
       "      <th>32800</th>\n",
       "      <td>Oakcliff</td>\n",
       "      <td>2</td>\n",
       "      <td>6</td>\n",
       "      <td>Day</td>\n",
       "      <td>0</td>\n",
       "    </tr>\n",
       "    <tr>\n",
       "      <th>14851</th>\n",
       "      <td>Collier Hills</td>\n",
       "      <td>12</td>\n",
       "      <td>1</td>\n",
       "      <td>Day</td>\n",
       "      <td>1</td>\n",
       "    </tr>\n",
       "    <tr>\n",
       "      <th>34409</th>\n",
       "      <td>Paces</td>\n",
       "      <td>7</td>\n",
       "      <td>3</td>\n",
       "      <td>Evening</td>\n",
       "      <td>2</td>\n",
       "    </tr>\n",
       "    <tr>\n",
       "      <th>15425</th>\n",
       "      <td>Cross Creek</td>\n",
       "      <td>3</td>\n",
       "      <td>3</td>\n",
       "      <td>Evening</td>\n",
       "      <td>20</td>\n",
       "    </tr>\n",
       "  </tbody>\n",
       "</table>\n",
       "</div>"
      ],
      "text/plain": [
       "        Neighborhood  Month  Day    Shift  Crime Score\n",
       "47289     West Manor      8    6  Morning            0\n",
       "32800       Oakcliff      2    6      Day            0\n",
       "14851  Collier Hills     12    1      Day            1\n",
       "34409          Paces      7    3  Evening            2\n",
       "15425    Cross Creek      3    3  Evening           20"
      ]
     },
     "execution_count": 165,
     "metadata": {},
     "output_type": "execute_result"
    }
   ],
   "source": [
    "# For now, test data is the latter 10% of training data (after shuffling)\n",
    "\n",
    "test_data = training_data[int(0.10 * len(training_data)):]\n",
    "training_data = training_data[:int(0.10 * len(training_data))]\n",
    "\n",
    "# test_data.head()\n",
    "\n",
    "data2 = data[int(0.10 * len(data)):]\n",
    "data = data[:int(0.10 * len(data))]\n",
    "data2.head()"
   ]
  },
  {
   "cell_type": "markdown",
   "metadata": {},
   "source": [
    "### Transforming the data"
   ]
  },
  {
   "cell_type": "code",
   "execution_count": 166,
   "metadata": {},
   "outputs": [
    {
     "data": {
      "text/html": [
       "<div>\n",
       "<style scoped>\n",
       "    .dataframe tbody tr th:only-of-type {\n",
       "        vertical-align: middle;\n",
       "    }\n",
       "\n",
       "    .dataframe tbody tr th {\n",
       "        vertical-align: top;\n",
       "    }\n",
       "\n",
       "    .dataframe thead th {\n",
       "        text-align: right;\n",
       "    }\n",
       "</style>\n",
       "<table border=\"1\" class=\"dataframe\">\n",
       "  <thead>\n",
       "    <tr style=\"text-align: right;\">\n",
       "      <th></th>\n",
       "      <th>Neighborhood</th>\n",
       "      <th>Month</th>\n",
       "      <th>Day</th>\n",
       "      <th>Shift</th>\n",
       "      <th>Crime Score</th>\n",
       "    </tr>\n",
       "  </thead>\n",
       "  <tbody>\n",
       "    <tr>\n",
       "      <th>35027</th>\n",
       "      <td>138</td>\n",
       "      <td>12</td>\n",
       "      <td>6</td>\n",
       "      <td>1</td>\n",
       "      <td>0</td>\n",
       "    </tr>\n",
       "    <tr>\n",
       "      <th>17479</th>\n",
       "      <td>69</td>\n",
       "      <td>5</td>\n",
       "      <td>2</td>\n",
       "      <td>0</td>\n",
       "      <td>32</td>\n",
       "    </tr>\n",
       "    <tr>\n",
       "      <th>47585</th>\n",
       "      <td>188</td>\n",
       "      <td>10</td>\n",
       "      <td>6</td>\n",
       "      <td>1</td>\n",
       "      <td>13</td>\n",
       "    </tr>\n",
       "    <tr>\n",
       "      <th>32850</th>\n",
       "      <td>130</td>\n",
       "      <td>5</td>\n",
       "      <td>2</td>\n",
       "      <td>2</td>\n",
       "      <td>0</td>\n",
       "    </tr>\n",
       "    <tr>\n",
       "      <th>25932</th>\n",
       "      <td>102</td>\n",
       "      <td>11</td>\n",
       "      <td>6</td>\n",
       "      <td>2</td>\n",
       "      <td>0</td>\n",
       "    </tr>\n",
       "  </tbody>\n",
       "</table>\n",
       "</div>"
      ],
      "text/plain": [
       "       Neighborhood  Month  Day  Shift  Crime Score\n",
       "35027           138     12    6      1            0\n",
       "17479            69      5    2      0           32\n",
       "47585           188     10    6      1           13\n",
       "32850           130      5    2      2            0\n",
       "25932           102     11    6      2            0"
      ]
     },
     "execution_count": 166,
     "metadata": {},
     "output_type": "execute_result"
    }
   ],
   "source": [
    "le = preprocessing.LabelEncoder()\n",
    "le.fit(training_data[\"Neighborhood\"])\n",
    "training_data[\"Neighborhood\"] = le.transform(training_data[\"Neighborhood\"])\n",
    "le.fit(training_data[\"Shift Occurrence\"])\n",
    "training_data[\"Shift Occurrence\"] = le.transform(training_data[\"Shift Occurrence\"])\n",
    "\n",
    "# training_data.head()\n",
    "\n",
    "le = preprocessing.LabelEncoder()\n",
    "le.fit(data[\"Neighborhood\"])\n",
    "data[\"Neighborhood\"] = le.transform(data[\"Neighborhood\"])\n",
    "le.fit(data[\"Shift\"])\n",
    "data[\"Shift\"] = le.transform(data[\"Shift\"])\n",
    "\n",
    "data.head()"
   ]
  },
  {
   "cell_type": "code",
   "execution_count": 167,
   "metadata": {},
   "outputs": [
    {
     "data": {
      "text/html": [
       "<div>\n",
       "<style scoped>\n",
       "    .dataframe tbody tr th:only-of-type {\n",
       "        vertical-align: middle;\n",
       "    }\n",
       "\n",
       "    .dataframe tbody tr th {\n",
       "        vertical-align: top;\n",
       "    }\n",
       "\n",
       "    .dataframe thead th {\n",
       "        text-align: right;\n",
       "    }\n",
       "</style>\n",
       "<table border=\"1\" class=\"dataframe\">\n",
       "  <thead>\n",
       "    <tr style=\"text-align: right;\">\n",
       "      <th></th>\n",
       "      <th>Neighborhood</th>\n",
       "      <th>Month</th>\n",
       "      <th>Day</th>\n",
       "      <th>Shift</th>\n",
       "      <th>Crime Score</th>\n",
       "    </tr>\n",
       "  </thead>\n",
       "  <tbody>\n",
       "    <tr>\n",
       "      <th>47289</th>\n",
       "      <td>187</td>\n",
       "      <td>8</td>\n",
       "      <td>6</td>\n",
       "      <td>2</td>\n",
       "      <td>0</td>\n",
       "    </tr>\n",
       "    <tr>\n",
       "      <th>32800</th>\n",
       "      <td>130</td>\n",
       "      <td>2</td>\n",
       "      <td>6</td>\n",
       "      <td>0</td>\n",
       "      <td>0</td>\n",
       "    </tr>\n",
       "    <tr>\n",
       "      <th>14851</th>\n",
       "      <td>58</td>\n",
       "      <td>12</td>\n",
       "      <td>1</td>\n",
       "      <td>0</td>\n",
       "      <td>1</td>\n",
       "    </tr>\n",
       "    <tr>\n",
       "      <th>34409</th>\n",
       "      <td>136</td>\n",
       "      <td>7</td>\n",
       "      <td>3</td>\n",
       "      <td>1</td>\n",
       "      <td>2</td>\n",
       "    </tr>\n",
       "    <tr>\n",
       "      <th>15425</th>\n",
       "      <td>61</td>\n",
       "      <td>3</td>\n",
       "      <td>3</td>\n",
       "      <td>1</td>\n",
       "      <td>20</td>\n",
       "    </tr>\n",
       "  </tbody>\n",
       "</table>\n",
       "</div>"
      ],
      "text/plain": [
       "       Neighborhood  Month  Day  Shift  Crime Score\n",
       "47289           187      8    6      2            0\n",
       "32800           130      2    6      0            0\n",
       "14851            58     12    1      0            1\n",
       "34409           136      7    3      1            2\n",
       "15425            61      3    3      1           20"
      ]
     },
     "execution_count": 167,
     "metadata": {},
     "output_type": "execute_result"
    }
   ],
   "source": [
    "le = preprocessing.LabelEncoder()\n",
    "le.fit(test_data[\"Neighborhood\"])\n",
    "test_data[\"Neighborhood\"] = le.transform(test_data[\"Neighborhood\"])\n",
    "le.fit(test_data[\"Shift Occurrence\"])\n",
    "test_data[\"Shift Occurrence\"] = le.transform(test_data[\"Shift Occurrence\"])\n",
    "\n",
    "# test_data.head()\n",
    "\n",
    "le = preprocessing.LabelEncoder()\n",
    "le.fit(data2[\"Neighborhood\"])\n",
    "data2[\"Neighborhood\"] = le.transform(data2[\"Neighborhood\"])\n",
    "le.fit(data2[\"Shift\"])\n",
    "data2[\"Shift\"] = le.transform(data2[\"Shift\"])\n",
    "\n",
    "data2.head()"
   ]
  },
  {
   "cell_type": "markdown",
   "metadata": {},
   "source": [
    "## Metrics & Plots"
   ]
  },
  {
   "cell_type": "markdown",
   "metadata": {},
   "source": [
    "### Splitting data into training and test features and labels: X is features, y is label"
   ]
  },
  {
   "cell_type": "code",
   "execution_count": 169,
   "metadata": {},
   "outputs": [],
   "source": [
    "# Reading data & split into training and testing sets\n",
    "\n",
    "# X_train, X_test, y_train, y_test = train_test_split(X, y, test_size = 0.3, random_state=100)\n",
    "# Geeksforgeeks: \"random_state\" variable is a pseudo-random number generator state used for random sampling\n",
    "\n",
    "# We need the cobra-clean for 2019 to use for the test data\n",
    "X_train = training_data.drop(['Crime Category'], 1)\n",
    "y_train = training_data['Crime Category']\n",
    "X_test = test_data.drop(['Crime Category'], 1)\n",
    "y_test = test_data['Crime Category']\n",
    "\n",
    "X_train2 = data.drop(['Crime Score'], 1)\n",
    "y_train2 = data['Crime Score']\n",
    "X_test2 = data2.drop(['Crime Score'], 1)\n",
    "y_test2 = data2['Crime Score']"
   ]
  },
  {
   "cell_type": "code",
   "execution_count": 170,
   "metadata": {},
   "outputs": [],
   "source": [
    "def model_fitting(X_train, y_train, X_test, model):\n",
    "    start_time = time.time()\n",
    "    # Model Definition & Fitting\n",
    "    if model == \"dt\":\n",
    "        clf = DecisionTreeClassifier()\n",
    "    elif model == \"rf\":\n",
    "        clf = RandomForestClassifier(n_estimators=50)\n",
    "    elif model == \"nbc\":\n",
    "        clf = GaussianNB()\n",
    "    elif model == \"svm\":\n",
    "        clf = SVC(gamma='auto', probability=True)\n",
    "    elif model == \"lr\":\n",
    "        clf = LogisticRegression(random_state=0, solver='lbfgs', multi_class='multinomial')\n",
    "    else:\n",
    "        print(\"Unrecognized model\", model)\n",
    "        return\n",
    "    clf = clf.fit(X_train, y_train)\n",
    "    # Predict based on the given features for the test set\n",
    "    y_pred = clf.predict(X_test)\n",
    "    predictions_probability = clf.predict_proba(X_test)\n",
    "    end_time = time.time()\n",
    "    return (clf, y_pred, predictions_probability, end_time - start_time)"
   ]
  },
  {
   "cell_type": "markdown",
   "metadata": {},
   "source": [
    "## Models, Definition & Fitting"
   ]
  },
  {
   "cell_type": "markdown",
   "metadata": {},
   "source": [
    "### Decision Tree Models"
   ]
  },
  {
   "cell_type": "code",
   "execution_count": 171,
   "metadata": {},
   "outputs": [],
   "source": [
    "dt_clf, dt_y_pred, dt_predictions_probability, dt_elapsed_time = model_fitting(X_train, y_train, X_test, \"dt\")"
   ]
  },
  {
   "cell_type": "code",
   "execution_count": null,
   "metadata": {},
   "outputs": [],
   "source": [
    "dt_clf2, dt_y_pred2, dt_predictions_probability2, dt_elapsed_time2 = model_fitting(X_train2, y_train2, X_test2, \"dt\")"
   ]
  },
  {
   "cell_type": "markdown",
   "metadata": {},
   "source": [
    "### Random Forest Models"
   ]
  },
  {
   "cell_type": "code",
   "execution_count": 172,
   "metadata": {},
   "outputs": [],
   "source": [
    "rf_clf, rf_y_pred, rf_predictions_probability, rf_elapsed_time = model_fitting(X_train, y_train, X_test, \"rf\")"
   ]
  },
  {
   "cell_type": "code",
   "execution_count": null,
   "metadata": {},
   "outputs": [],
   "source": [
    "rf_clf2, rf_y_pred2, rf_predictions_probability2, rf_elapsed_time2 = model_fitting(X_train2, y_train2, X_test2, \"rf\")"
   ]
  },
  {
   "cell_type": "markdown",
   "metadata": {},
   "source": [
    "### NBC Models"
   ]
  },
  {
   "cell_type": "code",
   "execution_count": 173,
   "metadata": {},
   "outputs": [],
   "source": [
    "nbc_clf, nbc_y_pred, nbc_predictions_probability, nbc_elapsed_time = model_fitting(X_train, y_train, X_test, \"nbc\")"
   ]
  },
  {
   "cell_type": "code",
   "execution_count": null,
   "metadata": {},
   "outputs": [],
   "source": [
    "nbc_clf2, nbc_y_pred2, nbc_predictions_probability2, nbc_elapsed_time2 = model_fitting(X_train2, y_train2, X_test2, \"nbc\")"
   ]
  },
  {
   "cell_type": "markdown",
   "metadata": {},
   "source": [
    "### SVM Models"
   ]
  },
  {
   "cell_type": "code",
   "execution_count": 140,
   "metadata": {},
   "outputs": [],
   "source": [
    "svm_clf, svm_y_pred, svm_predictions_probability, svm_elapsed_time = model_fitting(X_train, y_train, X_test, \"svm\")"
   ]
  },
  {
   "cell_type": "code",
   "execution_count": 200,
   "metadata": {},
   "outputs": [],
   "source": [
    "svm_clf2, svm_y_pred2, svm_predictions_probability2, svm_elapsed_time2 = model_fitting(X_train2, y_train2, X_test2, \"svm\")"
   ]
  },
  {
   "cell_type": "markdown",
   "metadata": {},
   "source": [
    "### Logistic Regressions"
   ]
  },
  {
   "cell_type": "code",
   "execution_count": 195,
   "metadata": {},
   "outputs": [
    {
     "name": "stderr",
     "output_type": "stream",
     "text": [
      "//anaconda3/lib/python3.7/site-packages/sklearn/linear_model/logistic.py:947: ConvergenceWarning: lbfgs failed to converge. Increase the number of iterations.\n",
      "  \"of iterations.\", ConvergenceWarning)\n",
      "//anaconda3/lib/python3.7/site-packages/sklearn/linear_model/logistic.py:947: ConvergenceWarning: lbfgs failed to converge. Increase the number of iterations.\n",
      "  \"of iterations.\", ConvergenceWarning)\n"
     ]
    }
   ],
   "source": [
    "lr_clf, lr_y_pred, lr_predictions_probability, lr_elapsed_time = model_fitting(X_train, y_train, X_test, \"lr\")"
   ]
  },
  {
   "cell_type": "code",
   "execution_count": null,
   "metadata": {},
   "outputs": [],
   "source": [
    "lr_clf2, lr_y_pred2, lr_predictions_probability2, lr_elapsed_time2 = model_fitting(X_train2, y_train2, X_test2, \"lr\")"
   ]
  },
  {
   "cell_type": "markdown",
   "metadata": {},
   "source": [
    "## Plots"
   ]
  },
  {
   "cell_type": "code",
   "execution_count": 474,
   "metadata": {},
   "outputs": [
    {
     "data": {
      "image/png": "[encoded data removed]",
      "text/plain": [
       "<Figure size 864x432 with 1 Axes>"
      ]
     },
     "metadata": {
      "needs_background": "light"
     },
     "output_type": "display_data"
    }
   ],
   "source": [
    "times = np.array([dt_elapsed_time, rf_elapsed_time, nbc_elapsed_time, svm_elapsed_time, lr_elapsed_time])\n",
    "times = np.log(times)\n",
    "times = times - min(times)\n",
    "times2 = np.array([dt_elapsed_time2, rf_elapsed_time2, nbc_elapsed_time2, svm_elapsed_time2, lr_elapsed_time2])\n",
    "times2 = np.log(times2)\n",
    "times2 = times2 - min(times2)\n",
    "\n",
    "plt.figure(figsize=(12, 6))\n",
    "plt.bar([0 - 0.125, 1 - 0.125, 2, 3 - 0.125, 4 - 0.125], times, width=0.25, color=\"gold\")\n",
    "for i in range(5):\n",
    "    plt.text(i - 0.125, times[i], round(times[i], 2), va='bottom', ha='center')\n",
    "plt.bar([0.125, 1.125, 2.125, 3.125, 4.125], times2, width=0.25, color=\"red\")\n",
    "for i in range(5):\n",
    "    plt.text(i + 0.125, times2[i], round(times2[i], 2), va='bottom', ha='center')\n",
    "\n",
    "plt.xticks([0, 1, 2, 3, 4], [\"DT\", \"RF\", \"NBC\", \"SVM\", \"LR\"])\n",
    "plt.xlabel(\"Classification\")\n",
    "plt.ylabel(\"Time (log seconds)\")\n",
    "plt.show()"
   ]
  },
  {
   "cell_type": "code",
   "execution_count": 391,
   "metadata": {},
   "outputs": [
    {
     "data": {
      "image/png": "[encoded data removed]",
      "text/plain": [
       "<Figure size 1296x1296 with 3 Axes>"
      ]
     },
     "metadata": {
      "needs_background": "light"
     },
     "output_type": "display_data"
    }
   ],
   "source": [
    "def apr(y_test, y_pred):\n",
    "    # print(\"Accuracy:\", metrics.accuracy_score(y_test, y_pred))\n",
    "\n",
    "    # print(\"Precision (average=None):\", metrics.precision_score(y_test, y_pred, average=None))\n",
    "    # print(\"Precision (average='micro'):\", metrics.precision_score(y_test, y_pred, average='micro'))\n",
    "    # print(\"Precision (average='macro'):\", metrics.precision_score(y_test, y_pred, average='macro'))\n",
    "    # print(\"Precision (average='weighted'):\", metrics.precision_score(y_test, y_pred, average='weighted'))\n",
    "\n",
    "    # print(\"Recall (average=None):\", metrics.recall_score(y_test, y_pred, average=None))\n",
    "    # print(\"Recall (average='micro'):\", metrics.recall_score(y_test, y_pred, average='micro'))\n",
    "    # print(\"Recall (average='macro'):\", metrics.recall_score(y_test, y_pred, average='macro'))\n",
    "    # print(\"Recall (average='weighted'):\", metrics.recall_score(y_test, y_pred, average='weighted'))\n",
    "    \n",
    "    # print()\n",
    "    \n",
    "    return metrics.accuracy_score(y_test, y_pred), metrics.precision_score(y_test, y_pred, average=None), metrics.recall_score(y_test, y_pred, average=None)\n",
    "\n",
    "f, (ax1, ax2, ax3) = plt.subplots(3, 1, figsize=(18,18))\n",
    "for i, y_pred in enumerate([dt_y_pred, rf_y_pred, nbc_y_pred, svm_y_pred, lr_y_pred]):\n",
    "    acc_prec_rec = apr(y_test, y_pred)\n",
    "\n",
    "    rect = ax1.bar(i, acc_prec_rec[0], width=0.5)\n",
    "    ax1.text(0.2 * i + 0.1, acc_prec_rec[0], round(acc_prec_rec[0], 2), va='center', ha='center', transform=ax1.transAxes)\n",
    "\n",
    "    ax2.bar(i * 2.5 - 0.75, acc_prec_rec[1][0], width=0.5, color=\"red\")\n",
    "    ax2.text((10 / 52) * i + (3 / 52),\n",
    "             (0.05 + acc_prec_rec[1][0]) / 2,\n",
    "             round(acc_prec_rec[1][0], 2),\n",
    "             va='center', ha='center', transform=ax2.transAxes)\n",
    "    ax2.bar(i * 2.5 - 0.25, acc_prec_rec[1][1], width=0.5, color=\"green\")\n",
    "    ax2.text((10 / 52) * i + (5 / 52),\n",
    "             (0.05 + acc_prec_rec[1][1]) / 2,\n",
    "             round(acc_prec_rec[1][1], 2),\n",
    "             va='center', ha='center', transform=ax2.transAxes)\n",
    "    ax2.bar(i * 2.5 + 0.25, acc_prec_rec[1][2], width=0.5, color=\"lightblue\")\n",
    "    ax2.text((10 / 52) * i + (7 / 52),\n",
    "             (0.05 + acc_prec_rec[1][2]) / 2,\n",
    "             round(acc_prec_rec[1][2], 2),\n",
    "             va='center', ha='center', transform=ax2.transAxes)\n",
    "    ax2.bar(i * 2.5 + 0.75, acc_prec_rec[1][3], width=0.5, color=\"gold\")\n",
    "    ax2.text((10 / 52) * i + (9 / 52),\n",
    "             (0.05 + acc_prec_rec[1][3]) / 2,\n",
    "             round(acc_prec_rec[1][3], 2),\n",
    "             va='center', ha='center', transform=ax2.transAxes)\n",
    "\n",
    "    ax3.bar(i * 2.5 - 0.75, acc_prec_rec[2][0], width=0.5, color=\"red\")\n",
    "    ax3.text((10 / 52) * i + (3 / 52),\n",
    "             (0.05 + acc_prec_rec[2][0]) / 2,\n",
    "             round(acc_prec_rec[2][0], 2),\n",
    "             va='center', ha='center', transform=ax3.transAxes)\n",
    "    ax3.bar(i * 2.5 - 0.25, acc_prec_rec[2][1], width=0.5, color=\"green\")\n",
    "    ax3.text((10 / 52) * i + (5 / 52),\n",
    "             (0.05 + acc_prec_rec[2][1]) / 2,\n",
    "             round(acc_prec_rec[2][1], 2),\n",
    "             va='center', ha='center', transform=ax3.transAxes)\n",
    "    ax3.bar(i * 2.5 + 0.25, acc_prec_rec[2][2], width=0.5, color=\"lightblue\")\n",
    "    ax3.text((10 / 52) * i + (7 / 52),\n",
    "             (0.05 + acc_prec_rec[2][2]) / 2,\n",
    "             round(acc_prec_rec[2][2], 2),\n",
    "             va='center', ha='center', transform=ax3.transAxes)\n",
    "    ax3.bar(i * 2.5 + 0.75, acc_prec_rec[2][3], width=0.5, color=\"gold\")\n",
    "    ax3.text((10 / 52) * i + (9 / 52),\n",
    "             (0.05 + acc_prec_rec[2][3]) / 2,\n",
    "             round(acc_prec_rec[2][3], 2),\n",
    "             va='center', ha='center', transform=ax3.transAxes)\n",
    "\n",
    "ax1.legend([\"DT\", \"RF\", \"NBC\", \"SVM\", \"LR\"])\n",
    "plt.sca(ax1)\n",
    "plt.xticks([0, 1, 2, 3, 4], [\"DT\", \"RF\", \"NBC\", \"SVM\", \"LR\"])\n",
    "plt.xlabel(\"Classification\")\n",
    "plt.ylabel(\"Category Accuracy\")\n",
    "\n",
    "ax2.legend([\"Category 1\", \"Category 2\", \"Category 3\", \"Category 4\"])\n",
    "plt.sca(ax2)\n",
    "plt.xticks([0, 2.5, 5, 7.5, 10], [\"DT\", \"RF\", \"NBC\", \"SVM\", \"LR\"])\n",
    "plt.xlabel(\"Classification\")\n",
    "plt.ylabel(\"Category Precision\")\n",
    "\n",
    "ax3.legend([\"Category 1\", \"Category 2\", \"Category 3\", \"Category 4\"])\n",
    "plt.sca(ax3)\n",
    "plt.xticks([0, 2.5, 5, 7.5, 10], [\"DT\", \"RF\", \"NBC\", \"SVM\", \"LR\"])\n",
    "plt.xlabel(\"Classification\")\n",
    "plt.ylabel(\"Category Recall\")\n",
    "\n",
    "plt.show()"
   ]
  },
  {
   "cell_type": "code",
   "execution_count": 444,
   "metadata": {},
   "outputs": [
    {
     "data": {
      "image/png": "[encoded data removed]",
      "text/plain": [
       "<Figure size 864x432 with 1 Axes>"
      ]
     },
     "metadata": {
      "needs_background": "light"
     },
     "output_type": "display_data"
    }
   ],
   "source": [
    "# Accuracy within range\n",
    "def accuracy_range(y_test2, y_pred2, margin):\n",
    "    return np.sum(np.absolute(y_test2 - y_pred2) <= margin) / len(y_test2)\n",
    "\n",
    "plt.figure(figsize=(12, 6))\n",
    "for y_pred2 in [dt_y_pred2, rf_y_pred2, nbc_y_pred2, svm_y_pred2, lr_y_pred2]:\n",
    "    ar_array = [accuracy_range(y_test2, y_pred2, margin) for margin in [0, 1, 5, 10, 25, 50, 100, 200]]\n",
    "    ar_array_rounded = [round(ar, 2) for ar in ar_array]\n",
    "    plt.plot([0, 1, 5, 10, 25, 50, 100, 200], ar_array, linestyle='-', marker='o')\n",
    "    plt.text(25, ar_array[4], ar_array_rounded[4], va='bottom', ha='center')\n",
    "    plt.text(50, ar_array[5], ar_array_rounded[5], va='bottom', ha='center')\n",
    "    plt.text(100, ar_array[6], ar_array_rounded[6], va='bottom', ha='center')\n",
    "    plt.text(200, ar_array[7], ar_array_rounded[7], va='bottom', ha='center')\n",
    "\n",
    "plt.legend([\"DT\", \"RF\", \"NBC\", \"SVM\", \"LR\"])\n",
    "plt.xlabel(\"Range of Margin\")\n",
    "plt.ylabel(\"Accuracy\")\n",
    "plt.show()"
   ]
  },
  {
   "cell_type": "code",
   "execution_count": 426,
   "metadata": {},
   "outputs": [
    {
     "data": {
      "image/png": "[encoded data removed]",
      "text/plain": [
       "<Figure size 864x432 with 1 Axes>"
      ]
     },
     "metadata": {
      "needs_background": "light"
     },
     "output_type": "display_data"
    }
   ],
   "source": [
    "def rmse(pred, label):\n",
    "    return np.sqrt(np.sum(np.square(np.subtract(pred, label))) / len(pred))\n",
    "\n",
    "plt.figure(figsize=(12, 6))\n",
    "for i, y_pred2 in enumerate([dt_y_pred2, rf_y_pred2, nbc_y_pred2, svm_y_pred2, lr_y_pred2]):\n",
    "    rmse_val = rmse(y_test2, y_pred2)\n",
    "    plt.bar(i, rmse_val)\n",
    "    plt.text(i, rmse_val, round(rmse_val, 2), va='bottom', ha='center')\n",
    "\n",
    "plt.legend([\"DT\", \"RF\", \"NBC\", \"SVM\", \"LR\"])\n",
    "plt.xticks([0, 1, 2, 3, 4], [\"DT\", \"RF\", \"NBC\", \"SVM\", \"LR\"])\n",
    "plt.xlabel(\"Classification\")\n",
    "plt.ylabel(\"RMSE\")\n",
    "plt.show()"
   ]
  },
  {
   "cell_type": "code",
   "execution_count": 427,
   "metadata": {},
   "outputs": [
    {
     "data": {
      "text/plain": [
       "0.5452819114042053"
      ]
     },
     "execution_count": 427,
     "metadata": {},
     "output_type": "execute_result"
    }
   ],
   "source": [
    "len(training_data[training_data[\"Crime Category\"] == 4]) / len(training_data)"
   ]
  },
  {
   "cell_type": "code",
   "execution_count": null,
   "metadata": {},
   "outputs": [],
   "source": []
  }
 ],
 "metadata": {
  "kernelspec": {
   "display_name": "Python 3",
   "language": "python",
   "name": "python3"
  },
  "language_info": {
   "codemirror_mode": {
    "name": "ipython",
    "version": 3
   },
   "file_extension": ".py",
   "mimetype": "text/x-python",
   "name": "python",
   "nbconvert_exporter": "python",
   "pygments_lexer": "ipython3",
   "version": "3.7.3"
  }
 },
 "nbformat": 4,
 "nbformat_minor": 4
}
