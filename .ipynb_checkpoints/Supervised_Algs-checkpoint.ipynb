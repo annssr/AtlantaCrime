{
 "cells": [
  {
   "cell_type": "markdown",
   "metadata": {},
   "source": [
    "# Atlanta Crime - Supervised Learning"
   ]
  },
  {
   "cell_type": "markdown",
   "metadata": {},
   "source": [
    "## Description\n",
    "In this part of the project, we will use supervised learning algorithms, namely, Decision Trees/Random Forests, SVM, and Logistic Regression algorithms to predict crime score for a given location and time."
   ]
  },
  {
   "cell_type": "markdown",
   "metadata": {},
   "source": [
    "## Import Packages"
   ]
  },
  {
   "cell_type": "code",
   "execution_count": null,
   "metadata": {},
   "outputs": [],
   "source": [
    "import pandas as pd\n",
    "from sklearn.tree import DecisionTreeClassifier # Import Decision Tree Classifier\n",
    "from sklearn.tree import plot_tree\n",
    "from sklearn.tree.export import export_text\n",
    "from sklearn.model_selection import train_test_split # Import train_test_split function\n",
    "from sklearn import metrics #Import scikit-learn metrics module for accuracy calculation\n",
    "from sklearn import preprocessing\n",
    "from sklearn.ensemble import RandomForestClassifier\n",
    "from sklearn.naive_bayes import GaussianNB\n",
    "from sklearn.svm import SVC\n",
    "import datetime\n",
    "import random"
   ]
  },
  {
   "cell_type": "markdown",
   "metadata": {},
   "source": [
    "## Load in Data"
   ]
  },
  {
   "cell_type": "code",
   "execution_count": null,
   "metadata": {},
   "outputs": [],
   "source": [
    "# data = pd.read_csv(\"data/examples/cobra_example_10.csv\") #, sep=',', header=0, engine='python', usecols = lambda column : column in [\"Neighborhood\", \"Month\", \"Day\", \"Shift\"])\n",
    "data = pd.read_csv(\"cobra-counts.csv\") #, sep=',', header=0, usecols = lambda column : column in [\"Occur Date\", \"Neighborhood\", \"Shift Occurence\"])\n",
    "\n",
    "# def day_of_week(row):\n",
    "#     cur_date = row['Occur Date']\n",
    "#     year, month, day = (int(x) for x in cur_date.split('-'))\n",
    "#     dt = datetime.date(year, month, day)\n",
    "#     return(dt.weekday())\n",
    "\n",
    "# def month(row):\n",
    "#     cur_date = row['Occur Date']\n",
    "#     year, month, day = (int(x) for x in cur_date.split('-'))\n",
    "#     return month\n",
    "\n",
    "# data['Day of Week'] = data.apply(lambda row: day_of_week (row), axis=1)\n",
    "# data['Month'] = data.apply(lambda row: month (row), axis=1)\n",
    "# data = data.drop(['Occur Date'], 1)\n",
    "\n",
    "# range(0 - 1000)\n",
    "# two decimal places\n",
    "#data['Crime Score'] = data.apply(lambda row: random.randint(0 * 100, 1000 * 100), axis=1)\n",
    "data['Crime Score'] = 1000*data['Category 1'] + 100*data['Category 2'] + 10*data['Category 3'] + 1*data['Category 4']\n",
    "data.head()"
   ]
  },
  {
   "cell_type": "markdown",
   "metadata": {},
   "source": [
    "## Decision Tree Model"
   ]
  },
  {
   "cell_type": "markdown",
   "metadata": {},
   "source": [
    "### Transforming the data"
   ]
  },
  {
   "cell_type": "code",
   "execution_count": null,
   "metadata": {},
   "outputs": [],
   "source": [
    "le = preprocessing.LabelEncoder()\n",
    "le.fit(data[\"Neighborhood\"])\n",
    "data[\"Neighborhood\"] = le.transform(data[\"Neighborhood\"])\n",
    "le.fit(data[\"Shift\"])\n",
    "data[\"Shift\"] = le.transform(data[\"Shift\"])\n",
    "\n",
    "data.head()"
   ]
  },
  {
   "cell_type": "code",
   "execution_count": null,
   "metadata": {},
   "outputs": [],
   "source": [
    "# Reading data & split into training and testing sets\n",
    "X = data.drop(['Crime Score','Category 1','Category 2','Category 3','Category 4'], 1)\n",
    "# print(X)\n",
    "y = data['Crime Score']\n",
    "# print(y)\n",
    "\n",
    "X_train, X_test, y_train, y_test = train_test_split(X, y, test_size = 0.3, random_state=100)\n",
    "# Geeksforgeeks: \"random_state\" variable is a pseudo-random number generator state used for random sampling\n",
    "\n",
    "# X_train = X[:int(len(X) * 0.7)]\n",
    "# X_test = X[int(len(X) * 0.7):]\n",
    "# y_train = y[:int(len(y) * 0.7)]\n",
    "# y_test = y[int(len(y) * 0.7):]"
   ]
  },
  {
   "cell_type": "code",
   "execution_count": null,
   "metadata": {},
   "outputs": [],
   "source": [
    "# Model Definition & Fitting\n",
    "clf = DecisionTreeClassifier()\n",
    "clf = clf.fit(X_train[:int(len(X_train) * 0.25)], y_train[:int(len(y_train) * 0.25)])\n",
    "\n",
    "# Predict based on the given features for the test set\n",
    "y_pred = clf.predict(X_test[:int(len(X_test) * 0.25)])\n",
    "predictions_probability = clf.predict_proba(X_test[:int(len(X_test) * 0.25)])"
   ]
  },
  {
   "cell_type": "code",
   "execution_count": null,
   "metadata": {},
   "outputs": [],
   "source": [
    "X_test.head()"
   ]
  },
  {
   "cell_type": "markdown",
   "metadata": {},
   "source": [
    "### Decision Tree Metrics & Plots"
   ]
  },
  {
   "cell_type": "code",
   "execution_count": null,
   "metadata": {},
   "outputs": [],
   "source": [
    "# Accuracy within range 5000 (50 crime score point difference)\n",
    "count = 0\n",
    "i = 0\n",
    "for keys in y_test:\n",
    "    if i >= int(len(y_test) * 0.25):\n",
    "        break\n",
    "    if (keys - y_pred[i] >= 0 and keys - y_pred[i] <= 5000) or (keys - y_pred[i] <= 0 and keys - y_pred[i] >= -5000):\n",
    "        count += 1\n",
    "    i += 1\n",
    "print(\"Accuracy:\", count / int(len(y_test) * 0.25))"
   ]
  },
  {
   "cell_type": "code",
   "execution_count": null,
   "metadata": {},
   "outputs": [],
   "source": [
    "# Classification Metrics\n",
    "# print(\"Accuracy:\",metrics.accuracy_score(y_test[:int(len(y_test) * 0.25)], y_pred))\n",
    "# print(\"Precision:\",metrics.precision_score(y_test[:int(len(y_test) * 0.25)], y_pred))\n",
    "# print(\"Recall:\",metrics.recall_score(y_test[:int(len(y_test) * 0.25)], y_pred))\n",
    "\n",
    "# # Compare to the actual labels\n",
    "# '''Insert comparison methods here'''\n",
    "\n",
    "# Plot the tree\n",
    "plot_tree(clf)\n",
    "\n",
    "# # Export a text file containing the rules for the decision tree\n",
    "# '''decision_tree = DecisionTreeClassifier(random_state=0, max_depth=2) # \n",
    "# decision_tree = decision_tree.fit(X, Y)\n",
    "# r = export_text(decision_tree, feature_names=iris['feature_names'])\n",
    "# print(r)'''"
   ]
  },
  {
   "cell_type": "markdown",
   "metadata": {},
   "source": [
    "## Random Forest Model"
   ]
  },
  {
   "cell_type": "code",
   "execution_count": null,
   "metadata": {},
   "outputs": [],
   "source": [
    "# Source: https://www.datacamp.com/community/tutorials/random-forests-classifier-python\n",
    "\n",
    "# Keeps on prompting a restart of the kernel\n",
    "\n",
    "# Create a Gaussian Classifier\n",
    "rf_clf = RandomForestClassifier(n_estimators=50)\n",
    "\n",
    "# Train the model using the training sets y_pred=clf.predict(X_test)\n",
    "rf_clf = rf_clf.fit(X_train[:int(len(X_train) * 0.1)], y_train[:int(len(y_train) * 0.1)])\n",
    "\n",
    "rf_y_pred = rf_clf.predict(X_test[:int(len(X_test) * 0.1)])\n",
    "rf_predictions_probability = rf_clf.predict_proba(X_test[:int(len(X_test) * 0.1)])"
   ]
  },
  {
   "cell_type": "code",
   "execution_count": null,
   "metadata": {},
   "outputs": [],
   "source": [
    "# Accuracy within range 5000 (50 crime score point difference)\n",
    "count = 0\n",
    "i = 0\n",
    "for keys in y_test:\n",
    "    if i >= int(len(y_test) * 0.1):\n",
    "        break\n",
    "    if (keys - rf_y_pred[i] >= 0 and keys - rf_y_pred[i] <= 5000):\n",
    "        count += 1\n",
    "    elif (keys - rf_y_pred[i] <= 0 and keys - rf_y_pred[i] >= -5000):\n",
    "        count += 1\n",
    "    i += 1\n",
    "print(\"Accuracy:\", count / int(len(y_test) * 0.25))\n",
    "# print(\"Precision:\", metrics.precision_score(y_test[:int(len(y_test) * 0.25)], rf_y_pred))\n",
    "# print([keys for keys in y_test[:int(len(y_test) * 0.25)]])\n",
    "# print(rf_y_pred)\n",
    "# print(\"Precision:\", metrics.precision_score([keys for keys in y_test[:int(len(y_test) * 0.25)]], rf_y_pred))"
   ]
  },
  {
   "cell_type": "markdown",
   "metadata": {},
   "source": [
    "## NBC Model"
   ]
  },
  {
   "cell_type": "code",
   "execution_count": null,
   "metadata": {},
   "outputs": [],
   "source": [
    "gnb = GaussianNB()\n",
    "gnb = gnb.fit(X_train[:int(len(X_train) * 0.25)], y_train[:int(len(y_train) * 0.25)])\n",
    "\n",
    "nbc_y_pred = gnb.predict(X_test[:int(len(X_test) * 0.25)])\n",
    "nbc_predictions_probability = gnb.predict_proba(X_test[:int(len(X_test) * 0.25)])"
   ]
  },
  {
   "cell_type": "code",
   "execution_count": null,
   "metadata": {},
   "outputs": [],
   "source": [
    "# Accuracy within range 5000 (50 crime score point difference)\n",
    "count = 0\n",
    "i = 0\n",
    "for keys in y_test:\n",
    "    if i >= int(len(y_test) * 0.25):\n",
    "        break\n",
    "    if (keys - nbc_y_pred[i] >= 0 and keys - nbc_y_pred[i] <= 5000):\n",
    "        count += 1\n",
    "    elif (keys - nbc_y_pred[i] <= 0 and keys - nbc_y_pred[i] >= -5000):\n",
    "        count += 1\n",
    "    i += 1\n",
    "print(\"Accuracy:\", count / int(len(y_test) * 0.25))"
   ]
  },
  {
   "cell_type": "markdown",
   "metadata": {},
   "source": [
    "## SVM Model"
   ]
  },
  {
   "cell_type": "code",
   "execution_count": null,
   "metadata": {},
   "outputs": [],
   "source": [
    "svm_clf = SVC(gamma='auto')\n",
    "svm_clf = svm_clf.fit(X_train[:int(len(X_train) * 0.25)], y_train[:int(len(y_train) * 0.25)])\n",
    "\n",
    "svm_y_pred = svm_clf.predict(X_test[:int(len(X_test) * 0.25)])\n",
    "svm_predictions_probability = svm_clf.predict_proba(X_test[:int(len(X_test) * 0.25)])"
   ]
  },
  {
   "cell_type": "code",
   "execution_count": null,
   "metadata": {},
   "outputs": [],
   "source": [
    "# Accuracy within range 5000 (50 crime score point difference)\n",
    "count = 0\n",
    "i = 0\n",
    "for keys in y_test:\n",
    "    if i >= int(len(y_test) * 0.25):\n",
    "        break\n",
    "    if (keys - svm_y_pred[i] >= 0 and keys - svm_y_pred[i] <= 5000):\n",
    "        count += 1\n",
    "    elif (keys - svm_y_pred[i] <= 0 and keys - svm_y_pred[i] >= -5000):\n",
    "        count += 1\n",
    "    i += 1\n",
    "print(\"Accuracy:\", count / int(len(y_test) * 0.25))"
   ]
  }
 ],
 "metadata": {
  "kernelspec": {
   "display_name": "Python 3",
   "language": "python",
   "name": "python3"
  },
  "language_info": {
   "codemirror_mode": {
    "name": "ipython",
    "version": 3
   },
   "file_extension": ".py",
   "mimetype": "text/x-python",
   "name": "python",
   "nbconvert_exporter": "python",
   "pygments_lexer": "ipython3",
   "version": "3.7.3"
  }
 },
 "nbformat": 4,
 "nbformat_minor": 4
}
