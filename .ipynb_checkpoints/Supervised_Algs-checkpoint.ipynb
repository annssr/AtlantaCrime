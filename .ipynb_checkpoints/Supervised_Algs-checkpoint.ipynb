{
 "cells": [
  {
   "cell_type": "markdown",
   "metadata": {},
   "source": [
    "# Atlanta Crime - Supervised Learning"
   ]
  },
  {
   "cell_type": "markdown",
   "metadata": {},
   "source": [
    "## Description\n",
    "In this part of the project, we will use supervised learning algorithms, namely, Decision Trees/Random Forests, SVM, and Logistic Regression algorithms to predict crime score for a given location and time."
   ]
  },
  {
   "cell_type": "markdown",
   "metadata": {},
   "source": [
    "## Import Packages"
   ]
  },
  {
   "cell_type": "code",
   "execution_count": 40,
   "metadata": {},
   "outputs": [],
   "source": [
    "import pandas as pd\n",
    "from sklearn.tree import DecisionTreeClassifier # Import Decision Tree Classifier\n",
    "from sklearn.tree import plot_tree\n",
    "from sklearn.tree.export import export_text\n",
    "from sklearn.model_selection import train_test_split # Import train_test_split function\n",
    "from sklearn import metrics #Import scikit-learn metrics module for accuracy calculation\n",
    "from sklearn import preprocessing\n",
    "import datetime\n",
    "import random"
   ]
  },
  {
   "cell_type": "markdown",
   "metadata": {},
   "source": [
    "## Load in Data"
   ]
  },
  {
   "cell_type": "code",
   "execution_count": 2,
   "metadata": {},
   "outputs": [
    {
     "data": {
      "text/html": [
       "<div>\n",
       "<style scoped>\n",
       "    .dataframe tbody tr th:only-of-type {\n",
       "        vertical-align: middle;\n",
       "    }\n",
       "\n",
       "    .dataframe tbody tr th {\n",
       "        vertical-align: top;\n",
       "    }\n",
       "\n",
       "    .dataframe thead th {\n",
       "        text-align: right;\n",
       "    }\n",
       "</style>\n",
       "<table border=\"1\" class=\"dataframe\">\n",
       "  <thead>\n",
       "    <tr style=\"text-align: right;\">\n",
       "      <th></th>\n",
       "      <th>Neighborhood</th>\n",
       "      <th>Shift Occurence</th>\n",
       "      <th>Day of Week</th>\n",
       "      <th>Month</th>\n",
       "      <th>Crime Score</th>\n",
       "    </tr>\n",
       "  </thead>\n",
       "  <tbody>\n",
       "    <tr>\n",
       "      <th>0</th>\n",
       "      <td>Greenbriar</td>\n",
       "      <td>Day</td>\n",
       "      <td>3</td>\n",
       "      <td>1</td>\n",
       "      <td>93912</td>\n",
       "    </tr>\n",
       "    <tr>\n",
       "      <th>1</th>\n",
       "      <td>Downtown</td>\n",
       "      <td>Day</td>\n",
       "      <td>3</td>\n",
       "      <td>1</td>\n",
       "      <td>20634</td>\n",
       "    </tr>\n",
       "    <tr>\n",
       "      <th>2</th>\n",
       "      <td>Lenox</td>\n",
       "      <td>Day</td>\n",
       "      <td>3</td>\n",
       "      <td>1</td>\n",
       "      <td>49766</td>\n",
       "    </tr>\n",
       "    <tr>\n",
       "      <th>3</th>\n",
       "      <td>Greenbriar</td>\n",
       "      <td>Evening</td>\n",
       "      <td>3</td>\n",
       "      <td>1</td>\n",
       "      <td>90549</td>\n",
       "    </tr>\n",
       "    <tr>\n",
       "      <th>4</th>\n",
       "      <td>Edgewood</td>\n",
       "      <td>Evening</td>\n",
       "      <td>3</td>\n",
       "      <td>1</td>\n",
       "      <td>69844</td>\n",
       "    </tr>\n",
       "  </tbody>\n",
       "</table>\n",
       "</div>"
      ],
      "text/plain": [
       "  Neighborhood Shift Occurence  Day of Week  Month  Crime Score\n",
       "0   Greenbriar             Day            3      1        93912\n",
       "1     Downtown             Day            3      1        20634\n",
       "2        Lenox             Day            3      1        49766\n",
       "3   Greenbriar         Evening            3      1        90549\n",
       "4     Edgewood         Evening            3      1        69844"
      ]
     },
     "execution_count": 2,
     "metadata": {},
     "output_type": "execute_result"
    }
   ],
   "source": [
    "# data = pd.read_csv(\"data/examples/cobra_example_10.csv\") #, sep=',', header=0, engine='python', usecols = lambda column : column in [\"Neighborhood\", \"Month\", \"Day\", \"Shift\"])\n",
    "data = pd.read_csv(\"cobra-clean.csv\", sep=',', header=0, usecols = lambda column : column in [\"Occur Date\", \"Neighborhood\", \"Shift Occurence\"])\n",
    "\n",
    "def day_of_week(row):\n",
    "    cur_date = row['Occur Date']\n",
    "    year, month, day = (int(x) for x in cur_date.split('-'))\n",
    "    dt = datetime.date(year, month, day)\n",
    "    return(dt.weekday())\n",
    "\n",
    "def month(row):\n",
    "    cur_date = row['Occur Date']\n",
    "    year, month, day = (int(x) for x in cur_date.split('-'))\n",
    "    return month\n",
    "\n",
    "data['Day of Week'] = data.apply(lambda row: day_of_week (row), axis=1)\n",
    "data['Month'] = data.apply(lambda row: month (row), axis=1)\n",
    "data = data.drop(['Occur Date'], 1)\n",
    "\n",
    "# range(0 - 1000)\n",
    "# two decimal places\n",
    "data['Crime Score'] = data.apply(lambda row: random.randint(0 * 100, 1000 * 100), axis=1)\n",
    "\n",
    "data.head()"
   ]
  },
  {
   "cell_type": "markdown",
   "metadata": {},
   "source": [
    "## Decision Tree Model"
   ]
  },
  {
   "cell_type": "code",
   "execution_count": 3,
   "metadata": {},
   "outputs": [
    {
     "data": {
      "text/html": [
       "<div>\n",
       "<style scoped>\n",
       "    .dataframe tbody tr th:only-of-type {\n",
       "        vertical-align: middle;\n",
       "    }\n",
       "\n",
       "    .dataframe tbody tr th {\n",
       "        vertical-align: top;\n",
       "    }\n",
       "\n",
       "    .dataframe thead th {\n",
       "        text-align: right;\n",
       "    }\n",
       "</style>\n",
       "<table border=\"1\" class=\"dataframe\">\n",
       "  <thead>\n",
       "    <tr style=\"text-align: right;\">\n",
       "      <th></th>\n",
       "      <th>Neighborhood</th>\n",
       "      <th>Shift Occurence</th>\n",
       "      <th>Day of Week</th>\n",
       "      <th>Month</th>\n",
       "      <th>Crime Score</th>\n",
       "    </tr>\n",
       "  </thead>\n",
       "  <tbody>\n",
       "    <tr>\n",
       "      <th>0</th>\n",
       "      <td>86</td>\n",
       "      <td>0</td>\n",
       "      <td>3</td>\n",
       "      <td>1</td>\n",
       "      <td>93912</td>\n",
       "    </tr>\n",
       "    <tr>\n",
       "      <th>1</th>\n",
       "      <td>64</td>\n",
       "      <td>0</td>\n",
       "      <td>3</td>\n",
       "      <td>1</td>\n",
       "      <td>20634</td>\n",
       "    </tr>\n",
       "    <tr>\n",
       "      <th>2</th>\n",
       "      <td>111</td>\n",
       "      <td>0</td>\n",
       "      <td>3</td>\n",
       "      <td>1</td>\n",
       "      <td>49766</td>\n",
       "    </tr>\n",
       "    <tr>\n",
       "      <th>3</th>\n",
       "      <td>86</td>\n",
       "      <td>1</td>\n",
       "      <td>3</td>\n",
       "      <td>1</td>\n",
       "      <td>90549</td>\n",
       "    </tr>\n",
       "    <tr>\n",
       "      <th>4</th>\n",
       "      <td>70</td>\n",
       "      <td>1</td>\n",
       "      <td>3</td>\n",
       "      <td>1</td>\n",
       "      <td>69844</td>\n",
       "    </tr>\n",
       "  </tbody>\n",
       "</table>\n",
       "</div>"
      ],
      "text/plain": [
       "   Neighborhood  Shift Occurence  Day of Week  Month  Crime Score\n",
       "0            86                0            3      1        93912\n",
       "1            64                0            3      1        20634\n",
       "2           111                0            3      1        49766\n",
       "3            86                1            3      1        90549\n",
       "4            70                1            3      1        69844"
      ]
     },
     "execution_count": 3,
     "metadata": {},
     "output_type": "execute_result"
    }
   ],
   "source": [
    "le = preprocessing.LabelEncoder()\n",
    "le.fit(data[\"Neighborhood\"])\n",
    "data[\"Neighborhood\"] = le.transform(data[\"Neighborhood\"])\n",
    "le.fit(data[\"Shift Occurence\"])\n",
    "data[\"Shift Occurence\"] = le.transform(data[\"Shift Occurence\"])\n",
    "data.head()"
   ]
  },
  {
   "cell_type": "code",
   "execution_count": 69,
   "metadata": {},
   "outputs": [],
   "source": [
    "# Reading data & split into training and testing sets\n",
    "X = data.drop(['Crime Score'], 1)\n",
    "# print(X)\n",
    "y = data['Crime Score']\n",
    "# print(y)\n",
    "\n",
    "X_train, X_test, y_train, y_test = train_test_split(X, y, test_size = 0.3, random_state=100)\n",
    "# Geeksforgeeks: \"random_state\" variable is a pseudo-random number generator state used for random sampling\n",
    "\n",
    "# X_train = X[:int(len(X) * 0.7)]\n",
    "# X_test = X[int(len(X) * 0.7):]\n",
    "# y_train = y[:int(len(y) * 0.7)]\n",
    "# y_test = y[int(len(y) * 0.7):]"
   ]
  },
  {
   "cell_type": "code",
   "execution_count": null,
   "metadata": {},
   "outputs": [],
   "source": [
    "# Model Definition & Fitting\n",
    "clf = DecisionTreeClassifier()\n",
    "clf = clf.fit(X_train[:int(len(X_train) * 0.25)], y_train[:int(len(y_train) * 0.25)])\n",
    "\n",
    "# Predict based on the given features for the test set\n",
    "y_pred = clf.predict(X_test[:int(len(X_test) * 0.25)])\n",
    "predictions_probability = clf.predict_proba(X_test[:int(len(X_test) * 0.25)])"
   ]
  },
  {
   "cell_type": "code",
   "execution_count": 71,
   "metadata": {},
   "outputs": [
    {
     "data": {
      "text/html": [
       "<div>\n",
       "<style scoped>\n",
       "    .dataframe tbody tr th:only-of-type {\n",
       "        vertical-align: middle;\n",
       "    }\n",
       "\n",
       "    .dataframe tbody tr th {\n",
       "        vertical-align: top;\n",
       "    }\n",
       "\n",
       "    .dataframe thead th {\n",
       "        text-align: right;\n",
       "    }\n",
       "</style>\n",
       "<table border=\"1\" class=\"dataframe\">\n",
       "  <thead>\n",
       "    <tr style=\"text-align: right;\">\n",
       "      <th></th>\n",
       "      <th>Neighborhood</th>\n",
       "      <th>Shift Occurence</th>\n",
       "      <th>Day of Week</th>\n",
       "      <th>Month</th>\n",
       "    </tr>\n",
       "  </thead>\n",
       "  <tbody>\n",
       "    <tr>\n",
       "      <th>164059</th>\n",
       "      <td>67</td>\n",
       "      <td>2</td>\n",
       "      <td>5</td>\n",
       "      <td>12</td>\n",
       "    </tr>\n",
       "    <tr>\n",
       "      <th>106352</th>\n",
       "      <td>64</td>\n",
       "      <td>0</td>\n",
       "      <td>0</td>\n",
       "      <td>2</td>\n",
       "    </tr>\n",
       "    <tr>\n",
       "      <th>236678</th>\n",
       "      <td>149</td>\n",
       "      <td>0</td>\n",
       "      <td>0</td>\n",
       "      <td>7</td>\n",
       "    </tr>\n",
       "    <tr>\n",
       "      <th>214246</th>\n",
       "      <td>133</td>\n",
       "      <td>1</td>\n",
       "      <td>2</td>\n",
       "      <td>9</td>\n",
       "    </tr>\n",
       "    <tr>\n",
       "      <th>65066</th>\n",
       "      <td>151</td>\n",
       "      <td>0</td>\n",
       "      <td>1</td>\n",
       "      <td>11</td>\n",
       "    </tr>\n",
       "  </tbody>\n",
       "</table>\n",
       "</div>"
      ],
      "text/plain": [
       "        Neighborhood  Shift Occurence  Day of Week  Month\n",
       "164059            67                2            5     12\n",
       "106352            64                0            0      2\n",
       "236678           149                0            0      7\n",
       "214246           133                1            2      9\n",
       "65066            151                0            1     11"
      ]
     },
     "execution_count": 71,
     "metadata": {},
     "output_type": "execute_result"
    }
   ],
   "source": [
    "X_test.head()"
   ]
  },
  {
   "cell_type": "code",
   "execution_count": 73,
   "metadata": {},
   "outputs": [
    {
     "name": "stdout",
     "output_type": "stream",
     "text": [
      "Accuracy: 0.09376949817274267\n"
     ]
    }
   ],
   "source": [
    "# Accuracy within range 5000 (50 crime score point difference)\n",
    "count = 0\n",
    "i = 0\n",
    "for keys in y_test:\n",
    "    if i >= int(len(y_test) * 0.25):\n",
    "        break\n",
    "    if (keys - y_pred[i] >= 0 and keys - y_pred[i] <= 5000) or (keys - y_pred[i] <= 0 and keys - y_pred[i] >= -5000):\n",
    "        count += 1\n",
    "    i += 1\n",
    "print(\"Accuracy:\", count / int(len(y_test) * 0.25))"
   ]
  },
  {
   "cell_type": "markdown",
   "metadata": {},
   "source": [
    "## Decision Tree Metrics & Plots"
   ]
  },
  {
   "cell_type": "code",
   "execution_count": 75,
   "metadata": {},
   "outputs": [
    {
     "name": "stdout",
     "output_type": "stream",
     "text": [
      "Accuracy: 0.0\n"
     ]
    },
    {
     "ename": "NameError",
     "evalue": "name 'iris' is not defined",
     "output_type": "error",
     "traceback": [
      "\u001b[0;31m---------------------------------------------------------------------------\u001b[0m",
      "\u001b[0;31mNameError\u001b[0m                                 Traceback (most recent call last)",
      "\u001b[0;32m<ipython-input-75-0ccd505ced42>\u001b[0m in \u001b[0;36m<module>\u001b[0;34m\u001b[0m\n\u001b[1;32m      8\u001b[0m \u001b[0;34m\u001b[0m\u001b[0m\n\u001b[1;32m      9\u001b[0m \u001b[0;31m# Plot the tree\u001b[0m\u001b[0;34m\u001b[0m\u001b[0;34m\u001b[0m\u001b[0;34m\u001b[0m\u001b[0m\n\u001b[0;32m---> 10\u001b[0;31m \u001b[0mplot_tree\u001b[0m\u001b[0;34m(\u001b[0m\u001b[0mclf\u001b[0m\u001b[0;34m.\u001b[0m\u001b[0mfit\u001b[0m\u001b[0;34m(\u001b[0m\u001b[0mX\u001b[0m\u001b[0;34m,\u001b[0m \u001b[0miris\u001b[0m\u001b[0;34m.\u001b[0m\u001b[0mtarget\u001b[0m\u001b[0;34m)\u001b[0m\u001b[0;34m)\u001b[0m\u001b[0;34m\u001b[0m\u001b[0;34m\u001b[0m\u001b[0m\n\u001b[0m\u001b[1;32m     11\u001b[0m \u001b[0;34m\u001b[0m\u001b[0m\n\u001b[1;32m     12\u001b[0m \u001b[0;31m# # Export a text file containing the rules for the decision tree\u001b[0m\u001b[0;34m\u001b[0m\u001b[0;34m\u001b[0m\u001b[0;34m\u001b[0m\u001b[0m\n",
      "\u001b[0;31mNameError\u001b[0m: name 'iris' is not defined"
     ]
    }
   ],
   "source": [
    "# Classification Metrics\n",
    "# print(\"Accuracy:\",metrics.accuracy_score(y_test[:int(len(y_test) * 0.25)], y_pred))\n",
    "# print(\"Precision:\",metrics.precision_score(y_test[:int(len(y_test) * 0.25)], y_pred))\n",
    "# print(\"Recall:\",metrics.recall_score(y_test[:int(len(y_test) * 0.25)], y_pred))\n",
    "\n",
    "# # Compare to the actual labels\n",
    "# '''Insert comparison methods here'''\n",
    "\n",
    "# Plot the tree\n",
    "plot_tree(clf)\n",
    "\n",
    "# # Export a text file containing the rules for the decision tree\n",
    "# '''decision_tree = DecisionTreeClassifier(random_state=0, max_depth=2) # \n",
    "# decision_tree = decision_tree.fit(X, Y)\n",
    "# r = export_text(decision_tree, feature_names=iris['feature_names'])\n",
    "# print(r)'''"
   ]
  },
  {
   "cell_type": "code",
   "execution_count": null,
   "metadata": {},
   "outputs": [],
   "source": []
  }
 ],
 "metadata": {
  "kernelspec": {
   "display_name": "Python 3",
   "language": "python",
   "name": "python3"
  },
  "language_info": {
   "codemirror_mode": {
    "name": "ipython",
    "version": 3
   },
   "file_extension": ".py",
   "mimetype": "text/x-python",
   "name": "python",
   "nbconvert_exporter": "python",
   "pygments_lexer": "ipython3",
   "version": "3.7.3"
  }
 },
 "nbformat": 4,
 "nbformat_minor": 4
}
