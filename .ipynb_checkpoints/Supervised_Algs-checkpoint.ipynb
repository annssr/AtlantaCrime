{
 "cells": [
  {
   "cell_type": "markdown",
   "metadata": {},
   "source": [
    "# Atlanta Crime - Supervised Learning"
   ]
  },
  {
   "cell_type": "markdown",
   "metadata": {},
   "source": [
    "## Description\n",
    "In this part of the project, we will use supervised learning algorithms, namely, Decision Trees, Random Forests, NBC, SVM, and Logistic Regression algorithms to predict crime score for a given location and time."
   ]
  },
  {
   "cell_type": "markdown",
   "metadata": {},
   "source": [
    "## Import Packages"
   ]
  },
  {
   "cell_type": "code",
   "execution_count": 167,
   "metadata": {},
   "outputs": [],
   "source": [
    "import pandas as pd\n",
    "\n",
    "# from sklearn.tree import plot_tree\n",
    "# from sklearn.tree.export import export_text\n",
    "# from sklearn.model_selection import train_test_split # Import train_test_split function\n",
    "\n",
    "# Preprocessing, Metrics\n",
    "from sklearn import preprocessing\n",
    "from sklearn import metrics #Import scikit-learn metrics module for accuracy calculation\n",
    "\n",
    "# Classifiers, Regressions for DT, RF, NB, SV, LogReg, LinReg\n",
    "from sklearn.tree import DecisionTreeClassifier # Import Decision Tree Classifier\n",
    "from sklearn.tree import DecisionTreeRegressor\n",
    "\n",
    "from sklearn.ensemble import RandomForestClassifier\n",
    "from sklearn.ensemble import RandomForestRegressor\n",
    "\n",
    "from sklearn.naive_bayes import GaussianNB\n",
    "from sklearn.linear_model import BayesianRidge\n",
    "\n",
    "# from sklearn.svm import SVC\n",
    "# from sklearn.svm import SVR\n",
    "\n",
    "from sklearn.linear_model import LogisticRegression\n",
    "\n",
    "from sklearn.linear_model import LinearRegression\n",
    "\n",
    "# Other imports\n",
    "import datetime\n",
    "import random\n",
    "import numpy as np\n",
    "import time\n",
    "import matplotlib.pyplot as plt"
   ]
  },
  {
   "cell_type": "markdown",
   "metadata": {},
   "source": [
    "## Load in Data"
   ]
  },
  {
   "cell_type": "code",
   "execution_count": 168,
   "metadata": {},
   "outputs": [],
   "source": [
    "training_categories = pd.read_csv(\"data/Supervised_Algs/cobra-clean2009.csv\", sep=',', header=0, usecols = lambda column : column in [\"Occur Date\", \"Shift Occurrence\", \"Neighborhood\", \"Day of Week\", \"Crime Category\"])\n",
    "# training_categories.head()\n",
    "\n",
    "training_crime_scores = pd.read_csv(\"data/Supervised_Algs/bigdaddy.csv\", usecols = lambda column : column not in [\"Date\", \"Year\", \"Day of Month\"])\n",
    "# training_crime_scores.head()"
   ]
  },
  {
   "cell_type": "code",
   "execution_count": 169,
   "metadata": {},
   "outputs": [],
   "source": [
    "test_categories = pd.read_csv(\"data/Supervised_Algs/cobra-clean2019.csv\", sep=',', header=0, usecols = lambda column : column in [\"Occur Date\", \"Shift Occurrence\", \"Neighborhood\", \"Day of Week\", \"Crime Category\"])\n",
    "# test_categories.head()\n",
    "\n",
    "test_crime_scores = pd.read_csv(\"data/Supervised_Algs/cobra-counts2019.csv\", usecols = lambda column : column not in [\"Date\", \"Year\", \"Day of Month\"])\n",
    "# test_crime_scores.head()"
   ]
  },
  {
   "cell_type": "markdown",
   "metadata": {},
   "source": [
    "### Transforming the data"
   ]
  },
  {
   "cell_type": "code",
   "execution_count": 170,
   "metadata": {},
   "outputs": [],
   "source": [
    "training_categories['Month'] = training_categories[\"Occur Date\"].str.split(\"/\", n = 1, expand = True)[0]\n",
    "training_categories = training_categories.drop([\"Occur Date\"], 1)\n",
    "\n",
    "le = preprocessing.LabelEncoder()\n",
    "le.fit(training_categories[\"Neighborhood\"])\n",
    "training_categories[\"Neighborhood\"] = le.transform(training_categories[\"Neighborhood\"])\n",
    "le.fit(training_categories[\"Shift Occurrence\"])\n",
    "training_categories[\"Shift Occurrence\"] = le.transform(training_categories[\"Shift Occurrence\"])\n",
    "\n",
    "training_categories = training_categories.sample(frac=1)\n",
    "\n",
    "# training_categories.head()\n",
    "\n",
    "\n",
    "training_crime_scores['Crime Score'] = 1000 * training_crime_scores['Category 1'] + 100 * training_crime_scores['Category 2'] + 10 * training_crime_scores['Category 3'] + 1 * training_crime_scores['Category 4']\n",
    "training_crime_scores = training_crime_scores.drop([\"Category 1\", \"Category 2\", \"Category 3\", \"Category 4\"], 1)\n",
    "\n",
    "le = preprocessing.LabelEncoder()\n",
    "le.fit(training_crime_scores[\"Neighborhood\"])\n",
    "training_crime_scores[\"Neighborhood\"] = le.transform(training_crime_scores[\"Neighborhood\"])\n",
    "# le.fit(training_crime_scores[\"Shift\"])\n",
    "# training_crime_scores[\"Shift\"] = le.transform(training_crime_scores[\"Shift\"])\n",
    "\n",
    "training_crime_scores = training_crime_scores.sample(frac=1)\n",
    "\n",
    "# training_crime_scores.head()"
   ]
  },
  {
   "cell_type": "code",
   "execution_count": 171,
   "metadata": {},
   "outputs": [],
   "source": [
    "test_categories['Month'] = test_categories[\"Occur Date\"].str.split(\"/\", n = 1, expand = True)[0]\n",
    "test_categories = test_categories.drop([\"Occur Date\"], 1)\n",
    "\n",
    "le = preprocessing.LabelEncoder()\n",
    "le.fit(test_categories[\"Neighborhood\"])\n",
    "test_categories[\"Neighborhood\"] = le.transform(test_categories[\"Neighborhood\"])\n",
    "le.fit(test_categories[\"Shift Occurrence\"])\n",
    "test_categories[\"Shift Occurrence\"] = le.transform(test_categories[\"Shift Occurrence\"])\n",
    "\n",
    "# test_categories.head()\n",
    "\n",
    "\n",
    "test_crime_scores['Crime Score'] = 1000 * test_crime_scores['Category 1'] + 100 * test_crime_scores['Category 2'] + 10 * test_crime_scores['Category 3'] + 1 * test_crime_scores['Category 4']\n",
    "test_crime_scores = test_crime_scores.drop([\"Category 1\", \"Category 2\", \"Category 3\", \"Category 4\"], 1)\n",
    "\n",
    "le = preprocessing.LabelEncoder()\n",
    "le.fit(test_crime_scores[\"Neighborhood\"])\n",
    "test_crime_scores[\"Neighborhood\"] = le.transform(test_crime_scores[\"Neighborhood\"])\n",
    "# le.fit(test_crime_scores[\"Shift\"])\n",
    "# test_crime_scores[\"Shift\"] = le.transform(test_crime_scores[\"Shift\"])\n",
    "\n",
    "# test_crime_scores.head()"
   ]
  },
  {
   "cell_type": "markdown",
   "metadata": {},
   "source": [
    "## Metrics & Plots"
   ]
  },
  {
   "cell_type": "markdown",
   "metadata": {},
   "source": [
    "### Splitting data into training and test features and labels: X is features, y is label"
   ]
  },
  {
   "cell_type": "code",
   "execution_count": 172,
   "metadata": {},
   "outputs": [],
   "source": [
    "# Reading data & split into training and testing sets\n",
    "\n",
    "# X_train, X_test, y_train, y_test = train_test_split(X, y, test_size = 0.3, random_state=100)\n",
    "# Geeksforgeeks: \"random_state\" variable is a pseudo-random number generator state used for random sampling\n",
    "\n",
    "# We need the cobra-clean for 2019 to use for the test data\n",
    "X_train_class = training_categories.drop(['Crime Category'], 1)\n",
    "y_train_class = training_categories['Crime Category']\n",
    "X_test_class = test_categories.drop(['Crime Category'], 1)\n",
    "y_test_class = test_categories['Crime Category']\n",
    "\n",
    "X_train_reg = training_crime_scores.drop(['Crime Score'], 1)\n",
    "y_train_reg = training_crime_scores['Crime Score']\n",
    "X_test_reg = test_crime_scores.drop(['Crime Score'], 1)\n",
    "y_test_reg = test_crime_scores['Crime Score']"
   ]
  },
  {
   "cell_type": "code",
   "execution_count": 173,
   "metadata": {},
   "outputs": [],
   "source": [
    "def model_fitting(X_train, y_train, X_test, model, classOrReg):\n",
    "    start_time = time.time()\n",
    "    # Model Definition & Fitting\n",
    "    if model == \"dt\":\n",
    "        if classOrReg == \"class\":\n",
    "            fitter = DecisionTreeClassifier()\n",
    "        else:\n",
    "            fitter = DecisionTreeRegressor()\n",
    "    elif model == \"rf\":\n",
    "        if classOrReg == \"class\":\n",
    "            fitter = RandomForestClassifier(n_estimators=100)\n",
    "        else:\n",
    "            fitter = RandomForestRegressor(n_estimators=100)\n",
    "    elif model == \"nb\":\n",
    "        if classOrReg == \"class\":\n",
    "            fitter = GaussianNB()\n",
    "        else:\n",
    "            fitter = BayesianRidge()\n",
    "#     elif model == \"sv\":\n",
    "#         if classOrReg == \"class\":\n",
    "#             fitter = SVC(gamma='scale')\n",
    "#         else:\n",
    "#             fitter = SVR()\n",
    "    elif model == \"logreg\":\n",
    "        fitter = LogisticRegression(random_state=0, solver='lbfgs', multi_class='multinomial', max_iter=10000)\n",
    "    elif model == \"linreg\":\n",
    "        fitter = LinearRegression()\n",
    "    else:\n",
    "        print(\"Unrecognized model\", model)\n",
    "        return\n",
    "    fitter = fitter.fit(X_train, y_train)\n",
    "    end_time = time.time()\n",
    "    # Predict based on the given features for the test set\n",
    "    y_pred = fitter.predict(X_test)\n",
    "    return (fitter, y_pred, end_time - start_time)"
   ]
  },
  {
   "cell_type": "markdown",
   "metadata": {},
   "source": [
    "## Cross Validation of Methods"
   ]
  },
  {
   "cell_type": "code",
   "execution_count": 126,
   "metadata": {},
   "outputs": [],
   "source": [
    "def apr(y_test, y_pred):\n",
    "    acc_score = metrics.accuracy_score(y_test, y_pred)\n",
    "    prec_cats_score = metrics.precision_score(y_test, y_pred, average=None)\n",
    "    recall_cats_score = metrics.recall_score(y_test, y_pred, average=None)\n",
    "    return acc_score, prec_cats_score, recall_cats_score"
   ]
  },
  {
   "cell_type": "code",
   "execution_count": 127,
   "metadata": {},
   "outputs": [],
   "source": [
    "def rmse(pred, label):\n",
    "    return np.sqrt(np.sum(np.square(np.subtract(pred, label))) / len(pred))"
   ]
  },
  {
   "cell_type": "code",
   "execution_count": 30,
   "metadata": {},
   "outputs": [
    {
     "name": "stdout",
     "output_type": "stream",
     "text": [
      "model: dt\n",
      "classOrReg: class\n",
      "average time: 0.418697\n",
      "average APR: [0.5524926541362559\n",
      " array([0.00416507, 0.12921221, 0.40601712, 0.74255009])\n",
      " array([0.01601449, 0.22128822, 0.43742731, 0.64745091])]\n",
      "\n",
      "classOrReg: reg\n",
      "average time: 1.135116\n",
      "average RMSE: 41.40593691123397\n",
      "\n",
      "\n",
      "model: rf\n",
      "classOrReg: class\n",
      "average time: 21.333701\n",
      "average APR: [0.5601334071644098\n",
      " array([0.0027365 , 0.087368  , 0.38588259, 0.7781559 ])\n",
      " array([0.02019231, 0.22616987, 0.44170107, 0.63393852])]\n",
      "\n",
      "classOrReg: reg\n",
      "average time: 93.617616\n",
      "average RMSE: 41.40949147465669\n",
      "\n",
      "\n",
      "model: nb\n",
      "classOrReg: class\n"
     ]
    },
    {
     "name": "stderr",
     "output_type": "stream",
     "text": [
      "//anaconda3/lib/python3.7/site-packages/sklearn/metrics/classification.py:1439: UndefinedMetricWarning: Recall is ill-defined and being set to 0.0 in labels with no true samples.\n",
      "  'recall', 'true', average, warn_for)\n",
      "//anaconda3/lib/python3.7/site-packages/sklearn/metrics/classification.py:1439: UndefinedMetricWarning: Recall is ill-defined and being set to 0.0 in labels with no true samples.\n",
      "  'recall', 'true', average, warn_for)\n",
      "//anaconda3/lib/python3.7/site-packages/sklearn/metrics/classification.py:1439: UndefinedMetricWarning: Recall is ill-defined and being set to 0.0 in labels with no true samples.\n",
      "  'recall', 'true', average, warn_for)\n",
      "//anaconda3/lib/python3.7/site-packages/sklearn/metrics/classification.py:1439: UndefinedMetricWarning: Recall is ill-defined and being set to 0.0 in labels with no true samples.\n",
      "  'recall', 'true', average, warn_for)\n",
      "//anaconda3/lib/python3.7/site-packages/sklearn/metrics/classification.py:1439: UndefinedMetricWarning: Recall is ill-defined and being set to 0.0 in labels with no true samples.\n",
      "  'recall', 'true', average, warn_for)\n",
      "//anaconda3/lib/python3.7/site-packages/sklearn/metrics/classification.py:1439: UndefinedMetricWarning: Recall is ill-defined and being set to 0.0 in labels with no true samples.\n",
      "  'recall', 'true', average, warn_for)\n",
      "//anaconda3/lib/python3.7/site-packages/sklearn/metrics/classification.py:1439: UndefinedMetricWarning: Recall is ill-defined and being set to 0.0 in labels with no true samples.\n",
      "  'recall', 'true', average, warn_for)\n",
      "//anaconda3/lib/python3.7/site-packages/sklearn/metrics/classification.py:1439: UndefinedMetricWarning: Recall is ill-defined and being set to 0.0 in labels with no true samples.\n",
      "  'recall', 'true', average, warn_for)\n",
      "//anaconda3/lib/python3.7/site-packages/sklearn/metrics/classification.py:1439: UndefinedMetricWarning: Recall is ill-defined and being set to 0.0 in labels with no true samples.\n",
      "  'recall', 'true', average, warn_for)\n",
      "//anaconda3/lib/python3.7/site-packages/sklearn/metrics/classification.py:1439: UndefinedMetricWarning: Recall is ill-defined and being set to 0.0 in labels with no true samples.\n",
      "  'recall', 'true', average, warn_for)\n"
     ]
    },
    {
     "name": "stdout",
     "output_type": "stream",
     "text": [
      "average time: 0.107908\n",
      "average APR: [0.5505660581344605\n",
      " array([0.        , 0.        , 0.00637276, 0.99690229])\n",
      " array([0.        , 0.        , 0.43376165, 0.55110466])]\n",
      "\n",
      "classOrReg: reg\n",
      "average time: 0.054113\n",
      "average RMSE: 42.718120504686524\n",
      "\n",
      "\n"
     ]
    }
   ],
   "source": [
    "def cross_validation(X, y, kfold, model, classOrReg):\n",
    "    totalTime = 0\n",
    "    totalAPR = np.array([0, [0, 0, 0, 0], [0, 0, 0, 0]])\n",
    "    totalRMSE = 0\n",
    "    for i in range(kfold):\n",
    "        ind1 = int(i * len(X) / kfold)\n",
    "        ind2 = int((i + 1) * len(X) / kfold)\n",
    "        if ind1 == 0:\n",
    "            trainX = X[ind2:]\n",
    "            trainY = y[ind2:]\n",
    "        elif ind2 == len(X):\n",
    "            trainX = X[:ind1]\n",
    "            trainY = y[:ind1]\n",
    "        else:\n",
    "            trainX = np.concatenate((X[:ind1], X[ind2:]))\n",
    "            trainY = np.concatenate((y[:ind1], y[ind2:]))\n",
    "        testX = X[ind1:ind2]\n",
    "        testY = y[ind1:ind2]\n",
    "        \n",
    "        fitter, y_predictor, elapsed_time = model_fitting(trainX, trainY, testX, model, classOrReg)\n",
    "        totalTime += elapsed_time\n",
    "        # acc_prec_rec_valid = apr(y_predictor, testY)\n",
    "        if classOrReg == \"class\":\n",
    "            totalAPR += apr(y_predictor, testY)\n",
    "        else:\n",
    "            totalRMSE += rmse(y_predictor, testY)\n",
    "    if classOrReg == \"class\":\n",
    "        return totalTime / kfold, totalAPR / kfold\n",
    "    else:\n",
    "        return totalTime / kfold, totalRMSE / kfold\n",
    "    raise NotImplementedError\n",
    "\n",
    "for model in [\"dt\", \"rf\", \"nb\"]:\n",
    "    print(\"model: \" + model)\n",
    "    for classOrReg in [\"class\", \"reg\"]:\n",
    "        print(\"classOrReg: \" + classOrReg)\n",
    "        if classOrReg == \"class\":\n",
    "            avg_time, avg_APR = cross_validation(X_train_class, y_train_class, 10, model, classOrReg)\n",
    "            print('average time: %.6f'% avg_time)\n",
    "            print('average APR:', avg_APR)\n",
    "        else:\n",
    "            avg_time, avg_RMSE = cross_validation(X_train_reg, y_train_reg, 10, model, classOrReg)\n",
    "            print('average time: %.6f'% avg_time)\n",
    "            print('average RMSE:', avg_RMSE)\n",
    "        print()\n",
    "    print()"
   ]
  },
  {
   "cell_type": "markdown",
   "metadata": {},
   "source": [
    "## Models, Definition & Fitting"
   ]
  },
  {
   "cell_type": "markdown",
   "metadata": {},
   "source": [
    "### Decision Tree Models"
   ]
  },
  {
   "cell_type": "code",
   "execution_count": 174,
   "metadata": {},
   "outputs": [],
   "source": [
    "# Category classification\n",
    "dt_class_fit, dt_class_y_pred, dt_class_elapsed_time = model_fitting(X_train_class, y_train_class, X_test_class, \"dt\", \"class\")"
   ]
  },
  {
   "cell_type": "code",
   "execution_count": 175,
   "metadata": {},
   "outputs": [],
   "source": [
    "# Crime score regression\n",
    "dt_reg_fit, dt_reg_y_pred, dt_reg_elapsed_time = model_fitting(X_train_reg, y_train_reg, X_test_reg, \"dt\", \"regress\")"
   ]
  },
  {
   "cell_type": "markdown",
   "metadata": {},
   "source": [
    "### Random Forest Models"
   ]
  },
  {
   "cell_type": "code",
   "execution_count": 176,
   "metadata": {},
   "outputs": [],
   "source": [
    "# Category classification\n",
    "rf_class_clf, rf_class_y_pred, rf_class_elapsed_time = model_fitting(X_train_class, y_train_class, X_test_class, \"rf\", \"class\")"
   ]
  },
  {
   "cell_type": "code",
   "execution_count": 177,
   "metadata": {},
   "outputs": [],
   "source": [
    "rf_reg_clf, rf_reg_y_pred, rf_reg_elapsed_time = model_fitting(X_train_reg, y_train_reg, X_test_reg, \"rf\", \"regress\")"
   ]
  },
  {
   "cell_type": "markdown",
   "metadata": {},
   "source": [
    "### NBC Models"
   ]
  },
  {
   "cell_type": "code",
   "execution_count": 178,
   "metadata": {},
   "outputs": [],
   "source": [
    "# Category classification\n",
    "nb_class_clf, nb_class_y_pred, nb_class_elapsed_time = model_fitting(X_train_class, y_train_class, X_test_class, \"nb\", \"class\")"
   ]
  },
  {
   "cell_type": "code",
   "execution_count": 179,
   "metadata": {},
   "outputs": [],
   "source": [
    "nb_reg_clf, nb_reg_y_pred, nb_reg_elapsed_time = model_fitting(X_train_reg, y_train_reg, X_test_reg, \"nb\", \"regress\")"
   ]
  },
  {
   "cell_type": "markdown",
   "metadata": {},
   "source": [
    "### Logistic Regressions"
   ]
  },
  {
   "cell_type": "code",
   "execution_count": 39,
   "metadata": {},
   "outputs": [],
   "source": [
    "logreg_class_clf, logreg_class_y_pred, logreg_class_elapsed_time = model_fitting(X_train_class, y_train_class, X_test_class, \"logreg\", \"class\")"
   ]
  },
  {
   "cell_type": "code",
   "execution_count": 40,
   "metadata": {},
   "outputs": [
    {
     "ename": "KeyboardInterrupt",
     "evalue": "",
     "output_type": "error",
     "traceback": [
      "\u001b[0;31m---------------------------------------------------------------------------\u001b[0m",
      "\u001b[0;31mKeyboardInterrupt\u001b[0m                         Traceback (most recent call last)",
      "\u001b[0;32m<ipython-input-40-e25a2c47e19d>\u001b[0m in \u001b[0;36m<module>\u001b[0;34m\u001b[0m\n\u001b[0;32m----> 1\u001b[0;31m \u001b[0mlogreg_reg_clf\u001b[0m\u001b[0;34m,\u001b[0m \u001b[0mlogreg_reg_y_pred\u001b[0m\u001b[0;34m,\u001b[0m \u001b[0mlogreg_reg_elapsed_time\u001b[0m \u001b[0;34m=\u001b[0m \u001b[0mmodel_fitting\u001b[0m\u001b[0;34m(\u001b[0m\u001b[0mX_train_reg\u001b[0m\u001b[0;34m,\u001b[0m \u001b[0my_train_reg\u001b[0m\u001b[0;34m,\u001b[0m \u001b[0mX_test_reg\u001b[0m\u001b[0;34m,\u001b[0m \u001b[0;34m\"logreg\"\u001b[0m\u001b[0;34m,\u001b[0m \u001b[0;34m\"regress\"\u001b[0m\u001b[0;34m)\u001b[0m\u001b[0;34m\u001b[0m\u001b[0;34m\u001b[0m\u001b[0m\n\u001b[0m",
      "\u001b[0;32m<ipython-input-27-fc466a088038>\u001b[0m in \u001b[0;36mmodel_fitting\u001b[0;34m(X_train, y_train, X_test, model, classOrReg)\u001b[0m\n\u001b[1;32m     29\u001b[0m         \u001b[0mprint\u001b[0m\u001b[0;34m(\u001b[0m\u001b[0;34m\"Unrecognized model\"\u001b[0m\u001b[0;34m,\u001b[0m \u001b[0mmodel\u001b[0m\u001b[0;34m)\u001b[0m\u001b[0;34m\u001b[0m\u001b[0;34m\u001b[0m\u001b[0m\n\u001b[1;32m     30\u001b[0m         \u001b[0;32mreturn\u001b[0m\u001b[0;34m\u001b[0m\u001b[0;34m\u001b[0m\u001b[0m\n\u001b[0;32m---> 31\u001b[0;31m     \u001b[0mfitter\u001b[0m \u001b[0;34m=\u001b[0m \u001b[0mfitter\u001b[0m\u001b[0;34m.\u001b[0m\u001b[0mfit\u001b[0m\u001b[0;34m(\u001b[0m\u001b[0mX_train\u001b[0m\u001b[0;34m,\u001b[0m \u001b[0my_train\u001b[0m\u001b[0;34m)\u001b[0m\u001b[0;34m\u001b[0m\u001b[0;34m\u001b[0m\u001b[0m\n\u001b[0m\u001b[1;32m     32\u001b[0m     \u001b[0mend_time\u001b[0m \u001b[0;34m=\u001b[0m \u001b[0mtime\u001b[0m\u001b[0;34m.\u001b[0m\u001b[0mtime\u001b[0m\u001b[0;34m(\u001b[0m\u001b[0;34m)\u001b[0m\u001b[0;34m\u001b[0m\u001b[0;34m\u001b[0m\u001b[0m\n\u001b[1;32m     33\u001b[0m     \u001b[0;31m# Predict based on the given features for the test set\u001b[0m\u001b[0;34m\u001b[0m\u001b[0;34m\u001b[0m\u001b[0;34m\u001b[0m\u001b[0m\n",
      "\u001b[0;32m//anaconda3/lib/python3.7/site-packages/sklearn/linear_model/logistic.py\u001b[0m in \u001b[0;36mfit\u001b[0;34m(self, X, y, sample_weight)\u001b[0m\n\u001b[1;32m   1604\u001b[0m                       \u001b[0mpenalty\u001b[0m\u001b[0;34m=\u001b[0m\u001b[0mpenalty\u001b[0m\u001b[0;34m,\u001b[0m \u001b[0mmax_squared_sum\u001b[0m\u001b[0;34m=\u001b[0m\u001b[0mmax_squared_sum\u001b[0m\u001b[0;34m,\u001b[0m\u001b[0;34m\u001b[0m\u001b[0;34m\u001b[0m\u001b[0m\n\u001b[1;32m   1605\u001b[0m                       sample_weight=sample_weight)\n\u001b[0;32m-> 1606\u001b[0;31m             for class_, warm_start_coef_ in zip(classes_, warm_start_coef))\n\u001b[0m\u001b[1;32m   1607\u001b[0m \u001b[0;34m\u001b[0m\u001b[0m\n\u001b[1;32m   1608\u001b[0m         \u001b[0mfold_coefs_\u001b[0m\u001b[0;34m,\u001b[0m \u001b[0m_\u001b[0m\u001b[0;34m,\u001b[0m \u001b[0mn_iter_\u001b[0m \u001b[0;34m=\u001b[0m \u001b[0mzip\u001b[0m\u001b[0;34m(\u001b[0m\u001b[0;34m*\u001b[0m\u001b[0mfold_coefs_\u001b[0m\u001b[0;34m)\u001b[0m\u001b[0;34m\u001b[0m\u001b[0;34m\u001b[0m\u001b[0m\n",
      "\u001b[0;32m//anaconda3/lib/python3.7/site-packages/joblib/parallel.py\u001b[0m in \u001b[0;36m__call__\u001b[0;34m(self, iterable)\u001b[0m\n\u001b[1;32m    919\u001b[0m             \u001b[0;31m# remaining jobs.\u001b[0m\u001b[0;34m\u001b[0m\u001b[0;34m\u001b[0m\u001b[0;34m\u001b[0m\u001b[0m\n\u001b[1;32m    920\u001b[0m             \u001b[0mself\u001b[0m\u001b[0;34m.\u001b[0m\u001b[0m_iterating\u001b[0m \u001b[0;34m=\u001b[0m \u001b[0;32mFalse\u001b[0m\u001b[0;34m\u001b[0m\u001b[0;34m\u001b[0m\u001b[0m\n\u001b[0;32m--> 921\u001b[0;31m             \u001b[0;32mif\u001b[0m \u001b[0mself\u001b[0m\u001b[0;34m.\u001b[0m\u001b[0mdispatch_one_batch\u001b[0m\u001b[0;34m(\u001b[0m\u001b[0miterator\u001b[0m\u001b[0;34m)\u001b[0m\u001b[0;34m:\u001b[0m\u001b[0;34m\u001b[0m\u001b[0;34m\u001b[0m\u001b[0m\n\u001b[0m\u001b[1;32m    922\u001b[0m                 \u001b[0mself\u001b[0m\u001b[0;34m.\u001b[0m\u001b[0m_iterating\u001b[0m \u001b[0;34m=\u001b[0m \u001b[0mself\u001b[0m\u001b[0;34m.\u001b[0m\u001b[0m_original_iterator\u001b[0m \u001b[0;32mis\u001b[0m \u001b[0;32mnot\u001b[0m \u001b[0;32mNone\u001b[0m\u001b[0;34m\u001b[0m\u001b[0;34m\u001b[0m\u001b[0m\n\u001b[1;32m    923\u001b[0m \u001b[0;34m\u001b[0m\u001b[0m\n",
      "\u001b[0;32m//anaconda3/lib/python3.7/site-packages/joblib/parallel.py\u001b[0m in \u001b[0;36mdispatch_one_batch\u001b[0;34m(self, iterator)\u001b[0m\n\u001b[1;32m    757\u001b[0m                 \u001b[0;32mreturn\u001b[0m \u001b[0;32mFalse\u001b[0m\u001b[0;34m\u001b[0m\u001b[0;34m\u001b[0m\u001b[0m\n\u001b[1;32m    758\u001b[0m             \u001b[0;32melse\u001b[0m\u001b[0;34m:\u001b[0m\u001b[0;34m\u001b[0m\u001b[0;34m\u001b[0m\u001b[0m\n\u001b[0;32m--> 759\u001b[0;31m                 \u001b[0mself\u001b[0m\u001b[0;34m.\u001b[0m\u001b[0m_dispatch\u001b[0m\u001b[0;34m(\u001b[0m\u001b[0mtasks\u001b[0m\u001b[0;34m)\u001b[0m\u001b[0;34m\u001b[0m\u001b[0;34m\u001b[0m\u001b[0m\n\u001b[0m\u001b[1;32m    760\u001b[0m                 \u001b[0;32mreturn\u001b[0m \u001b[0;32mTrue\u001b[0m\u001b[0;34m\u001b[0m\u001b[0;34m\u001b[0m\u001b[0m\n\u001b[1;32m    761\u001b[0m \u001b[0;34m\u001b[0m\u001b[0m\n",
      "\u001b[0;32m//anaconda3/lib/python3.7/site-packages/joblib/parallel.py\u001b[0m in \u001b[0;36m_dispatch\u001b[0;34m(self, batch)\u001b[0m\n\u001b[1;32m    714\u001b[0m         \u001b[0;32mwith\u001b[0m \u001b[0mself\u001b[0m\u001b[0;34m.\u001b[0m\u001b[0m_lock\u001b[0m\u001b[0;34m:\u001b[0m\u001b[0;34m\u001b[0m\u001b[0;34m\u001b[0m\u001b[0m\n\u001b[1;32m    715\u001b[0m             \u001b[0mjob_idx\u001b[0m \u001b[0;34m=\u001b[0m \u001b[0mlen\u001b[0m\u001b[0;34m(\u001b[0m\u001b[0mself\u001b[0m\u001b[0;34m.\u001b[0m\u001b[0m_jobs\u001b[0m\u001b[0;34m)\u001b[0m\u001b[0;34m\u001b[0m\u001b[0;34m\u001b[0m\u001b[0m\n\u001b[0;32m--> 716\u001b[0;31m             \u001b[0mjob\u001b[0m \u001b[0;34m=\u001b[0m \u001b[0mself\u001b[0m\u001b[0;34m.\u001b[0m\u001b[0m_backend\u001b[0m\u001b[0;34m.\u001b[0m\u001b[0mapply_async\u001b[0m\u001b[0;34m(\u001b[0m\u001b[0mbatch\u001b[0m\u001b[0;34m,\u001b[0m \u001b[0mcallback\u001b[0m\u001b[0;34m=\u001b[0m\u001b[0mcb\u001b[0m\u001b[0;34m)\u001b[0m\u001b[0;34m\u001b[0m\u001b[0;34m\u001b[0m\u001b[0m\n\u001b[0m\u001b[1;32m    717\u001b[0m             \u001b[0;31m# A job can complete so quickly than its callback is\u001b[0m\u001b[0;34m\u001b[0m\u001b[0;34m\u001b[0m\u001b[0;34m\u001b[0m\u001b[0m\n\u001b[1;32m    718\u001b[0m             \u001b[0;31m# called before we get here, causing self._jobs to\u001b[0m\u001b[0;34m\u001b[0m\u001b[0;34m\u001b[0m\u001b[0;34m\u001b[0m\u001b[0m\n",
      "\u001b[0;32m//anaconda3/lib/python3.7/site-packages/joblib/_parallel_backends.py\u001b[0m in \u001b[0;36mapply_async\u001b[0;34m(self, func, callback)\u001b[0m\n\u001b[1;32m    180\u001b[0m     \u001b[0;32mdef\u001b[0m \u001b[0mapply_async\u001b[0m\u001b[0;34m(\u001b[0m\u001b[0mself\u001b[0m\u001b[0;34m,\u001b[0m \u001b[0mfunc\u001b[0m\u001b[0;34m,\u001b[0m \u001b[0mcallback\u001b[0m\u001b[0;34m=\u001b[0m\u001b[0;32mNone\u001b[0m\u001b[0;34m)\u001b[0m\u001b[0;34m:\u001b[0m\u001b[0;34m\u001b[0m\u001b[0;34m\u001b[0m\u001b[0m\n\u001b[1;32m    181\u001b[0m         \u001b[0;34m\"\"\"Schedule a func to be run\"\"\"\u001b[0m\u001b[0;34m\u001b[0m\u001b[0;34m\u001b[0m\u001b[0m\n\u001b[0;32m--> 182\u001b[0;31m         \u001b[0mresult\u001b[0m \u001b[0;34m=\u001b[0m \u001b[0mImmediateResult\u001b[0m\u001b[0;34m(\u001b[0m\u001b[0mfunc\u001b[0m\u001b[0;34m)\u001b[0m\u001b[0;34m\u001b[0m\u001b[0;34m\u001b[0m\u001b[0m\n\u001b[0m\u001b[1;32m    183\u001b[0m         \u001b[0;32mif\u001b[0m \u001b[0mcallback\u001b[0m\u001b[0;34m:\u001b[0m\u001b[0;34m\u001b[0m\u001b[0;34m\u001b[0m\u001b[0m\n\u001b[1;32m    184\u001b[0m             \u001b[0mcallback\u001b[0m\u001b[0;34m(\u001b[0m\u001b[0mresult\u001b[0m\u001b[0;34m)\u001b[0m\u001b[0;34m\u001b[0m\u001b[0;34m\u001b[0m\u001b[0m\n",
      "\u001b[0;32m//anaconda3/lib/python3.7/site-packages/joblib/_parallel_backends.py\u001b[0m in \u001b[0;36m__init__\u001b[0;34m(self, batch)\u001b[0m\n\u001b[1;32m    547\u001b[0m         \u001b[0;31m# Don't delay the application, to avoid keeping the input\u001b[0m\u001b[0;34m\u001b[0m\u001b[0;34m\u001b[0m\u001b[0;34m\u001b[0m\u001b[0m\n\u001b[1;32m    548\u001b[0m         \u001b[0;31m# arguments in memory\u001b[0m\u001b[0;34m\u001b[0m\u001b[0;34m\u001b[0m\u001b[0;34m\u001b[0m\u001b[0m\n\u001b[0;32m--> 549\u001b[0;31m         \u001b[0mself\u001b[0m\u001b[0;34m.\u001b[0m\u001b[0mresults\u001b[0m \u001b[0;34m=\u001b[0m \u001b[0mbatch\u001b[0m\u001b[0;34m(\u001b[0m\u001b[0;34m)\u001b[0m\u001b[0;34m\u001b[0m\u001b[0;34m\u001b[0m\u001b[0m\n\u001b[0m\u001b[1;32m    550\u001b[0m \u001b[0;34m\u001b[0m\u001b[0m\n\u001b[1;32m    551\u001b[0m     \u001b[0;32mdef\u001b[0m \u001b[0mget\u001b[0m\u001b[0;34m(\u001b[0m\u001b[0mself\u001b[0m\u001b[0;34m)\u001b[0m\u001b[0;34m:\u001b[0m\u001b[0;34m\u001b[0m\u001b[0;34m\u001b[0m\u001b[0m\n",
      "\u001b[0;32m//anaconda3/lib/python3.7/site-packages/joblib/parallel.py\u001b[0m in \u001b[0;36m__call__\u001b[0;34m(self)\u001b[0m\n\u001b[1;32m    223\u001b[0m         \u001b[0;32mwith\u001b[0m \u001b[0mparallel_backend\u001b[0m\u001b[0;34m(\u001b[0m\u001b[0mself\u001b[0m\u001b[0;34m.\u001b[0m\u001b[0m_backend\u001b[0m\u001b[0;34m,\u001b[0m \u001b[0mn_jobs\u001b[0m\u001b[0;34m=\u001b[0m\u001b[0mself\u001b[0m\u001b[0;34m.\u001b[0m\u001b[0m_n_jobs\u001b[0m\u001b[0;34m)\u001b[0m\u001b[0;34m:\u001b[0m\u001b[0;34m\u001b[0m\u001b[0;34m\u001b[0m\u001b[0m\n\u001b[1;32m    224\u001b[0m             return [func(*args, **kwargs)\n\u001b[0;32m--> 225\u001b[0;31m                     for func, args, kwargs in self.items]\n\u001b[0m\u001b[1;32m    226\u001b[0m \u001b[0;34m\u001b[0m\u001b[0m\n\u001b[1;32m    227\u001b[0m     \u001b[0;32mdef\u001b[0m \u001b[0m__len__\u001b[0m\u001b[0;34m(\u001b[0m\u001b[0mself\u001b[0m\u001b[0;34m)\u001b[0m\u001b[0;34m:\u001b[0m\u001b[0;34m\u001b[0m\u001b[0;34m\u001b[0m\u001b[0m\n",
      "\u001b[0;32m//anaconda3/lib/python3.7/site-packages/joblib/parallel.py\u001b[0m in \u001b[0;36m<listcomp>\u001b[0;34m(.0)\u001b[0m\n\u001b[1;32m    223\u001b[0m         \u001b[0;32mwith\u001b[0m \u001b[0mparallel_backend\u001b[0m\u001b[0;34m(\u001b[0m\u001b[0mself\u001b[0m\u001b[0;34m.\u001b[0m\u001b[0m_backend\u001b[0m\u001b[0;34m,\u001b[0m \u001b[0mn_jobs\u001b[0m\u001b[0;34m=\u001b[0m\u001b[0mself\u001b[0m\u001b[0;34m.\u001b[0m\u001b[0m_n_jobs\u001b[0m\u001b[0;34m)\u001b[0m\u001b[0;34m:\u001b[0m\u001b[0;34m\u001b[0m\u001b[0;34m\u001b[0m\u001b[0m\n\u001b[1;32m    224\u001b[0m             return [func(*args, **kwargs)\n\u001b[0;32m--> 225\u001b[0;31m                     for func, args, kwargs in self.items]\n\u001b[0m\u001b[1;32m    226\u001b[0m \u001b[0;34m\u001b[0m\u001b[0m\n\u001b[1;32m    227\u001b[0m     \u001b[0;32mdef\u001b[0m \u001b[0m__len__\u001b[0m\u001b[0;34m(\u001b[0m\u001b[0mself\u001b[0m\u001b[0;34m)\u001b[0m\u001b[0;34m:\u001b[0m\u001b[0;34m\u001b[0m\u001b[0;34m\u001b[0m\u001b[0m\n",
      "\u001b[0;32m//anaconda3/lib/python3.7/site-packages/sklearn/linear_model/logistic.py\u001b[0m in \u001b[0;36m_logistic_regression_path\u001b[0;34m(X, y, pos_class, Cs, fit_intercept, max_iter, tol, verbose, solver, coef, class_weight, dual, penalty, intercept_scaling, multi_class, random_state, check_input, max_squared_sum, sample_weight, l1_ratio)\u001b[0m\n\u001b[1;32m    942\u001b[0m                 \u001b[0mfunc\u001b[0m\u001b[0;34m,\u001b[0m \u001b[0mw0\u001b[0m\u001b[0;34m,\u001b[0m \u001b[0mfprime\u001b[0m\u001b[0;34m=\u001b[0m\u001b[0;32mNone\u001b[0m\u001b[0;34m,\u001b[0m\u001b[0;34m\u001b[0m\u001b[0;34m\u001b[0m\u001b[0m\n\u001b[1;32m    943\u001b[0m                 \u001b[0margs\u001b[0m\u001b[0;34m=\u001b[0m\u001b[0;34m(\u001b[0m\u001b[0mX\u001b[0m\u001b[0;34m,\u001b[0m \u001b[0mtarget\u001b[0m\u001b[0;34m,\u001b[0m \u001b[0;36m1.\u001b[0m \u001b[0;34m/\u001b[0m \u001b[0mC\u001b[0m\u001b[0;34m,\u001b[0m \u001b[0msample_weight\u001b[0m\u001b[0;34m)\u001b[0m\u001b[0;34m,\u001b[0m\u001b[0;34m\u001b[0m\u001b[0;34m\u001b[0m\u001b[0m\n\u001b[0;32m--> 944\u001b[0;31m                 iprint=iprint, pgtol=tol, maxiter=max_iter)\n\u001b[0m\u001b[1;32m    945\u001b[0m             \u001b[0;32mif\u001b[0m \u001b[0minfo\u001b[0m\u001b[0;34m[\u001b[0m\u001b[0;34m\"warnflag\"\u001b[0m\u001b[0;34m]\u001b[0m \u001b[0;34m==\u001b[0m \u001b[0;36m1\u001b[0m\u001b[0;34m:\u001b[0m\u001b[0;34m\u001b[0m\u001b[0;34m\u001b[0m\u001b[0m\n\u001b[1;32m    946\u001b[0m                 warnings.warn(\"lbfgs failed to converge. Increase the number \"\n",
      "\u001b[0;32m//anaconda3/lib/python3.7/site-packages/scipy/optimize/lbfgsb.py\u001b[0m in \u001b[0;36mfmin_l_bfgs_b\u001b[0;34m(func, x0, fprime, args, approx_grad, bounds, m, factr, pgtol, epsilon, iprint, maxfun, maxiter, disp, callback, maxls)\u001b[0m\n\u001b[1;32m    197\u001b[0m \u001b[0;34m\u001b[0m\u001b[0m\n\u001b[1;32m    198\u001b[0m     res = _minimize_lbfgsb(fun, x0, args=args, jac=jac, bounds=bounds,\n\u001b[0;32m--> 199\u001b[0;31m                            **opts)\n\u001b[0m\u001b[1;32m    200\u001b[0m     d = {'grad': res['jac'],\n\u001b[1;32m    201\u001b[0m          \u001b[0;34m'task'\u001b[0m\u001b[0;34m:\u001b[0m \u001b[0mres\u001b[0m\u001b[0;34m[\u001b[0m\u001b[0;34m'message'\u001b[0m\u001b[0;34m]\u001b[0m\u001b[0;34m,\u001b[0m\u001b[0;34m\u001b[0m\u001b[0;34m\u001b[0m\u001b[0m\n",
      "\u001b[0;32m//anaconda3/lib/python3.7/site-packages/scipy/optimize/lbfgsb.py\u001b[0m in \u001b[0;36m_minimize_lbfgsb\u001b[0;34m(fun, x0, args, jac, bounds, disp, maxcor, ftol, gtol, eps, maxfun, maxiter, iprint, callback, maxls, **unknown_options)\u001b[0m\n\u001b[1;32m    333\u001b[0m             \u001b[0;31m# until the completion of the current minimization iteration.\u001b[0m\u001b[0;34m\u001b[0m\u001b[0;34m\u001b[0m\u001b[0;34m\u001b[0m\u001b[0m\n\u001b[1;32m    334\u001b[0m             \u001b[0;31m# Overwrite f and g:\u001b[0m\u001b[0;34m\u001b[0m\u001b[0;34m\u001b[0m\u001b[0;34m\u001b[0m\u001b[0m\n\u001b[0;32m--> 335\u001b[0;31m             \u001b[0mf\u001b[0m\u001b[0;34m,\u001b[0m \u001b[0mg\u001b[0m \u001b[0;34m=\u001b[0m \u001b[0mfunc_and_grad\u001b[0m\u001b[0;34m(\u001b[0m\u001b[0mx\u001b[0m\u001b[0;34m)\u001b[0m\u001b[0;34m\u001b[0m\u001b[0;34m\u001b[0m\u001b[0m\n\u001b[0m\u001b[1;32m    336\u001b[0m         \u001b[0;32melif\u001b[0m \u001b[0mtask_str\u001b[0m\u001b[0;34m.\u001b[0m\u001b[0mstartswith\u001b[0m\u001b[0;34m(\u001b[0m\u001b[0;34mb'NEW_X'\u001b[0m\u001b[0;34m)\u001b[0m\u001b[0;34m:\u001b[0m\u001b[0;34m\u001b[0m\u001b[0;34m\u001b[0m\u001b[0m\n\u001b[1;32m    337\u001b[0m             \u001b[0;31m# new iteration\u001b[0m\u001b[0;34m\u001b[0m\u001b[0;34m\u001b[0m\u001b[0;34m\u001b[0m\u001b[0m\n",
      "\u001b[0;32m//anaconda3/lib/python3.7/site-packages/scipy/optimize/lbfgsb.py\u001b[0m in \u001b[0;36mfunc_and_grad\u001b[0;34m(x)\u001b[0m\n\u001b[1;32m    283\u001b[0m     \u001b[0;32melse\u001b[0m\u001b[0;34m:\u001b[0m\u001b[0;34m\u001b[0m\u001b[0;34m\u001b[0m\u001b[0m\n\u001b[1;32m    284\u001b[0m         \u001b[0;32mdef\u001b[0m \u001b[0mfunc_and_grad\u001b[0m\u001b[0;34m(\u001b[0m\u001b[0mx\u001b[0m\u001b[0;34m)\u001b[0m\u001b[0;34m:\u001b[0m\u001b[0;34m\u001b[0m\u001b[0;34m\u001b[0m\u001b[0m\n\u001b[0;32m--> 285\u001b[0;31m             \u001b[0mf\u001b[0m \u001b[0;34m=\u001b[0m \u001b[0mfun\u001b[0m\u001b[0;34m(\u001b[0m\u001b[0mx\u001b[0m\u001b[0;34m,\u001b[0m \u001b[0;34m*\u001b[0m\u001b[0margs\u001b[0m\u001b[0;34m)\u001b[0m\u001b[0;34m\u001b[0m\u001b[0;34m\u001b[0m\u001b[0m\n\u001b[0m\u001b[1;32m    286\u001b[0m             \u001b[0mg\u001b[0m \u001b[0;34m=\u001b[0m \u001b[0mjac\u001b[0m\u001b[0;34m(\u001b[0m\u001b[0mx\u001b[0m\u001b[0;34m,\u001b[0m \u001b[0;34m*\u001b[0m\u001b[0margs\u001b[0m\u001b[0;34m)\u001b[0m\u001b[0;34m\u001b[0m\u001b[0;34m\u001b[0m\u001b[0m\n\u001b[1;32m    287\u001b[0m             \u001b[0;32mreturn\u001b[0m \u001b[0mf\u001b[0m\u001b[0;34m,\u001b[0m \u001b[0mg\u001b[0m\u001b[0;34m\u001b[0m\u001b[0;34m\u001b[0m\u001b[0m\n",
      "\u001b[0;32m//anaconda3/lib/python3.7/site-packages/scipy/optimize/optimize.py\u001b[0m in \u001b[0;36mfunction_wrapper\u001b[0;34m(*wrapper_args)\u001b[0m\n\u001b[1;32m    324\u001b[0m     \u001b[0;32mdef\u001b[0m \u001b[0mfunction_wrapper\u001b[0m\u001b[0;34m(\u001b[0m\u001b[0;34m*\u001b[0m\u001b[0mwrapper_args\u001b[0m\u001b[0;34m)\u001b[0m\u001b[0;34m:\u001b[0m\u001b[0;34m\u001b[0m\u001b[0;34m\u001b[0m\u001b[0m\n\u001b[1;32m    325\u001b[0m         \u001b[0mncalls\u001b[0m\u001b[0;34m[\u001b[0m\u001b[0;36m0\u001b[0m\u001b[0;34m]\u001b[0m \u001b[0;34m+=\u001b[0m \u001b[0;36m1\u001b[0m\u001b[0;34m\u001b[0m\u001b[0;34m\u001b[0m\u001b[0m\n\u001b[0;32m--> 326\u001b[0;31m         \u001b[0;32mreturn\u001b[0m \u001b[0mfunction\u001b[0m\u001b[0;34m(\u001b[0m\u001b[0;34m*\u001b[0m\u001b[0;34m(\u001b[0m\u001b[0mwrapper_args\u001b[0m \u001b[0;34m+\u001b[0m \u001b[0margs\u001b[0m\u001b[0;34m)\u001b[0m\u001b[0;34m)\u001b[0m\u001b[0;34m\u001b[0m\u001b[0;34m\u001b[0m\u001b[0m\n\u001b[0m\u001b[1;32m    327\u001b[0m \u001b[0;34m\u001b[0m\u001b[0m\n\u001b[1;32m    328\u001b[0m     \u001b[0;32mreturn\u001b[0m \u001b[0mncalls\u001b[0m\u001b[0;34m,\u001b[0m \u001b[0mfunction_wrapper\u001b[0m\u001b[0;34m\u001b[0m\u001b[0;34m\u001b[0m\u001b[0m\n",
      "\u001b[0;32m//anaconda3/lib/python3.7/site-packages/scipy/optimize/optimize.py\u001b[0m in \u001b[0;36m__call__\u001b[0;34m(self, x, *args)\u001b[0m\n\u001b[1;32m     62\u001b[0m     \u001b[0;32mdef\u001b[0m \u001b[0m__call__\u001b[0m\u001b[0;34m(\u001b[0m\u001b[0mself\u001b[0m\u001b[0;34m,\u001b[0m \u001b[0mx\u001b[0m\u001b[0;34m,\u001b[0m \u001b[0;34m*\u001b[0m\u001b[0margs\u001b[0m\u001b[0;34m)\u001b[0m\u001b[0;34m:\u001b[0m\u001b[0;34m\u001b[0m\u001b[0;34m\u001b[0m\u001b[0m\n\u001b[1;32m     63\u001b[0m         \u001b[0mself\u001b[0m\u001b[0;34m.\u001b[0m\u001b[0mx\u001b[0m \u001b[0;34m=\u001b[0m \u001b[0mnumpy\u001b[0m\u001b[0;34m.\u001b[0m\u001b[0masarray\u001b[0m\u001b[0;34m(\u001b[0m\u001b[0mx\u001b[0m\u001b[0;34m)\u001b[0m\u001b[0;34m.\u001b[0m\u001b[0mcopy\u001b[0m\u001b[0;34m(\u001b[0m\u001b[0;34m)\u001b[0m\u001b[0;34m\u001b[0m\u001b[0;34m\u001b[0m\u001b[0m\n\u001b[0;32m---> 64\u001b[0;31m         \u001b[0mfg\u001b[0m \u001b[0;34m=\u001b[0m \u001b[0mself\u001b[0m\u001b[0;34m.\u001b[0m\u001b[0mfun\u001b[0m\u001b[0;34m(\u001b[0m\u001b[0mx\u001b[0m\u001b[0;34m,\u001b[0m \u001b[0;34m*\u001b[0m\u001b[0margs\u001b[0m\u001b[0;34m)\u001b[0m\u001b[0;34m\u001b[0m\u001b[0;34m\u001b[0m\u001b[0m\n\u001b[0m\u001b[1;32m     65\u001b[0m         \u001b[0mself\u001b[0m\u001b[0;34m.\u001b[0m\u001b[0mjac\u001b[0m \u001b[0;34m=\u001b[0m \u001b[0mfg\u001b[0m\u001b[0;34m[\u001b[0m\u001b[0;36m1\u001b[0m\u001b[0;34m]\u001b[0m\u001b[0;34m\u001b[0m\u001b[0;34m\u001b[0m\u001b[0m\n\u001b[1;32m     66\u001b[0m         \u001b[0;32mreturn\u001b[0m \u001b[0mfg\u001b[0m\u001b[0;34m[\u001b[0m\u001b[0;36m0\u001b[0m\u001b[0;34m]\u001b[0m\u001b[0;34m\u001b[0m\u001b[0;34m\u001b[0m\u001b[0m\n",
      "\u001b[0;32m//anaconda3/lib/python3.7/site-packages/sklearn/linear_model/logistic.py\u001b[0m in \u001b[0;36m<lambda>\u001b[0;34m(x, *args)\u001b[0m\n\u001b[1;32m    917\u001b[0m         \u001b[0mtarget\u001b[0m \u001b[0;34m=\u001b[0m \u001b[0mY_multi\u001b[0m\u001b[0;34m\u001b[0m\u001b[0;34m\u001b[0m\u001b[0m\n\u001b[1;32m    918\u001b[0m         \u001b[0;32mif\u001b[0m \u001b[0msolver\u001b[0m \u001b[0;34m==\u001b[0m \u001b[0;34m'lbfgs'\u001b[0m\u001b[0;34m:\u001b[0m\u001b[0;34m\u001b[0m\u001b[0;34m\u001b[0m\u001b[0m\n\u001b[0;32m--> 919\u001b[0;31m             \u001b[0mfunc\u001b[0m \u001b[0;34m=\u001b[0m \u001b[0;32mlambda\u001b[0m \u001b[0mx\u001b[0m\u001b[0;34m,\u001b[0m \u001b[0;34m*\u001b[0m\u001b[0margs\u001b[0m\u001b[0;34m:\u001b[0m \u001b[0m_multinomial_loss_grad\u001b[0m\u001b[0;34m(\u001b[0m\u001b[0mx\u001b[0m\u001b[0;34m,\u001b[0m \u001b[0;34m*\u001b[0m\u001b[0margs\u001b[0m\u001b[0;34m)\u001b[0m\u001b[0;34m[\u001b[0m\u001b[0;36m0\u001b[0m\u001b[0;34m:\u001b[0m\u001b[0;36m2\u001b[0m\u001b[0;34m]\u001b[0m\u001b[0;34m\u001b[0m\u001b[0;34m\u001b[0m\u001b[0m\n\u001b[0m\u001b[1;32m    920\u001b[0m         \u001b[0;32melif\u001b[0m \u001b[0msolver\u001b[0m \u001b[0;34m==\u001b[0m \u001b[0;34m'newton-cg'\u001b[0m\u001b[0;34m:\u001b[0m\u001b[0;34m\u001b[0m\u001b[0;34m\u001b[0m\u001b[0m\n\u001b[1;32m    921\u001b[0m             \u001b[0mfunc\u001b[0m \u001b[0;34m=\u001b[0m \u001b[0;32mlambda\u001b[0m \u001b[0mx\u001b[0m\u001b[0;34m,\u001b[0m \u001b[0;34m*\u001b[0m\u001b[0margs\u001b[0m\u001b[0;34m:\u001b[0m \u001b[0m_multinomial_loss\u001b[0m\u001b[0;34m(\u001b[0m\u001b[0mx\u001b[0m\u001b[0;34m,\u001b[0m \u001b[0;34m*\u001b[0m\u001b[0margs\u001b[0m\u001b[0;34m)\u001b[0m\u001b[0;34m[\u001b[0m\u001b[0;36m0\u001b[0m\u001b[0;34m]\u001b[0m\u001b[0;34m\u001b[0m\u001b[0;34m\u001b[0m\u001b[0m\n",
      "\u001b[0;32m//anaconda3/lib/python3.7/site-packages/sklearn/linear_model/logistic.py\u001b[0m in \u001b[0;36m_multinomial_loss_grad\u001b[0;34m(w, X, Y, alpha, sample_weight)\u001b[0m\n\u001b[1;32m    342\u001b[0m     grad = np.zeros((n_classes, n_features + bool(fit_intercept)),\n\u001b[1;32m    343\u001b[0m                     dtype=X.dtype)\n\u001b[0;32m--> 344\u001b[0;31m     \u001b[0mloss\u001b[0m\u001b[0;34m,\u001b[0m \u001b[0mp\u001b[0m\u001b[0;34m,\u001b[0m \u001b[0mw\u001b[0m \u001b[0;34m=\u001b[0m \u001b[0m_multinomial_loss\u001b[0m\u001b[0;34m(\u001b[0m\u001b[0mw\u001b[0m\u001b[0;34m,\u001b[0m \u001b[0mX\u001b[0m\u001b[0;34m,\u001b[0m \u001b[0mY\u001b[0m\u001b[0;34m,\u001b[0m \u001b[0malpha\u001b[0m\u001b[0;34m,\u001b[0m \u001b[0msample_weight\u001b[0m\u001b[0;34m)\u001b[0m\u001b[0;34m\u001b[0m\u001b[0;34m\u001b[0m\u001b[0m\n\u001b[0m\u001b[1;32m    345\u001b[0m     \u001b[0msample_weight\u001b[0m \u001b[0;34m=\u001b[0m \u001b[0msample_weight\u001b[0m\u001b[0;34m[\u001b[0m\u001b[0;34m:\u001b[0m\u001b[0;34m,\u001b[0m \u001b[0mnp\u001b[0m\u001b[0;34m.\u001b[0m\u001b[0mnewaxis\u001b[0m\u001b[0;34m]\u001b[0m\u001b[0;34m\u001b[0m\u001b[0;34m\u001b[0m\u001b[0m\n\u001b[1;32m    346\u001b[0m     \u001b[0mdiff\u001b[0m \u001b[0;34m=\u001b[0m \u001b[0msample_weight\u001b[0m \u001b[0;34m*\u001b[0m \u001b[0;34m(\u001b[0m\u001b[0mp\u001b[0m \u001b[0;34m-\u001b[0m \u001b[0mY\u001b[0m\u001b[0;34m)\u001b[0m\u001b[0;34m\u001b[0m\u001b[0;34m\u001b[0m\u001b[0m\n",
      "\u001b[0;32m//anaconda3/lib/python3.7/site-packages/sklearn/linear_model/logistic.py\u001b[0m in \u001b[0;36m_multinomial_loss\u001b[0;34m(w, X, Y, alpha, sample_weight)\u001b[0m\n\u001b[1;32m    292\u001b[0m     \u001b[0mp\u001b[0m \u001b[0;34m=\u001b[0m \u001b[0msafe_sparse_dot\u001b[0m\u001b[0;34m(\u001b[0m\u001b[0mX\u001b[0m\u001b[0;34m,\u001b[0m \u001b[0mw\u001b[0m\u001b[0;34m.\u001b[0m\u001b[0mT\u001b[0m\u001b[0;34m)\u001b[0m\u001b[0;34m\u001b[0m\u001b[0;34m\u001b[0m\u001b[0m\n\u001b[1;32m    293\u001b[0m     \u001b[0mp\u001b[0m \u001b[0;34m+=\u001b[0m \u001b[0mintercept\u001b[0m\u001b[0;34m\u001b[0m\u001b[0;34m\u001b[0m\u001b[0m\n\u001b[0;32m--> 294\u001b[0;31m     \u001b[0mp\u001b[0m \u001b[0;34m-=\u001b[0m \u001b[0mlogsumexp\u001b[0m\u001b[0;34m(\u001b[0m\u001b[0mp\u001b[0m\u001b[0;34m,\u001b[0m \u001b[0maxis\u001b[0m\u001b[0;34m=\u001b[0m\u001b[0;36m1\u001b[0m\u001b[0;34m)\u001b[0m\u001b[0;34m[\u001b[0m\u001b[0;34m:\u001b[0m\u001b[0;34m,\u001b[0m \u001b[0mnp\u001b[0m\u001b[0;34m.\u001b[0m\u001b[0mnewaxis\u001b[0m\u001b[0;34m]\u001b[0m\u001b[0;34m\u001b[0m\u001b[0;34m\u001b[0m\u001b[0m\n\u001b[0m\u001b[1;32m    295\u001b[0m     \u001b[0mloss\u001b[0m \u001b[0;34m=\u001b[0m \u001b[0;34m-\u001b[0m\u001b[0;34m(\u001b[0m\u001b[0msample_weight\u001b[0m \u001b[0;34m*\u001b[0m \u001b[0mY\u001b[0m \u001b[0;34m*\u001b[0m \u001b[0mp\u001b[0m\u001b[0;34m)\u001b[0m\u001b[0;34m.\u001b[0m\u001b[0msum\u001b[0m\u001b[0;34m(\u001b[0m\u001b[0;34m)\u001b[0m\u001b[0;34m\u001b[0m\u001b[0;34m\u001b[0m\u001b[0m\n\u001b[1;32m    296\u001b[0m     \u001b[0mloss\u001b[0m \u001b[0;34m+=\u001b[0m \u001b[0;36m0.5\u001b[0m \u001b[0;34m*\u001b[0m \u001b[0malpha\u001b[0m \u001b[0;34m*\u001b[0m \u001b[0msquared_norm\u001b[0m\u001b[0;34m(\u001b[0m\u001b[0mw\u001b[0m\u001b[0;34m)\u001b[0m\u001b[0;34m\u001b[0m\u001b[0;34m\u001b[0m\u001b[0m\n",
      "\u001b[0;32m//anaconda3/lib/python3.7/site-packages/scipy/special/_logsumexp.py\u001b[0m in \u001b[0;36mlogsumexp\u001b[0;34m(a, axis, b, keepdims, return_sign)\u001b[0m\n\u001b[1;32m    110\u001b[0m         \u001b[0mtmp\u001b[0m \u001b[0;34m=\u001b[0m \u001b[0mb\u001b[0m \u001b[0;34m*\u001b[0m \u001b[0mnp\u001b[0m\u001b[0;34m.\u001b[0m\u001b[0mexp\u001b[0m\u001b[0;34m(\u001b[0m\u001b[0ma\u001b[0m \u001b[0;34m-\u001b[0m \u001b[0ma_max\u001b[0m\u001b[0;34m)\u001b[0m\u001b[0;34m\u001b[0m\u001b[0;34m\u001b[0m\u001b[0m\n\u001b[1;32m    111\u001b[0m     \u001b[0;32melse\u001b[0m\u001b[0;34m:\u001b[0m\u001b[0;34m\u001b[0m\u001b[0;34m\u001b[0m\u001b[0m\n\u001b[0;32m--> 112\u001b[0;31m         \u001b[0mtmp\u001b[0m \u001b[0;34m=\u001b[0m \u001b[0mnp\u001b[0m\u001b[0;34m.\u001b[0m\u001b[0mexp\u001b[0m\u001b[0;34m(\u001b[0m\u001b[0ma\u001b[0m \u001b[0;34m-\u001b[0m \u001b[0ma_max\u001b[0m\u001b[0;34m)\u001b[0m\u001b[0;34m\u001b[0m\u001b[0;34m\u001b[0m\u001b[0m\n\u001b[0m\u001b[1;32m    113\u001b[0m \u001b[0;34m\u001b[0m\u001b[0m\n\u001b[1;32m    114\u001b[0m     \u001b[0;31m# suppress warnings about log of zero\u001b[0m\u001b[0;34m\u001b[0m\u001b[0;34m\u001b[0m\u001b[0;34m\u001b[0m\u001b[0m\n",
      "\u001b[0;31mKeyboardInterrupt\u001b[0m: "
     ]
    }
   ],
   "source": [
    "logreg_reg_clf, logreg_reg_y_pred, logreg_reg_elapsed_time = model_fitting(X_train_reg, y_train_reg, X_test_reg, \"logreg\", \"regress\")"
   ]
  },
  {
   "cell_type": "markdown",
   "metadata": {},
   "source": [
    "### Linear Regressions"
   ]
  },
  {
   "cell_type": "code",
   "execution_count": 180,
   "metadata": {},
   "outputs": [],
   "source": [
    "# IGNORE: Category classification\n",
    "linreg_class_clf, linreg_class_y_pred, linreg_class_elapsed_time = model_fitting(X_train_class, y_train_class, X_test_class, \"linreg\", \"class\")\n",
    "linreg_class_y_pred = np.around(linreg_class_y_pred)"
   ]
  },
  {
   "cell_type": "code",
   "execution_count": 181,
   "metadata": {},
   "outputs": [],
   "source": [
    "# Crime score classification\n",
    "linreg_reg_clf, linreg_reg_y_pred, linreg_reg_elapsed_time = model_fitting(X_train_reg, y_train_reg, X_test_reg, \"linreg\", \"regress\")"
   ]
  },
  {
   "cell_type": "markdown",
   "metadata": {},
   "source": [
    "## Plots"
   ]
  },
  {
   "cell_type": "markdown",
   "metadata": {},
   "source": [
    "### Time Plot"
   ]
  },
  {
   "cell_type": "code",
   "execution_count": 182,
   "metadata": {},
   "outputs": [
    {
     "data": {
      "image/png": "[encoded data removed]",
      "text/plain": [
       "<Figure size 864x432 with 1 Axes>"
      ]
     },
     "metadata": {
      "needs_background": "light"
     },
     "output_type": "display_data"
    }
   ],
   "source": [
    "times_class = np.array([dt_class_elapsed_time, rf_class_elapsed_time, nb_class_elapsed_time, linreg_class_elapsed_time])\n",
    "# times_class = np.log(times_class)\n",
    "# times_class = times_class - min(times_class)\n",
    "times_reg = np.array([dt_reg_elapsed_time, rf_reg_elapsed_time, nb_reg_elapsed_time, linreg_reg_elapsed_time])\n",
    "# times_reg = np.log(times_reg)\n",
    "# times_reg = times_reg - min(times_reg)\n",
    "\n",
    "plt.figure(figsize=(12, 6))\n",
    "plt.bar([i - 0.125 for i in range(len(times_class))], times_class, width=0.25, color=\"gold\")\n",
    "for i in range(len(times_class)):\n",
    "    plt.text(i - 0.125, times_class[i], round(times_class[i], 2), va='bottom', ha='center')\n",
    "plt.bar([i + 0.125 for i in range(len(times_reg))], times_reg, width=0.25, color=\"red\")\n",
    "for i in range(len(times_reg)):\n",
    "    plt.text(i + 0.125, times_reg[i], round(times_reg[i], 2), va='bottom', ha='center')\n",
    "\n",
    "\n",
    "plt.xticks([i for i in range(len(times_class))], [\"DT\", \"RF\", \"NBC\", \"LinReg\"])\n",
    "plt.legend([\"Categories\", \"Crime Scores\"])\n",
    "plt.xlabel(\"Classification Method\")\n",
    "plt.ylabel(\"Time (seconds)\")\n",
    "plt.title(\"Recalls of Crime Categories (1-4) across each Classification Method\")\n",
    "\n",
    "plt.savefig('images/Supervised_Algs/elapsed_times.png')\n",
    "plt.show()"
   ]
  },
  {
   "cell_type": "markdown",
   "metadata": {},
   "source": [
    "### Accuracy, Precision, Recall Plots of Classification"
   ]
  },
  {
   "cell_type": "code",
   "execution_count": 183,
   "metadata": {},
   "outputs": [
    {
     "name": "stderr",
     "output_type": "stream",
     "text": [
      "//anaconda3/lib/python3.7/site-packages/sklearn/metrics/classification.py:1437: UndefinedMetricWarning: Precision is ill-defined and being set to 0.0 in labels with no predicted samples.\n",
      "  'precision', 'predicted', average, warn_for)\n"
     ]
    },
    {
     "data": {
      "image/png": "[encoded data removed]",
      "text/plain": [
       "<Figure size 1296x1296 with 3 Axes>"
      ]
     },
     "metadata": {
      "needs_background": "light"
     },
     "output_type": "display_data"
    }
   ],
   "source": [
    "f, (ax0, ax1, ax2) = plt.subplots(3, 1, figsize=(18,18))\n",
    "\n",
    "y_preds = [dt_class_y_pred, rf_class_y_pred, nb_class_y_pred, linreg_class_y_pred]\n",
    "y_preds_colors = [\"red\", \"green\", \"lightblue\", \"gold\"]\n",
    "\n",
    "for i, y_pred in enumerate(y_preds):\n",
    "    acc_prec_rec = apr(y_test_class, y_pred)\n",
    "\n",
    "    ax0.bar(i, acc_prec_rec[0], width=0.5)\n",
    "    ax0.text(i, acc_prec_rec[0], round(acc_prec_rec[0], 3), va='bottom', ha='center')\n",
    "\n",
    "    for j in range(len(acc_prec_rec[1])):\n",
    "        ax1.bar(2.5 * i - 0.75 + 0.5 * j, acc_prec_rec[1][j], width=0.5, color=y_preds_colors[j])\n",
    "        ax1.text(2.5 * i - 0.75 + 0.5 * j, acc_prec_rec[1][j],\n",
    "                 round(acc_prec_rec[1][j], 3), va='bottom', ha='center')\n",
    "        \n",
    "        ax2.bar(2.5 * i - 0.75 + 0.5 * j, acc_prec_rec[2][j], width=0.5, color=y_preds_colors[j])\n",
    "        ax2.text(2.5 * i - 0.75 + 0.5 * j, acc_prec_rec[2][j],\n",
    "                 round(acc_prec_rec[2][j], 3), va='bottom', ha='center')\n",
    "\n",
    "# Accuracy Plot\n",
    "plt.sca(ax0)\n",
    "# plt.legend([\"DTC\", \"RFC\", \"NBC\", \"SVC\", \"LogReg\", \"LinReg\"])\n",
    "classNames = [\"DTC\", \"RFC\", \"NBC\", \"LinReg\"]\n",
    "plt.xticks([j for j in range(len(classNames))], classNames)\n",
    "\n",
    "max_acc = 0\n",
    "for i in range(1, 5):\n",
    "    max_acc = max(max_acc, len(training_categories[training_categories[\"Crime Category\"] == i]) / len(training_categories))\n",
    "\n",
    "plt.plot([0 - 0.625, len(classNames) - 1 + 0.625], [max_acc, max_acc], ':r')\n",
    "plt.text(0, max_acc, str(round(max_acc, 3)), va='bottom', ha='center')\n",
    "plt.margins(x=0, y=0.1, tight=True)\n",
    "plt.legend([\"Lower Accuracy Bound\"])\n",
    "plt.xlabel(\"Classification Method\")\n",
    "plt.ylabel(\"Category Accuracy\")\n",
    "plt.title(\"Accuracies of Crime Categories across each Classification Method\")\n",
    "\n",
    "# Precision Plot\n",
    "plt.sca(ax1)\n",
    "plt.legend([\"Category 1\", \"Category 2\", \"Category 3\", \"Category 4\"])\n",
    "plt.xticks([j * 2.5 for j in range(len(classNames))], classNames)\n",
    "plt.xlabel(\"Classification Method\")\n",
    "plt.ylabel(\"Category Precision\")\n",
    "plt.title(\"Precisions of Crime Categories (1-4) across each Classification Method\")\n",
    "\n",
    "# Recall Plot\n",
    "plt.sca(ax2)\n",
    "plt.legend([\"Category 1\", \"Category 2\", \"Category 3\", \"Category 4\"])\n",
    "plt.xticks([j * 2.5 for j in range(len(classNames))], classNames)\n",
    "plt.xlabel(\"Classification Method\")\n",
    "plt.ylabel(\"Category Recall\")\n",
    "plt.title(\"Recalls of Crime Categories (1-4) across each Classification Method\")\n",
    "\n",
    "plt.savefig('images/Supervised_Algs/apr_categories.png')\n",
    "plt.show()"
   ]
  },
  {
   "cell_type": "markdown",
   "metadata": {},
   "source": [
    "### RMSE of Regression"
   ]
  },
  {
   "cell_type": "code",
   "execution_count": 184,
   "metadata": {},
   "outputs": [
    {
     "data": {
      "image/png": "[encoded data removed]",
      "text/plain": [
       "<Figure size 864x432 with 1 Axes>"
      ]
     },
     "metadata": {
      "needs_background": "light"
     },
     "output_type": "display_data"
    }
   ],
   "source": [
    "plt.figure(figsize=(12, 6))\n",
    "for i, y_pred in enumerate([dt_reg_y_pred, rf_reg_y_pred, nb_reg_y_pred, linreg_reg_y_pred]):\n",
    "    rmse_val = rmse(y_test_reg, y_pred)\n",
    "    plt.bar(i, rmse_val)\n",
    "    plt.text(i, rmse_val, round(rmse_val, 2), va='bottom', ha='center')\n",
    "\n",
    "regNames = [\"DTR\", \"RFR\", \"NBR\", \"LinReg\"]\n",
    "plt.legend(regNames, loc='lower right')\n",
    "plt.xticks([j for j in range(len(regNames))], regNames)\n",
    "plt.xlabel(\"Regression Method\")\n",
    "plt.ylabel(\"RMSE\")\n",
    "\n",
    "plt.savefig('images/Supervised_Algs/rmse.png')\n",
    "plt.show()"
   ]
  },
  {
   "cell_type": "markdown",
   "metadata": {},
   "source": [
    "## Other stuff"
   ]
  },
  {
   "cell_type": "code",
   "execution_count": 26,
   "metadata": {},
   "outputs": [
    {
     "name": "stdout",
     "output_type": "stream",
     "text": [
      "0.002731061246896914\n",
      "0.13589014988036502\n",
      "0.3110889373029821\n",
      "0.550289851569756\n",
      "5824\n",
      "3494\n"
     ]
    }
   ],
   "source": [
    "print(len(training_categories[training_categories[\"Crime Category\"] == 1]) / len(training_categories))\n",
    "print(len(training_categories[training_categories[\"Crime Category\"] == 2]) / len(training_categories))\n",
    "print(len(training_categories[training_categories[\"Crime Category\"] == 3]) / len(training_categories))\n",
    "print(len(training_categories[training_categories[\"Crime Category\"] == 4]) / len(training_categories))\n",
    "\n",
    "print(max(training_crime_scores[\"Crime Score\"]))\n",
    "print(max(test_crime_scores[\"Crime Score\"]))"
   ]
  },
  {
   "cell_type": "code",
   "execution_count": 118,
   "metadata": {},
   "outputs": [
    {
     "data": {
      "text/html": [
       "<div>\n",
       "<style scoped>\n",
       "    .dataframe tbody tr th:only-of-type {\n",
       "        vertical-align: middle;\n",
       "    }\n",
       "\n",
       "    .dataframe tbody tr th {\n",
       "        vertical-align: top;\n",
       "    }\n",
       "\n",
       "    .dataframe thead th {\n",
       "        text-align: right;\n",
       "    }\n",
       "</style>\n",
       "<table border=\"1\" class=\"dataframe\">\n",
       "  <thead>\n",
       "    <tr style=\"text-align: right;\">\n",
       "      <th></th>\n",
       "      <th>Neighborhood</th>\n",
       "      <th>Crime Score</th>\n",
       "    </tr>\n",
       "  </thead>\n",
       "  <tbody>\n",
       "    <tr>\n",
       "      <th>0</th>\n",
       "      <td>Downtown</td>\n",
       "      <td>23254.0</td>\n",
       "    </tr>\n",
       "    <tr>\n",
       "      <th>1</th>\n",
       "      <td>Greenbriar</td>\n",
       "      <td>4742.0</td>\n",
       "    </tr>\n",
       "    <tr>\n",
       "      <th>2</th>\n",
       "      <td>Wildwood (NPU-C)</td>\n",
       "      <td>1376.0</td>\n",
       "    </tr>\n",
       "    <tr>\n",
       "      <th>3</th>\n",
       "      <td>Lindbergh/Morosgo</td>\n",
       "      <td>3514.0</td>\n",
       "    </tr>\n",
       "    <tr>\n",
       "      <th>4</th>\n",
       "      <td>Grant Park</td>\n",
       "      <td>4016.0</td>\n",
       "    </tr>\n",
       "  </tbody>\n",
       "</table>\n",
       "</div>"
      ],
      "text/plain": [
       "        Neighborhood  Crime Score\n",
       "0           Downtown      23254.0\n",
       "1         Greenbriar       4742.0\n",
       "2   Wildwood (NPU-C)       1376.0\n",
       "3  Lindbergh/Morosgo       3514.0\n",
       "4         Grant Park       4016.0"
      ]
     },
     "execution_count": 118,
     "metadata": {},
     "output_type": "execute_result"
    }
   ],
   "source": [
    "data = pd.read_csv(\"data/Supervised_Algs/cobra-counts2019.csv\", usecols = lambda column : column in [\"Neighborhood\", \"Category 1\", \"Category 2\", \"Category 3\", \"Category 4\"])\n",
    "\n",
    "# data[[\"Category 1\", \"Category 2\", \"Category 3\", \"Category 4\"]].sum(axis=0)\n",
    "\n",
    "newData = []\n",
    "for e in pd.unique(data[\"Neighborhood\"]):\n",
    "    cat_counts = data[data[\"Neighborhood\"] == e][[\"Category 1\", \"Category 2\", \"Category 3\", \"Category 4\"]].sum(axis=0)\n",
    "    newData.append([e, cat_counts[\"Category 1\"], cat_counts[\"Category 2\"], cat_counts[\"Category 3\"], cat_counts[\"Category 4\"]])\n",
    "\n",
    "df = pd.DataFrame(newData, columns=[\"Neighborhood\", \"Category 1\", \"Category 2\", \"Category 3\", \"Category 4\"])\n",
    "df['Crime Score'] = 1000 * df['Category 1'] + 100 * df['Category 2'] + 10 * data['Category 3'] + 1 * df['Category 4']\n",
    "\n",
    "df = df.drop([\"Category 1\", \"Category 2\", \"Category 3\", \"Category 4\"], 1)\n",
    "\n",
    "df.head()"
   ]
  },
  {
   "cell_type": "code",
   "execution_count": 250,
   "metadata": {},
   "outputs": [],
   "source": [
    "# apr(y_test_class, nb_class_y_pred)\n",
    "\n",
    "# a, b, c = model_fitting(X_train_class, y_train_class, X_test_class, \"nb\", \"class\")\n",
    "\n",
    "# newData = []\n",
    "# for e in pd.unique(X_test_class[\"Neighborhood\"]):\n",
    "#     cat_counts = X_test_class[X_test_class[\"Neighborhood\"] == e][[\"Category 1\", \"Category 2\", \"Category 3\", \"Category 4\"]].sum(axis=0)\n",
    "#     newData.append([e, cat_counts[\"Category 1\"], cat_counts[\"Category 2\"], cat_counts[\"Category 3\"], cat_counts[\"Category 4\"]])\n",
    "\n",
    "data2 = pd.read_csv(\"data/Supervised_Algs/cobra-counts2019.csv\", usecols = lambda column : column not in [\"Date\", \"Year\", \"Day of Month\"])\n",
    "# data2['Crime Score'] = 1000 * data2['Category 1'] + 100 * data2['Category 2'] + 10 * data2['Category 3'] + 1 * data2['Category 4']\n",
    "data2 = data2.drop([\"Category 1\", \"Category 2\", \"Category 3\", \"Category 4\", \"Month\", \"Day of Week\"], 1)\n",
    "# print(data2)\n",
    "# list(le.inverse_transform(le.transform(data2[\"Neighborhood\"])))\n",
    "# data2\n",
    "\n",
    "# data2[\"Neighborhood\"] = le.transform(data2[\"Neighborhood\"])\n",
    "# data2.head()\n",
    "\n",
    "# newData2 = []\n",
    "# for e in pd.unique(data2[\"Neighborhood\"]):\n",
    "#     cat_counts = data2[data2[\"Neighborhood\"] == e][[\"Category 1\", \"Category 2\", \"Category 3\", \"Category 4\"]].sum(axis=0)\n",
    "#     newData2.append([e, cat_counts[\"Category 1\"], cat_counts[\"Category 2\"], cat_counts[\"Category 3\"], cat_counts[\"Category 4\"]])\n",
    "\n",
    "# df2 = pd.DataFrame(newData2, columns=[\"Neighborhood\", \"Category 1\", \"Category 2\", \"Category 3\", \"Category 4\"])\n",
    "# df2.head()\n",
    "# list(le.classes_)\n",
    "# le = preprocessing.LabelEncoder()\n",
    "# le.fit(data2[\"Neighborhood\"])\n",
    "# data2[\"Neighborhood\"] = le.transform(data2[\"Neighborhood\"])\n",
    "# data2.head()\n",
    "\n",
    "# a, b, c = model_fitting(X_train_reg, y_train_reg, X_test_reg, \"nb\", \"class\")\n",
    "# print(np.sum(b))\n",
    "# rmse(y_test_reg, b)\n",
    "data2[\"Crime Score\"] = nb_reg_y_pred\n",
    "newData2 = []\n",
    "for e in pd.unique(data2[\"Neighborhood\"]):\n",
    "    cs_counts = data2[data2[\"Neighborhood\"] == e][[\"Crime Score\"]].sum(axis=0)\n",
    "    newData2.append([e, cs_counts[\"Crime Score\"]])\n",
    "# data2\n",
    "df2 = pd.DataFrame(newData2, columns=[\"Neighborhood\", \"Crime Score\"])\n",
    "df2.to_csv(\"data/Supervised_Algs/visualize_predicted_scores.csv\", index=False)"
   ]
  },
  {
   "cell_type": "code",
   "execution_count": null,
   "metadata": {},
   "outputs": [],
   "source": []
  }
 ],
 "metadata": {
  "kernelspec": {
   "display_name": "Python 3",
   "language": "python",
   "name": "python3"
  },
  "language_info": {
   "codemirror_mode": {
    "name": "ipython",
    "version": 3
   },
   "file_extension": ".py",
   "mimetype": "text/x-python",
   "name": "python",
   "nbconvert_exporter": "python",
   "pygments_lexer": "ipython3",
   "version": "3.7.3"
  }
 },
 "nbformat": 4,
 "nbformat_minor": 4
}
